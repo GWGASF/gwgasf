{
 "cells": [
  {
   "cell_type": "markdown",
   "metadata": {},
   "source": [
    "# Unraveling Gravitational Ripples: Neural Network Classification\n",
    "### GASF vs FFT with New Data\n",
    "### **GWGASF Members:** $Daniel\\;Fredin^{1}$, $Cole\\;Welch^{1}$, $Arif\\;Chu^{1}$, $Chia-Jui\\;Chou^{2}$, $Andy\\;Chen^{2}$, & $Shih-Chieh\\;Hsu^{1}$\n",
    "#### $^{1}University\\;of\\;Washington,\\;Seattle,\\;USA$; $^{2}National\\;Yang\\;Ming\\;Chiao\\;Tung\\;University,\\;Hsinchu\\;City,\\;TW$"
   ]
  },
  {
   "cell_type": "markdown",
   "metadata": {},
   "source": [
    "--------------------"
   ]
  },
  {
   "cell_type": "code",
   "execution_count": 1,
   "metadata": {},
   "outputs": [],
   "source": [
    "%matplotlib inline\n",
    "\n",
    "import numpy as np\n",
    "import pandas as pd\n",
    "import h5py \n",
    "import matplotlib.pyplot as plt\n",
    "import seaborn as sns\n",
    "import torch\n",
    "from sklearn.preprocessing import StandardScaler\n",
    "\n",
    "from pyts.image import GramianAngularField\n",
    "\n",
    "from scipy import signal\n",
    "from gwpy.timeseries import TimeSeries\n",
    "from gwpy.signal import filter_design\n",
    "\n",
    "from sklearn.metrics import confusion_matrix\n",
    "from sklearn import metrics\n",
    "from timeit import default_timer as timer\n",
    "from tqdm import tqdm, tnrange, tqdm_notebook, trange\n",
    "# from tqdm.notebook import trange\n",
    "\n",
    "# Initializes numpy and pytorch random seeds for reproducibility \n",
    "seed = 55\n",
    "np.random.seed(seed)\n",
    "torch.manual_seed(seed)\n",
    "torch.cuda.manual_seed(seed)"
   ]
  },
  {
   "cell_type": "code",
   "execution_count": 2,
   "metadata": {},
   "outputs": [
    {
     "name": "stdout",
     "output_type": "stream",
     "text": [
      "Using device: cuda\n",
      "\n",
      "NVIDIA GeForce GTX 1650\n",
      "Memory Usage:\n",
      "Allocated: 0.0 GB\n",
      "Cached:    0.0 GB\n"
     ]
    }
   ],
   "source": [
    "# setting device on GPU if available, else CPU\n",
    "device = torch.device('cuda' if torch.cuda.is_available() else 'cpu')\n",
    "print('Using device:', device)\n",
    "print()\n",
    "\n",
    "#Additional Info when using cuda\n",
    "if device.type == 'cuda':\n",
    "    print(torch.cuda.get_device_name(0))\n",
    "    print('Memory Usage:')\n",
    "    print('Allocated:', round(torch.cuda.memory_allocated(0)/1024**3,1), 'GB')\n",
    "    print('Cached:   ', round(torch.cuda.memory_reserved(0)/1024**3,1), 'GB')"
   ]
  },
  {
   "cell_type": "markdown",
   "metadata": {},
   "source": [
    "# Preparing the data"
   ]
  },
  {
   "cell_type": "code",
   "execution_count": 3,
   "metadata": {},
   "outputs": [],
   "source": [
    "### -------------Load dataset------------- ###\n",
    "\n",
    "# Define the file name\n",
    "filename = 'classify_data.h5'\n",
    "\n",
    "# Open the file\n",
    "with h5py.File(filename, 'r') as file:\n",
    "    # Load the datasets\n",
    "    bbh_train = np.array(file['Training']['bbh'])\n",
    "    bbh_val = np.array(file['Validation']['bbh'])\n",
    "    glitch_train = np.array(file['Training']['glitch'])\n",
    "    glitch_val = np.array(file['Validation']['glitch'])\n",
    "\n",
    "\n",
    "### -------------Label our data as background or signal------------- ###\n",
    "\n",
    "# Allows us to easily apply labels to our data to denote it as signal or background for classification.\n",
    "anomaly_class = {\n",
    "    'Glitch': 0,\n",
    "    'Signal': 1\n",
    "}\n",
    "\n",
    "# ID our data as background or signal.\n",
    "glitch_train_ids = np.full(glitch_train.shape[0], anomaly_class['Glitch'], dtype=int)\n",
    "glitch_val_ids = np.full(glitch_val.shape[0], anomaly_class['Glitch'], dtype=int)\n",
    "\n",
    "bbh_train_ids = np.full(bbh_train.shape[0], anomaly_class['Signal'], dtype=int)\n",
    "bbh_val_ids = np.full(bbh_val.shape[0], anomaly_class['Signal'], dtype=int)\n",
    "\n",
    "\n",
    "\n",
    "### -------------Merge dataset------------- ###\n",
    "\n",
    "# Stick our background and signal data together for training and testing.\n",
    "x_train = np.concatenate((glitch_train, bbh_train), axis=0).transpose((0,2,1))\n",
    "y_train = np.concatenate((glitch_train_ids, bbh_train_ids), axis=0)\n",
    "\n",
    "x_val_data = np.concatenate((glitch_val, bbh_val), axis=0).transpose((0,2,1))\n",
    "y_val = np.concatenate((glitch_val_ids, bbh_val_ids), axis=0)\n",
    "\n",
    "\n",
    "\n",
    "### -------------Shuffle dataset------------- ###\n",
    "\n",
    "# Shuffle the training data using a randomly chosen permutation. This ensures we don't encounter artifacts from background \n",
    "# and signal data being clumped together.\n",
    "idx = np.random.permutation(len(x_train))\n",
    "x_train = x_train[idx]\n",
    "y_train = y_train[idx]"
   ]
  },
  {
   "cell_type": "markdown",
   "metadata": {},
   "source": [
    "#### Whitening and filtering"
   ]
  },
  {
   "cell_type": "code",
   "execution_count": 4,
   "metadata": {},
   "outputs": [
    {
     "name": "stderr",
     "output_type": "stream",
     "text": [
      "  0%|          | 0/25598 [00:00<?, ?it/s]"
     ]
    },
    {
     "name": "stderr",
     "output_type": "stream",
     "text": [
      "100%|██████████| 25598/25598 [13:48<00:00, 30.89it/s]\n",
      "100%|██████████| 25598/25598 [13:29<00:00, 31.61it/s]\n",
      "100%|██████████| 598/598 [00:18<00:00, 32.36it/s]\n",
      "100%|██████████| 598/598 [00:18<00:00, 32.28it/s]\n"
     ]
    }
   ],
   "source": [
    "### -------------Split detector dataset------------- ###\n",
    "\n",
    "# Each 2D dataset of gravitational wave data comes from one of two detectors: 1  and 2 \n",
    "# Split the data from these two detectors since we can only pass 2D images into our CNN to train.\n",
    "x_train_dec1_raw = x_train[:,:,0]\n",
    "x_train_dec2_raw = x_train[:,:,1]\n",
    "\n",
    "x_val_dec1_raw = x_val_data[:,:,0]\n",
    "x_val_dec2_raw = x_val_data[:,:,1]\n",
    "\n",
    "\n",
    "\n",
    "\n",
    "# Function to process a single item\n",
    "def process_data(raw_data):\n",
    "\n",
    "\n",
    "    # Bandpass filter for 50hz and 250hz\n",
    "    bp = filter_design.bandpass(50, 250, 4096)\n",
    "\n",
    "    ## First three harmonics of the 60 Hz AC mains power:\n",
    "    notches = [filter_design.notch(line, 4096) for line in (60, 120, 180)]\n",
    "    zpk = filter_design.concatenate_zpks(bp, *notches)\n",
    "\n",
    "\n",
    "\n",
    "    hdata = TimeSeries(raw_data)\n",
    "    hdata = hdata.whiten() \n",
    "    hdata = hdata.crop(*hdata.span.contract(1)) # The whitened timeseries data\n",
    "\n",
    "    hfilt = hdata.filter(zpk, filtfilt=True)\n",
    "    hfilt = hfilt.crop(*hfilt.span.contract(1)) # The filtered and whitened timeseries data\n",
    "\n",
    "    return hdata, hfilt\n",
    "\n",
    "\n",
    "\n",
    "### -------------Process training data------------- ###\n",
    "\n",
    "x_train_dec1_data_arr = []\n",
    "x_train_dec1_filt_arr = []\n",
    "\n",
    "x_train_dec2_data_arr = []\n",
    "x_train_dec2_filt_arr = []\n",
    "\n",
    "\n",
    "\n",
    "x_val_dec1_data_arr = []\n",
    "x_val_dec1_filt_arr = []\n",
    "\n",
    "x_val_dec2_data_arr = []\n",
    "x_val_dec2_filt_arr = []\n",
    "\n",
    "\n",
    "for raw_data in tqdm(x_train_dec1_raw):\n",
    "    hdata, hfilt = process_data(raw_data)\n",
    "    x_train_dec1_data_arr.append(hdata)\n",
    "    x_train_dec1_filt_arr.append(hfilt)\n",
    "\n",
    "x_train_dec1_data_arr = np.asarray(x_train_dec1_data_arr)\n",
    "x_train_dec1_filt_arr = np.asarray(x_train_dec1_filt_arr)\n",
    "\n",
    "\n",
    "for raw_data in tqdm(x_train_dec2_raw):\n",
    "    hdata, hfilt = process_data(raw_data)\n",
    "    x_train_dec2_data_arr.append(hdata)\n",
    "    x_train_dec2_filt_arr.append(hfilt)\n",
    "\n",
    "x_train_dec2_data_arr = np.asarray(x_train_dec2_data_arr)\n",
    "x_train_dec2_filt_arr = np.asarray(x_train_dec2_filt_arr)\n",
    "\n",
    "\n",
    "for raw_data in tqdm(x_val_dec1_raw):\n",
    "    hdata, hfilt = process_data(raw_data)\n",
    "    x_val_dec1_data_arr.append(hdata)\n",
    "    x_val_dec1_filt_arr.append(hfilt)\n",
    "\n",
    "x_val_dec1_data_arr = np.asarray(x_val_dec1_data_arr)\n",
    "x_val_dec1_filt_arr = np.asarray(x_val_dec1_filt_arr)\n",
    "\n",
    "\n",
    "for raw_data in tqdm(x_val_dec2_raw):\n",
    "    hdata, hfilt = process_data(raw_data)\n",
    "    x_val_dec2_data_arr.append(hdata)\n",
    "    x_val_dec2_filt_arr.append(hfilt)\n",
    "\n",
    "x_val_dec2_data_arr = np.asarray(x_val_dec2_data_arr)\n",
    "x_val_dec2_filt_arr = np.asarray(x_val_dec2_filt_arr)"
   ]
  },
  {
   "cell_type": "code",
   "execution_count": 5,
   "metadata": {},
   "outputs": [],
   "source": [
    "### Write filtered and whitened data to file\n",
    "filename = 'classify_data_filtered.h5'\n",
    "hf = h5py.File(filename, 'w')\n",
    "\n",
    "g1 = hf.create_group('Training/Det1')\n",
    "g1.create_dataset('whitened',data=x_train_dec1_data_arr, compression=\"gzip\", compression_opts = 5)\n",
    "g1.create_dataset('Fwhitened',data=x_train_dec1_filt_arr, compression=\"gzip\", compression_opts = 5)\n",
    "\n",
    "\n",
    "g2 = hf.create_group('Training/Det2')\n",
    "g2.create_dataset('whitened',data=x_train_dec2_data_arr, compression=\"gzip\", compression_opts = 5)\n",
    "g2.create_dataset('Fwhitened',data=x_train_dec2_filt_arr, compression=\"gzip\", compression_opts = 5)\n",
    "\n",
    "g3 = hf.create_group('Validation/Det1')\n",
    "g3.create_dataset('whitened',data=x_val_dec1_data_arr, compression=\"gzip\", compression_opts = 5)\n",
    "g3.create_dataset('Fwhitened',data=x_val_dec1_filt_arr, compression=\"gzip\", compression_opts = 5)\n",
    "\n",
    "\n",
    "g4 = hf.create_group('Validation/Det2')\n",
    "g4.create_dataset('whitened',data=x_val_dec2_data_arr, compression=\"gzip\", compression_opts = 5)\n",
    "g4.create_dataset('Fwhitened',data=x_val_dec2_filt_arr, compression=\"gzip\", compression_opts = 5)\n",
    "\n",
    "hf.close()"
   ]
  },
  {
   "cell_type": "markdown",
   "metadata": {},
   "source": [
    "---"
   ]
  },
  {
   "cell_type": "markdown",
   "metadata": {},
   "source": [
    "## NOTE: RESTART GASF HERE WITHOUT HAVING TO WHITEN AND FILTER"
   ]
  },
  {
   "cell_type": "code",
   "execution_count": 18,
   "metadata": {},
   "outputs": [],
   "source": [
    "#### START HERE IF YOU NEED TO RESTART WITHOUT HAVING TO WHITEN AND FILTER\n",
    "\n",
    "y_train = np.concatenate((glitch_train_ids, bbh_train_ids), axis=0)\n",
    "y_train = y_train[idx]\n",
    "\n",
    "### Read filtered data from file\n",
    "filename = 'classify_data_filtered.h5'\n",
    "\n",
    "# Open the file\n",
    "with h5py.File(filename, 'r') as file:\n",
    "    # Load the datasets\n",
    "\n",
    "    x_train_dec1_data_arr = np.array(file['Training/Det1']['whitened'])\n",
    "    x_train_dec2_data_arr = np.array(file['Training/Det2']['whitened'])\n",
    "    x_train_dec1_filt_arr = np.array(file['Training/Det1']['Fwhitened'])\n",
    "    x_train_dec2_filt_arr = np.array(file['Training/Det2']['Fwhitened'])\n",
    "\n",
    "\n",
    "    x_val_dec1_data_arr = np.array(file['Validation/Det1']['whitened'])\n",
    "    x_val_dec2_data_arr = np.array(file['Validation/Det2']['whitened'])\n",
    "    x_val_dec1_filt_arr = np.array(file['Validation/Det1']['Fwhitened'])\n",
    "    x_val_dec2_filt_arr = np.array(file['Validation/Det2']['Fwhitened'])\n",
    "    \n",
    "    file.close()\n",
    "\n",
    "\n",
    "# # The filtered data\n",
    "# x_train_dec1 = x_train_dec1_filt_arr\n",
    "# x_train_dec2 = x_train_dec2_filt_arr\n",
    "# x_val_dec1 = x_val_dec1_filt_arr\n",
    "# x_val_dec2 = x_val_dec2_filt_arr\n",
    "\n",
    "# The whitened data\n",
    "x_train_dec1 = x_train_dec1_data_arr\n",
    "x_train_dec2 = x_train_dec2_data_arr\n",
    "x_val_dec1 = x_val_dec1_data_arr\n",
    "x_val_dec2 = x_val_dec2_data_arr"
   ]
  },
  {
   "cell_type": "markdown",
   "metadata": {},
   "source": [
    "-----"
   ]
  },
  {
   "cell_type": "markdown",
   "metadata": {},
   "source": [
    "# Converting to ..."
   ]
  },
  {
   "cell_type": "markdown",
   "metadata": {},
   "source": [
    "### GASF"
   ]
  },
  {
   "cell_type": "code",
   "execution_count": 8,
   "metadata": {},
   "outputs": [],
   "source": [
    "### -------------Convert dataset to GASF------------- ###\n",
    "convrt_index = 0\n",
    "# Utilize Gramian Angular Fields to transform our image from time series to images \n",
    "# so that we can apply a CNN for classification. See for an explanation: \n",
    "# Imaging Time-Series to Improve Classification and Imputation. \n",
    "# Zhiguang Wang and Tim Oates. \n",
    "# https://arxiv.org/pdf/1506.00327\n",
    "\n",
    "## NOTE: NEED TO HAVE USER INPUT FOR IMAGE SIZE??\n",
    "\n",
    "# gasf = GramianAngularField(image_size=129, sample_range = (-1,1), method=\"summation\")\n",
    "gasf = GramianAngularField(image_size=64, sample_range = (-1,1), method=\"summation\")\n",
    "# Convert training data to image format\n",
    "img_x_train_dec1 = gasf.transform(x_train_dec1)\n",
    "img_x_train_dec2 = gasf.transform(x_train_dec2)\n",
    "\n",
    "# Convert testing data to image format\n",
    "img_x_val_dec1 = gasf.transform(x_val_dec1)\n",
    "img_x_val_dec2 = gasf.transform(x_val_dec2)\n"
   ]
  },
  {
   "cell_type": "markdown",
   "metadata": {},
   "source": [
    "### FFT"
   ]
  },
  {
   "cell_type": "markdown",
   "metadata": {},
   "source": [
    "#### Stride search"
   ]
  },
  {
   "cell_type": "code",
   "execution_count": null,
   "metadata": {},
   "outputs": [],
   "source": [
    "# data = (x_train_dec1[50,:])\n",
    "# series = (TimeSeries(data, sample_rate = 4096, t0=0))     #np.array --> constantQ.timeseries   \n",
    "\n",
    "# ts = series\n",
    "# # ts_plot = ts.plot()\n",
    "# # plt.xlim(0,1)\n",
    "# # plt.show()\n",
    "\n",
    "# # # Spectrogram\n",
    "# stride = 0.0309\n",
    "# fftlength = stride\n",
    "# overlap = fftlength/2\n",
    "# ts_spectro = ts.spectrogram2(\n",
    "#     # stride=stride,\n",
    "#     fftlength=fftlength,\n",
    "#     overlap=overlap,\n",
    "# ) ** (1/2.)\n",
    "\n",
    "\n",
    "# # spectro_plot = ts_spectro.plot(norm='log')\n",
    "# # ax = spectro_plot.gca()\n",
    "# # ax.set_ylim(20, 500)\n",
    "# # ax.set_xlim(0, 1)\n",
    "# # ax.colorbar(label='strain ASD')\n",
    "# # spectro_plot.show()\n",
    "# print(ts_spectro.shape)"
   ]
  },
  {
   "cell_type": "code",
   "execution_count": 20,
   "metadata": {},
   "outputs": [],
   "source": [
    "### -------------Convert to FFT Spectrograms------------- ###\n",
    "## NOTE: TURN INTO A FUNCTION TO SIMPLIFY READABILITY\n",
    "convrt_index = 1\n",
    "\n",
    "data_list = []\n",
    "series_list = []\n",
    "fft_list = []\n",
    "\n",
    "stride = 0.0309\n",
    "fftlength = stride\n",
    "overlap = fftlength/2\n",
    "\n",
    "\n",
    "datas = [x_train_dec1, x_train_dec2, x_val_dec1, x_val_dec2]\n",
    "\n",
    "for d in range(len(datas)):\n",
    "    data_list = []\n",
    "    series_list = []\n",
    "    fft_list = []\n",
    "\n",
    "\n",
    "    for i in range(len(datas[d])):\n",
    "        data = (datas[d][i,:])\n",
    "        data_list.append(data)\n",
    "        # print(datas[d].shape)\n",
    "        series = (TimeSeries(data, sample_rate = 4096, t0=0))     #np.array --> constantQ.timeseries   \n",
    "        series_list.append(series)\n",
    "\n",
    "        series_spectro = series.spectrogram2(\n",
    "            fftlength=fftlength,\n",
    "            overlap=overlap,\n",
    "        ) ** (1/2.)\n",
    "        fft_list.append(series_spectro)\n",
    "\n",
    "\n",
    "\n",
    "\n",
    "    if d == 0:\n",
    "        data_arr_x_train_dec1 = np.stack(data_list, axis = 0)\n",
    "        series_arr_x_train_dec1 = np.asarray(series_list)\n",
    "        # fft_arr_x_train_dec1 = np.stack(fft_list, axis = 0)\n",
    "        fft_arr_x_train_dec1 = np.asarray(fft_list)\n",
    "\n",
    "\n",
    "    elif d == 1:\n",
    "        data_arr_x_train_dec2 = np.stack(data_list, axis = 0)\n",
    "        series_arr_x_train_dec2 = np.asarray(series_list)\n",
    "        fft_arr_x_train_dec2 = np.asarray(fft_list)\n",
    "\n",
    "    elif d == 2:\n",
    "        data_arr_x_test_dec1 = np.stack(data_list, axis = 0)\n",
    "        series_arr_x_test_dec1 = np.asarray(series_list)\n",
    "        fft_arr_x_test_dec1 = np.asarray(fft_list)\n",
    "\n",
    "    else:\n",
    "        data_arr_x_test_dec2 = np.stack(data_list, axis = 0)\n",
    "        series_arr_x_test_dec2 = np.asarray(series_list)\n",
    "        fft_arr_x_test_dec2 = np.asarray(fft_list)\n",
    "\n",
    "\n",
    "\n",
    "\n",
    "img_x_train_dec1 = fft_arr_x_train_dec1\n",
    "img_x_train_dec2 = fft_arr_x_train_dec2\n",
    "img_x_val_dec1 = fft_arr_x_test_dec1\n",
    "img_x_val_dec2 = fft_arr_x_test_dec2\n"
   ]
  },
  {
   "cell_type": "markdown",
   "metadata": {},
   "source": [
    "### Q Transform"
   ]
  },
  {
   "cell_type": "markdown",
   "metadata": {},
   "source": [
    "#### tres and fres search"
   ]
  },
  {
   "cell_type": "code",
   "execution_count": null,
   "metadata": {},
   "outputs": [],
   "source": [
    "# data = (x_train_dec1[14120,:])\n",
    "# series = (TimeSeries(data, sample_rate = 4096, t0=0))     #np.array --> constantQ.timeseries   \n",
    "\n",
    "# ts = series\n",
    "# ts_plot = ts.plot()\n",
    "# plt.xlim(0,1)\n",
    "# plt.show()\n",
    "\n",
    "# # # Q-Transformation\n",
    "# ts_qspectro = ts.q_transform(\n",
    "#     qrange=(3.3166, 108),\n",
    "#     frange=(20, 1054),\n",
    "#     whiten=False,\n",
    "#     tres = 0.0158,\n",
    "#     fres = 16.25)\n",
    "# print(ts_qspectro.shape)\n",
    "\n",
    "# q_plot = ts_qspectro.plot()\n",
    "# ax = q_plot.gca()\n",
    "# ax.set_xscale('seconds')\n",
    "# ax.set_yscale('log')\n",
    "# # ax.set_xlim(3.5, 4.5)\n",
    "# ax.set_ylim(20, 500)\n",
    "# ax.set_ylabel('Frequency [Hz]')\n",
    "# ax.grid(True, axis='y', which='both')\n",
    "# ax.colorbar(cmap='viridis', label='Normalized energy')\n",
    "# q_plot.show()\n"
   ]
  },
  {
   "cell_type": "code",
   "execution_count": 7,
   "metadata": {},
   "outputs": [
    {
     "name": "stdout",
     "output_type": "stream",
     "text": [
      "X Training Shape:  (22854, 2, 64, 64)\n",
      "Y Training Shape:  (22854,)\n",
      "X Testing Shape:  (2744, 2, 64, 64)\n",
      "Y Testing Shape:  (2744,)\n",
      "X Validation Shape:  (598, 2, 64, 64)\n",
      "Y Validation Shape:  (598,)\n"
     ]
    }
   ],
   "source": [
    "### -------------Convert to Q Spectrograms------------- ###\n",
    "## NOTE: TURN INTO A FUNCTION TO SIMPLIFY READABILITY\n",
    "convrt_index = 2\n",
    "\n",
    "data_list = []\n",
    "series_list = []\n",
    "Q_list = []\n",
    "\n",
    "\n",
    "datas = [x_train_dec1, x_train_dec2, x_val_dec1, x_val_dec2]\n",
    "\n",
    "for d in range(len(datas)):\n",
    "    data_list = []\n",
    "    series_list = []\n",
    "    Q_list = []\n",
    "\n",
    "\n",
    "    for i in range(len(datas[d])):\n",
    "        data = (datas[d][i,:])\n",
    "        data_list.append(data)\n",
    "        # print(datas[d].shape)\n",
    "        series = (TimeSeries(data, sample_rate = 4096, t0=0))     #np.array --> constantQ.timeseries   \n",
    "        series_list.append(series)\n",
    "\n",
    "        series_spectro = series.q_transform(\n",
    "        qrange=(3.3166, 108),\n",
    "        frange=(20, 1054),\n",
    "        whiten=False,\n",
    "        tres = 0.0158,\n",
    "        fres = 16.25)\n",
    "        Q_list.append(series_spectro)\n",
    "\n",
    "\n",
    "\n",
    "\n",
    "    if d == 0:\n",
    "        data_arr_x_train_dec1 = np.stack(data_list, axis = 0)\n",
    "        series_arr_x_train_dec1 = np.asarray(series_list)\n",
    "        # Q_arr_x_train_dec1 = np.stack(Q_list, axis = 0)\n",
    "        Q_arr_x_train_dec1 = np.asarray(Q_list)\n",
    "\n",
    "\n",
    "    elif d == 1:\n",
    "        data_arr_x_train_dec2 = np.stack(data_list, axis = 0)\n",
    "        series_arr_x_train_dec2 = np.asarray(series_list)\n",
    "        Q_arr_x_train_dec2 = np.asarray(Q_list)\n",
    "\n",
    "    elif d == 2:\n",
    "        data_arr_x_test_dec1 = np.stack(data_list, axis = 0)\n",
    "        series_arr_x_test_dec1 = np.asarray(series_list)\n",
    "        Q_arr_x_test_dec1 = np.asarray(Q_list)\n",
    "\n",
    "    else:\n",
    "        data_arr_x_test_dec2 = np.stack(data_list, axis = 0)\n",
    "        series_arr_x_test_dec2 = np.asarray(series_list)\n",
    "        Q_arr_x_test_dec2 = np.asarray(Q_list)\n",
    "\n",
    "\n",
    "\n",
    "\n",
    "img_x_train_dec1 = Q_arr_x_train_dec1\n",
    "img_x_train_dec2 = Q_arr_x_train_dec2\n",
    "img_x_val_dec1 = Q_arr_x_test_dec1\n",
    "img_x_val_dec2 = Q_arr_x_test_dec2"
   ]
  },
  {
   "cell_type": "markdown",
   "metadata": {},
   "source": [
    "---"
   ]
  },
  {
   "cell_type": "code",
   "execution_count": 21,
   "metadata": {},
   "outputs": [
    {
     "name": "stdout",
     "output_type": "stream",
     "text": [
      "X Training Shape:  (22854, 2, 64, 64)\n",
      "Y Training Shape:  (22854,)\n",
      "X Testing Shape:  (2744, 2, 64, 64)\n",
      "Y Testing Shape:  (2744,)\n",
      "X Validation Shape:  (598, 2, 64, 64)\n",
      "Y Validation Shape:  (598,)\n"
     ]
    }
   ],
   "source": [
    "# Stack Detector 1 and Detector 2 image data together to unify our training and testing datasets before training.\n",
    "x_train = np.stack((img_x_train_dec1, img_x_train_dec2), axis=1)\n",
    "x_val = np.stack((img_x_val_dec1, img_x_val_dec2), axis=1)\n",
    "\n",
    "### -------------Split into training and validation datasets------------- ###\n",
    "\n",
    "## NOTE: MAYBE USER INPUT FOR SPLIT %???\n",
    "\n",
    "# Take the first 17.65% of our training features and targets as validation set\n",
    "x_test= x_train[:round((len(x_train)*0.1072))]\n",
    "y_test = y_train[:round((len(y_train)*0.1072))]\n",
    "\n",
    "# Take the remaining 82.35% of training features and targets as training set\n",
    "x_train = x_train[round((len(x_train)*0.1072)):]\n",
    "y_train = y_train[round((len(y_train)*0.1072)):]\n",
    "\n",
    "# Check the shapes of the training/validation datasets. Turns out we get about a 80%, 13%, 2% split.\n",
    "print(\"X Training Shape: \", x_train.shape)\n",
    "print(\"Y Training Shape: \", y_train.shape)\n",
    "print(\"X Testing Shape: \", x_test.shape)\n",
    "print(\"Y Testing Shape: \", y_test.shape)\n",
    "print(\"X Validation Shape: \", x_val.shape)\n",
    "print(\"Y Validation Shape: \", y_val.shape)"
   ]
  },
  {
   "cell_type": "markdown",
   "metadata": {},
   "source": [
    "## CNN Model"
   ]
  },
  {
   "cell_type": "code",
   "execution_count": 22,
   "metadata": {},
   "outputs": [],
   "source": [
    "### -------------Model Definition------------- ###\n",
    "\n",
    "class CNNModel(torch.nn.Module):\n",
    "    \n",
    "    def __init__(self):\n",
    "        \n",
    "        super(CNNModel, self).__init__()\n",
    "\n",
    "        # First convolution layer (2 channel -> 16 channels, preserve original dimension by adding padding = 2) \n",
    "        self.layer1 = torch.nn.Sequential(\n",
    "            torch.nn.Conv2d(in_channels=2, out_channels=16, kernel_size=4, stride=2, padding=1),\n",
    "            torch.nn.BatchNorm2d(16),\n",
    "            torch.nn.ReLU(),\n",
    "            torch.nn.MaxPool2d(kernel_size=4, stride=2, padding=1)\n",
    "            )\n",
    "        \n",
    "        # Second convolution layer (16 channel -> 32 channels, preserve dimension by adding padding = 2)\n",
    "        self.layer2 = torch.nn.Sequential(\n",
    "            torch.nn.Conv2d(in_channels=16, out_channels=32, kernel_size=3, stride=1, padding=1),\n",
    "            torch.nn.BatchNorm2d(32),\n",
    "            torch.nn.ReLU(),\n",
    "            torch.nn.MaxPool2d(kernel_size=2, stride=2, padding=0)\n",
    "            )\n",
    "\n",
    "        # Fully connected layer that takes the flattened output of layer 2 (32, 7 ,7) -> (1568) and output 2 classes\n",
    "        self.fc1 = torch.nn.Linear(in_features=32*8*8, out_features=128)\n",
    "        self.fc2 = torch.nn.Linear(in_features=128, out_features=64)\n",
    "        self.fc3 = torch.nn.Linear(in_features=64, out_features=2)\n",
    "    \n",
    "    def forward(self, x):\n",
    "\n",
    "        # input image -> conv -> batchnorm -> relu -> maxpool\n",
    "        out = self.layer1(x)\n",
    "        # 1st maxpool output -> conv -> batchnorm -> relu -> maxpool\n",
    "        out = self.layer2(out)\n",
    "        # flatten the second maxpool output to be used as input into FCN layer\n",
    "        out = out.view(out.size(0), -1)\n",
    "\n",
    "        # Pass flattened output into FCN layers\n",
    "        out = self.fc1(out)\n",
    "        out = self.fc2(out)\n",
    "        out = self.fc3(out)\n",
    "        \n",
    "        return out\n",
    "\n",
    "\n",
    "# ### -------------Model Definition------------- ###\n",
    "\n",
    "# class CNNModel(torch.nn.Module):\n",
    "    \n",
    "#     def __init__(self):\n",
    "        \n",
    "#         super(CNNModel, self).__init__()\n",
    "\n",
    "#                 # First convolution layer (2 channel -> 16 channels, preserve original dimension by adding padding = 2) \n",
    "#         self.layer1 = torch.nn.Sequential(\n",
    "#             torch.nn.Conv2d(in_channels=2, out_channels=16, kernel_size=5, stride=2, padding=2),\n",
    "#             torch.nn.BatchNorm2d(16),\n",
    "#             torch.nn.ReLU(),\n",
    "#             torch.nn.MaxPool2d(kernel_size=3, stride=2, padding=0)\n",
    "#             )\n",
    "        \n",
    "#         # Second convolution layer (16 channel -> 32 channels, preserve dimension by adding padding = 2)\n",
    "#         self.layer2 = torch.nn.Sequential(\n",
    "#             torch.nn.Conv2d(in_channels=16, out_channels=32, kernel_size=4, stride=2, padding=1),\n",
    "#             torch.nn.BatchNorm2d(32),\n",
    "#             torch.nn.ReLU(),\n",
    "#             torch.nn.MaxPool2d(kernel_size=2, stride=2, padding=0)\n",
    "#             )\n",
    "\n",
    "#         # Fully connected layer that takes the flattened output of layer 2 (32, 7 ,7) -> (1568) and output 2 classes\n",
    "#         self.fc1 = torch.nn.Linear(in_features=32*8*8, out_features=128)\n",
    "#         self.fc2 = torch.nn.Linear(in_features=128, out_features=64)\n",
    "#         self.fc3 = torch.nn.Linear(in_features=64, out_features=2)\n",
    "    \n",
    "#     def forward(self, x):\n",
    "\n",
    "#         # input image -> conv -> batchnorm -> relu -> maxpool\n",
    "#         out = self.layer1(x)\n",
    "#         # 1st maxpool output -> conv -> batchnorm -> relu -> maxpool\n",
    "#         out = self.layer2(out)\n",
    "#         # flatten the second maxpool output to be used as input into FCN layer\n",
    "#         out = out.view(out.size(0), -1)\n",
    "\n",
    "#         # Pass flattened output into FCN layers\n",
    "#         out = self.fc1(out)\n",
    "#         out = self.fc2(out)\n",
    "#         out = self.fc3(out)\n",
    "        \n",
    "#         return out"
   ]
  },
  {
   "cell_type": "markdown",
   "metadata": {},
   "source": [
    "## Hyperparameters"
   ]
  },
  {
   "cell_type": "code",
   "execution_count": 23,
   "metadata": {},
   "outputs": [],
   "source": [
    "### -------------Hyperparameters------------- ###\n",
    "\n",
    "# Initialize the CNN model\n",
    "model = CNNModel()\n",
    "learning_rate = 0.00005      #0.00005\n",
    "epochs = 40                 # 75\n",
    "batchsize = 768\n",
    "L2_reg = 0.00005\n",
    "\n",
    "# Define loss function and optimizer\n",
    "loss_func = torch.nn.CrossEntropyLoss()\n",
    "optimizer = torch.optim.Adam(model.parameters(), lr = learning_rate, weight_decay=L2_reg)\n",
    "\n",
    "if torch.cuda.is_available():                                  # Checks if the GPU is available for processing\n",
    "    model.cuda()                                               # Sends the model to the GPU for processing\n",
    "model        \n",
    "\n",
    "### -------------Creating Training Model inputs------------- ###\n",
    "\n",
    "if torch.cuda.is_available():                   # If using CUDA version of PyTorch, dataset will be processed on GPU\n",
    "\n",
    "    # Convert train/validation/test sets into torch tensors from numpy\n",
    "    train_inputs = torch.from_numpy(x_train).float().cuda()\n",
    "    train_targets = torch.from_numpy(y_train).long().cuda()\n",
    "\n",
    "    validation_inputs = torch.from_numpy(x_val).float().cuda()\n",
    "    validation_targets = torch.from_numpy(y_val).long().cuda()\n",
    "\n",
    "    testing_inputs = torch.from_numpy(x_test).float().cuda()\n",
    "    testing_targets = torch.from_numpy(y_test).long().cuda()\n",
    "\n",
    "    # Split the training inputs/targets into mini-batches\n",
    "    train_batches_features = torch.split(train_inputs, batchsize)\n",
    "    train_batches_targets = torch.split(train_targets, batchsize)\n",
    "\n",
    "else:                                           # If not using CUDA version of PyTorch, dataset will be processed on CPU\n",
    "\n",
    "    # Convert train/validation/test sets into torch tensors from numpy\n",
    "    train_inputs = torch.from_numpy(x_train).float()\n",
    "    train_targets = torch.from_numpy(y_train).long()\n",
    "\n",
    "    validation_inputs = torch.from_numpy(x_val).float()\n",
    "    validation_targets = torch.from_numpy(y_val).long()\n",
    "\n",
    "    testing_inputs = torch.from_numpy(x_test).float()\n",
    "    testing_targets = torch.from_numpy(y_test).long()\n",
    "\n",
    "    # Split the training inputs/targets into mini-batches\n",
    "    train_batches_features = torch.split(train_inputs, batchsize)\n",
    "    train_batches_targets = torch.split(train_targets, batchsize)\n",
    "\n",
    "# length of train_batches_features = total number of mini-batches in the training set\n",
    "batch_split_num = len(train_batches_features)\n",
    "\n",
    "\n",
    "### -------------Identify tracked values------------- ###\n",
    "\n",
    "train_loss_list = []\n",
    "validation_accuracy_list = np.zeros((epochs,))\n"
   ]
  },
  {
   "cell_type": "markdown",
   "metadata": {},
   "source": [
    "## Training loop"
   ]
  },
  {
   "cell_type": "code",
   "execution_count": 24,
   "metadata": {},
   "outputs": [
    {
     "name": "stderr",
     "output_type": "stream",
     "text": [
      "Training Model on 40 Epochs:   0%|          | 0/40 [00:00<?, ?it/s]"
     ]
    },
    {
     "name": "stdout",
     "output_type": "stream",
     "text": [
      "Epoch: 0 Epoch time: 0.92s Validation Accuracy: 54.35% Training loss: 0.68\n"
     ]
    },
    {
     "name": "stderr",
     "output_type": "stream",
     "text": [
      "Training Model on 40 Epochs:   2%|▎         | 1/40 [00:00<00:36,  1.06it/s]"
     ]
    },
    {
     "name": "stdout",
     "output_type": "stream",
     "text": [
      "Epoch: 1 Epoch time: 0.89s Validation Accuracy: 54.85% Training loss: 0.67\n"
     ]
    },
    {
     "name": "stderr",
     "output_type": "stream",
     "text": [
      "Training Model on 40 Epochs:   5%|▌         | 2/40 [00:01<00:35,  1.08it/s]"
     ]
    },
    {
     "name": "stdout",
     "output_type": "stream",
     "text": [
      "Epoch: 2 Epoch time: 0.82s Validation Accuracy: 49.83% Training loss: 0.65\n"
     ]
    },
    {
     "name": "stderr",
     "output_type": "stream",
     "text": [
      "Training Model on 40 Epochs:   8%|▊         | 3/40 [00:02<00:32,  1.12it/s]"
     ]
    },
    {
     "name": "stdout",
     "output_type": "stream",
     "text": [
      "Epoch: 3 Epoch time: 0.81s Validation Accuracy: 51.67% Training loss: 0.62\n"
     ]
    },
    {
     "name": "stderr",
     "output_type": "stream",
     "text": [
      "Training Model on 40 Epochs:  10%|█         | 4/40 [00:03<00:31,  1.15it/s]"
     ]
    },
    {
     "name": "stdout",
     "output_type": "stream",
     "text": [
      "Epoch: 4 Epoch time: 0.81s Validation Accuracy: 55.69% Training loss: 0.56\n"
     ]
    },
    {
     "name": "stderr",
     "output_type": "stream",
     "text": [
      "Training Model on 40 Epochs:  12%|█▎        | 5/40 [00:04<00:30,  1.16it/s]"
     ]
    },
    {
     "name": "stdout",
     "output_type": "stream",
     "text": [
      "Epoch: 5 Epoch time: 0.83s Validation Accuracy: 62.21% Training loss: 0.49\n"
     ]
    },
    {
     "name": "stderr",
     "output_type": "stream",
     "text": [
      "Training Model on 40 Epochs:  15%|█▌        | 6/40 [00:05<00:29,  1.16it/s]"
     ]
    },
    {
     "name": "stdout",
     "output_type": "stream",
     "text": [
      "Epoch: 6 Epoch time: 0.84s Validation Accuracy: 71.91% Training loss: 0.42\n"
     ]
    },
    {
     "name": "stderr",
     "output_type": "stream",
     "text": [
      "Training Model on 40 Epochs:  18%|█▊        | 7/40 [00:06<00:28,  1.16it/s]"
     ]
    },
    {
     "name": "stdout",
     "output_type": "stream",
     "text": [
      "Epoch: 7 Epoch time: 0.85s Validation Accuracy: 76.76% Training loss: 0.35\n"
     ]
    },
    {
     "name": "stderr",
     "output_type": "stream",
     "text": [
      "Training Model on 40 Epochs:  20%|██        | 8/40 [00:06<00:27,  1.15it/s]"
     ]
    },
    {
     "name": "stdout",
     "output_type": "stream",
     "text": [
      "Epoch: 8 Epoch time: 0.84s Validation Accuracy: 78.09% Training loss: 0.3\n"
     ]
    },
    {
     "name": "stderr",
     "output_type": "stream",
     "text": [
      "Training Model on 40 Epochs:  22%|██▎       | 9/40 [00:07<00:26,  1.15it/s]"
     ]
    },
    {
     "name": "stdout",
     "output_type": "stream",
     "text": [
      "Epoch: 9 Epoch time: 0.83s Validation Accuracy: 79.26% Training loss: 0.26\n"
     ]
    },
    {
     "name": "stderr",
     "output_type": "stream",
     "text": [
      "Training Model on 40 Epochs:  25%|██▌       | 10/40 [00:08<00:25,  1.16it/s]"
     ]
    },
    {
     "name": "stdout",
     "output_type": "stream",
     "text": [
      "Epoch: 10 Epoch time: 0.85s Validation Accuracy: 81.61% Training loss: 0.24\n"
     ]
    },
    {
     "name": "stderr",
     "output_type": "stream",
     "text": [
      "Training Model on 40 Epochs:  28%|██▊       | 11/40 [00:09<00:25,  1.15it/s]"
     ]
    },
    {
     "name": "stdout",
     "output_type": "stream",
     "text": [
      "Epoch: 11 Epoch time: 0.86s Validation Accuracy: 82.27% Training loss: 0.21\n"
     ]
    },
    {
     "name": "stderr",
     "output_type": "stream",
     "text": [
      "Training Model on 40 Epochs:  30%|███       | 12/40 [00:10<00:24,  1.15it/s]"
     ]
    },
    {
     "name": "stdout",
     "output_type": "stream",
     "text": [
      "Epoch: 12 Epoch time: 0.78s Validation Accuracy: 83.95% Training loss: 0.2\n"
     ]
    },
    {
     "name": "stderr",
     "output_type": "stream",
     "text": [
      "Training Model on 40 Epochs:  32%|███▎      | 13/40 [00:11<00:23,  1.17it/s]"
     ]
    },
    {
     "name": "stdout",
     "output_type": "stream",
     "text": [
      "Epoch: 13 Epoch time: 0.78s Validation Accuracy: 84.78% Training loss: 0.19\n"
     ]
    },
    {
     "name": "stderr",
     "output_type": "stream",
     "text": [
      "Training Model on 40 Epochs:  35%|███▌      | 14/40 [00:12<00:21,  1.19it/s]"
     ]
    },
    {
     "name": "stdout",
     "output_type": "stream",
     "text": [
      "Epoch: 14 Epoch time: 0.78s Validation Accuracy: 84.78% Training loss: 0.18\n"
     ]
    },
    {
     "name": "stderr",
     "output_type": "stream",
     "text": [
      "Training Model on 40 Epochs:  38%|███▊      | 15/40 [00:12<00:20,  1.20it/s]"
     ]
    },
    {
     "name": "stdout",
     "output_type": "stream",
     "text": [
      "Epoch: 15 Epoch time: 0.78s Validation Accuracy: 88.63% Training loss: 0.18\n"
     ]
    },
    {
     "name": "stderr",
     "output_type": "stream",
     "text": [
      "Training Model on 40 Epochs:  40%|████      | 16/40 [00:13<00:19,  1.21it/s]"
     ]
    },
    {
     "name": "stdout",
     "output_type": "stream",
     "text": [
      "Epoch: 16 Epoch time: 0.79s Validation Accuracy: 87.63% Training loss: 0.17\n"
     ]
    },
    {
     "name": "stderr",
     "output_type": "stream",
     "text": [
      "Training Model on 40 Epochs:  42%|████▎     | 17/40 [00:14<00:18,  1.22it/s]"
     ]
    },
    {
     "name": "stdout",
     "output_type": "stream",
     "text": [
      "Epoch: 17 Epoch time: 0.79s Validation Accuracy: 89.97% Training loss: 0.18\n"
     ]
    },
    {
     "name": "stderr",
     "output_type": "stream",
     "text": [
      "Training Model on 40 Epochs:  45%|████▌     | 18/40 [00:15<00:18,  1.22it/s]"
     ]
    },
    {
     "name": "stdout",
     "output_type": "stream",
     "text": [
      "Epoch: 18 Epoch time: 0.82s Validation Accuracy: 91.14% Training loss: 0.16\n"
     ]
    },
    {
     "name": "stderr",
     "output_type": "stream",
     "text": [
      "Training Model on 40 Epochs:  48%|████▊     | 19/40 [00:16<00:17,  1.21it/s]"
     ]
    },
    {
     "name": "stdout",
     "output_type": "stream",
     "text": [
      "Epoch: 19 Epoch time: 0.83s Validation Accuracy: 94.48% Training loss: 0.16\n"
     ]
    },
    {
     "name": "stderr",
     "output_type": "stream",
     "text": [
      "Training Model on 40 Epochs:  50%|█████     | 20/40 [00:17<00:16,  1.20it/s]"
     ]
    },
    {
     "name": "stdout",
     "output_type": "stream",
     "text": [
      "Epoch: 20 Epoch time: 0.79s Validation Accuracy: 93.81% Training loss: 0.15\n"
     ]
    },
    {
     "name": "stderr",
     "output_type": "stream",
     "text": [
      "Training Model on 40 Epochs:  52%|█████▎    | 21/40 [00:17<00:15,  1.20it/s]"
     ]
    },
    {
     "name": "stdout",
     "output_type": "stream",
     "text": [
      "Epoch: 21 Epoch time: 0.79s Validation Accuracy: 93.31% Training loss: 0.14\n"
     ]
    },
    {
     "name": "stderr",
     "output_type": "stream",
     "text": [
      "Training Model on 40 Epochs:  55%|█████▌    | 22/40 [00:18<00:14,  1.21it/s]"
     ]
    },
    {
     "name": "stdout",
     "output_type": "stream",
     "text": [
      "Epoch: 22 Epoch time: 0.82s Validation Accuracy: 93.81% Training loss: 0.14\n"
     ]
    },
    {
     "name": "stderr",
     "output_type": "stream",
     "text": [
      "Training Model on 40 Epochs:  57%|█████▊    | 23/40 [00:19<00:14,  1.20it/s]"
     ]
    },
    {
     "name": "stdout",
     "output_type": "stream",
     "text": [
      "Epoch: 23 Epoch time: 0.8s Validation Accuracy: 93.81% Training loss: 0.13\n"
     ]
    },
    {
     "name": "stderr",
     "output_type": "stream",
     "text": [
      "Training Model on 40 Epochs:  60%|██████    | 24/40 [00:20<00:13,  1.20it/s]"
     ]
    },
    {
     "name": "stdout",
     "output_type": "stream",
     "text": [
      "Epoch: 24 Epoch time: 0.79s Validation Accuracy: 93.98% Training loss: 0.13\n"
     ]
    },
    {
     "name": "stderr",
     "output_type": "stream",
     "text": [
      "Training Model on 40 Epochs:  62%|██████▎   | 25/40 [00:21<00:12,  1.21it/s]"
     ]
    },
    {
     "name": "stdout",
     "output_type": "stream",
     "text": [
      "Epoch: 25 Epoch time: 0.8s Validation Accuracy: 94.31% Training loss: 0.13\n"
     ]
    },
    {
     "name": "stderr",
     "output_type": "stream",
     "text": [
      "Training Model on 40 Epochs:  65%|██████▌   | 26/40 [00:22<00:11,  1.21it/s]"
     ]
    },
    {
     "name": "stdout",
     "output_type": "stream",
     "text": [
      "Epoch: 26 Epoch time: 0.84s Validation Accuracy: 94.65% Training loss: 0.13\n"
     ]
    },
    {
     "name": "stderr",
     "output_type": "stream",
     "text": [
      "Training Model on 40 Epochs:  68%|██████▊   | 27/40 [00:22<00:10,  1.19it/s]"
     ]
    },
    {
     "name": "stdout",
     "output_type": "stream",
     "text": [
      "Epoch: 27 Epoch time: 0.84s Validation Accuracy: 94.48% Training loss: 0.12\n"
     ]
    },
    {
     "name": "stderr",
     "output_type": "stream",
     "text": [
      "Training Model on 40 Epochs:  70%|███████   | 28/40 [00:23<00:10,  1.18it/s]"
     ]
    },
    {
     "name": "stdout",
     "output_type": "stream",
     "text": [
      "Epoch: 28 Epoch time: 0.8s Validation Accuracy: 94.48% Training loss: 0.12\n"
     ]
    },
    {
     "name": "stderr",
     "output_type": "stream",
     "text": [
      "Training Model on 40 Epochs:  72%|███████▎  | 29/40 [00:24<00:09,  1.19it/s]"
     ]
    },
    {
     "name": "stdout",
     "output_type": "stream",
     "text": [
      "Epoch: 29 Epoch time: 0.81s Validation Accuracy: 94.82% Training loss: 0.12\n"
     ]
    },
    {
     "name": "stderr",
     "output_type": "stream",
     "text": [
      "Training Model on 40 Epochs:  75%|███████▌  | 30/40 [00:25<00:08,  1.19it/s]"
     ]
    },
    {
     "name": "stdout",
     "output_type": "stream",
     "text": [
      "Epoch: 30 Epoch time: 0.8s Validation Accuracy: 94.82% Training loss: 0.11\n"
     ]
    },
    {
     "name": "stderr",
     "output_type": "stream",
     "text": [
      "Training Model on 40 Epochs:  78%|███████▊  | 31/40 [00:26<00:07,  1.20it/s]"
     ]
    },
    {
     "name": "stdout",
     "output_type": "stream",
     "text": [
      "Epoch: 31 Epoch time: 0.79s Validation Accuracy: 95.15% Training loss: 0.11\n"
     ]
    },
    {
     "name": "stderr",
     "output_type": "stream",
     "text": [
      "Training Model on 40 Epochs:  80%|████████  | 32/40 [00:27<00:06,  1.20it/s]"
     ]
    },
    {
     "name": "stdout",
     "output_type": "stream",
     "text": [
      "Epoch: 32 Epoch time: 0.79s Validation Accuracy: 95.15% Training loss: 0.11\n"
     ]
    },
    {
     "name": "stderr",
     "output_type": "stream",
     "text": [
      "Training Model on 40 Epochs:  82%|████████▎ | 33/40 [00:27<00:05,  1.21it/s]"
     ]
    },
    {
     "name": "stdout",
     "output_type": "stream",
     "text": [
      "Epoch: 33 Epoch time: 0.8s Validation Accuracy: 95.15% Training loss: 0.1\n"
     ]
    },
    {
     "name": "stderr",
     "output_type": "stream",
     "text": [
      "Training Model on 40 Epochs:  85%|████████▌ | 34/40 [00:28<00:04,  1.21it/s]"
     ]
    },
    {
     "name": "stdout",
     "output_type": "stream",
     "text": [
      "Epoch: 34 Epoch time: 0.79s Validation Accuracy: 95.15% Training loss: 0.11\n"
     ]
    },
    {
     "name": "stderr",
     "output_type": "stream",
     "text": [
      "Training Model on 40 Epochs:  88%|████████▊ | 35/40 [00:29<00:04,  1.21it/s]"
     ]
    },
    {
     "name": "stdout",
     "output_type": "stream",
     "text": [
      "Epoch: 35 Epoch time: 0.81s Validation Accuracy: 95.15% Training loss: 0.11\n"
     ]
    },
    {
     "name": "stderr",
     "output_type": "stream",
     "text": [
      "Training Model on 40 Epochs:  90%|█████████ | 36/40 [00:30<00:03,  1.21it/s]"
     ]
    },
    {
     "name": "stdout",
     "output_type": "stream",
     "text": [
      "Epoch: 36 Epoch time: 0.82s Validation Accuracy: 95.15% Training loss: 0.11\n"
     ]
    },
    {
     "name": "stderr",
     "output_type": "stream",
     "text": [
      "Training Model on 40 Epochs:  92%|█████████▎| 37/40 [00:31<00:02,  1.20it/s]"
     ]
    },
    {
     "name": "stdout",
     "output_type": "stream",
     "text": [
      "Epoch: 37 Epoch time: 0.82s Validation Accuracy: 95.48% Training loss: 0.11\n"
     ]
    },
    {
     "name": "stderr",
     "output_type": "stream",
     "text": [
      "Training Model on 40 Epochs:  95%|█████████▌| 38/40 [00:32<00:01,  1.20it/s]"
     ]
    },
    {
     "name": "stdout",
     "output_type": "stream",
     "text": [
      "Epoch: 38 Epoch time: 0.8s Validation Accuracy: 95.48% Training loss: 0.1\n"
     ]
    },
    {
     "name": "stderr",
     "output_type": "stream",
     "text": [
      "Training Model on 40 Epochs:  98%|█████████▊| 39/40 [00:32<00:00,  1.20it/s]"
     ]
    },
    {
     "name": "stdout",
     "output_type": "stream",
     "text": [
      "Epoch: 39 Epoch time: 0.8s Validation Accuracy: 95.48% Training loss: 0.1\n"
     ]
    },
    {
     "name": "stderr",
     "output_type": "stream",
     "text": [
      "Training Model on 40 Epochs: 100%|██████████| 40/40 [00:33<00:00,  1.19it/s]\n"
     ]
    }
   ],
   "source": [
    "### -------------Training Loop------------- ###\n",
    "## NOTE: CHANGE DESC TO INCLUDE CHANGING EPOCHS\n",
    "\n",
    "for epoch in trange(epochs, desc='Training Model on 40 Epochs'):\n",
    "    start_time = timer() # start timer\n",
    "    # Each mini-batch number i, grab i-th training feature and target mini-batch and perform fwd/bwd pass on the network\n",
    "    \n",
    "    # for i in trange(batch_split_num, desc=f'Epoch {epoch}'):\n",
    "    for i in range(batch_split_num):\n",
    "    \n",
    "        optimizer.zero_grad()    \n",
    "        train_batch_outputs = model(train_batches_features[i])  \n",
    "        loss = loss_func(train_batch_outputs, train_batches_targets[i])\n",
    "        train_loss_list.append(loss.item())       \n",
    "        loss.backward()\n",
    "        optimizer.step()\n",
    "\n",
    "    end_time = timer() # End timer\n",
    "\n",
    "### -------------Compute Validation Accuracy------------- ###\n",
    "\n",
    "    with torch.no_grad():\n",
    "\n",
    "        validation_outputs = model(validation_inputs)\n",
    "        val_correct = (torch.argmax(validation_outputs, dim=1) == validation_targets).type(torch.FloatTensor) \n",
    "        validation_accuracy_list[epoch] = val_correct.mean()\n",
    "\n",
    "        print(\"Epoch: \"+ str(epoch),\n",
    "              \"Epoch time: \" + str(np.round(end_time - start_time, 2)) + \"s\",\n",
    "              \"Validation Accuracy: \" + str(np.round(val_correct.mean().numpy() * 100, 2)) + '%',\n",
    "              \"Training loss: \" + str(np.round(loss.item(), 2)), flush=True)"
   ]
  },
  {
   "cell_type": "markdown",
   "metadata": {},
   "source": [
    "## Visualize & Evaluate Model"
   ]
  },
  {
   "cell_type": "code",
   "execution_count": 25,
   "metadata": {},
   "outputs": [
    {
     "data": {
      "image/png": "[encoded data removed]",
      "text/plain": [
       "<Figure size 1200x1000 with 2 Axes>"
      ]
     },
     "metadata": {},
     "output_type": "display_data"
    },
    {
     "data": {
      "image/png": "[encoded data removed]",
      "text/plain": [
       "<Figure size 640x480 with 2 Axes>"
      ]
     },
     "metadata": {},
     "output_type": "display_data"
    }
   ],
   "source": [
    "### Generalized \n",
    "\n",
    "\n",
    "# torch.cuda.empty_cache()\n",
    "\n",
    "### -------------Computing the Training accuracy------------- ###\n",
    "\n",
    "with torch.no_grad():\n",
    "\n",
    "    target_pred_test = model(train_inputs)\n",
    "    train_correct = (torch.argmax(target_pred_test, dim=1) == train_targets).type(torch.FloatTensor)\n",
    "    train_testing_acc = (train_correct.mean().numpy()*100)\n",
    "\n",
    "### -------------Computing the testing accuracy------------- ###\n",
    "\n",
    "with torch.no_grad():\n",
    "\n",
    "    target_pred_test = model(testing_inputs)\n",
    "    test_correct = (torch.argmax(target_pred_test, dim=1) == testing_targets).type(torch.FloatTensor)\n",
    "    test_testing_acc = (test_correct.mean().numpy()*100) \n",
    "\n",
    "### -------------Computing the validation accuracy------------- ###\n",
    "\n",
    "with torch.no_grad():\n",
    "\n",
    "    target_pred_test = model(validation_inputs)\n",
    "    val_correct = (torch.argmax(target_pred_test, dim=1) == validation_targets).type(torch.FloatTensor)\n",
    "    val_testing_acc = (val_correct.mean().numpy()*100)\n",
    "    \n",
    "### -------------Confusion Matrix------------- ###\n",
    "\n",
    "actual = validation_targets.cpu().numpy()\n",
    "predicted = (torch.argmax(model(validation_inputs), dim=1)).cpu().numpy()\n",
    "\n",
    "cm = confusion_matrix(actual, predicted)\n",
    "\n",
    "Accuracy = metrics.accuracy_score(actual, predicted)*100\n",
    "Precision = metrics.precision_score(actual, predicted)*100\n",
    "Sensitivity_recall = metrics.recall_score(actual, predicted)*100\n",
    "Specificity = metrics.recall_score(actual, predicted, pos_label=0)*100\n",
    "F1_score = metrics.f1_score(actual, predicted)*100\n",
    "\n",
    "acc = {'Training Accuracy': [train_testing_acc],\n",
    "           'Testing Accuracy': [test_testing_acc],\n",
    "           'Validation Accuracy': [val_testing_acc]}\n",
    "\n",
    "results = pd.DataFrame(acc)\n",
    "\n",
    "val = {'Accuracy': [Accuracy],\n",
    "       'Precision': [Precision],\n",
    "       'Sensitivity_recall': [Sensitivity_recall],\n",
    "       'Specificity': [Specificity],\n",
    "       'F1_score': [F1_score]}\n",
    "\n",
    "val_results = pd.DataFrame(val)\n",
    "\n",
    "### -------------Plot the training loss and validation accuracy------------- ###\n",
    "\n",
    "sns.set(style = 'whitegrid', font_scale = 1)\n",
    "plt.figure(figsize = (12,10))\n",
    "plt.rcParams[\"font.family\"] = \"serif\"\n",
    "plt.rcParams[\"font.sans-serif\"] = \"Open Sans\"\n",
    "\n",
    "plt.subplot(2, 1, 1)\n",
    "plt.plot(train_loss_list, linewidth = 3, color=\"#4b2e83\")\n",
    "plt.ylabel(\"Training loss\")\n",
    "plt.xlabel(\"Iterations\")\n",
    "\n",
    "\n",
    "plt.subplot(2, 1, 2)\n",
    "plt.plot(validation_accuracy_list, linewidth = 3, color = \"#85754d\")\n",
    "plt.ylabel(\"Validation Accuracy\")\n",
    "plt.xlabel(\"Epochs\")\n",
    "\n",
    "\n",
    "\n",
    "\n",
    "\n",
    "\n",
    "\n",
    "### NON General\n",
    "\n",
    "## GASF \n",
    "if convrt_index == 0:\n",
    "\n",
    "\n",
    "    # Plot train loss and val acc\n",
    "    plt.suptitle(\"GASF TRAINING LOSS AND VALIDATION ACCURACY\")\n",
    "    sns.despine()\n",
    "    plt.savefig(\"GASF_TrainLoss_ValAcc.png\")\n",
    "\n",
    "\n",
    "    # Plot Confusion matrix\n",
    "    cm_display = metrics.ConfusionMatrixDisplay(cm, \n",
    "                                                display_labels = ('Background', 'Signal'))\n",
    "    cm_display.plot(cmap=plt.cm.Blues, values_format = '')\n",
    "    plt.title('GASF Confusion Matrix for validation targets')\n",
    "    plt.grid(False)\n",
    "    plt.savefig(\"GASF_ConfMatrix.png\")\n",
    "    plt.show()\n",
    "\n",
    "    # Save results to csv\n",
    "    results.style.set_caption(\"GASF Accuracy Results\")\n",
    "    results.to_csv('GASF Accuracy Results.csv', encoding='utf-8', index=False)\n",
    "\n",
    "    val_results.style.set_caption(\"GASF Validation Results\")\n",
    "    val_results.to_csv('GASF Validation Results.csv', encoding='utf-8', index=False)\n",
    "\n",
    "\n",
    "\n",
    "## FFT \n",
    "elif convrt_index == 1:\n",
    "\n",
    "\n",
    "    # Plot train loss and val acc\n",
    "    plt.suptitle(\"FFT TRAINING LOSS AND VALIDATION ACCURACY\")\n",
    "    sns.despine()\n",
    "    plt.savefig(\"FFT_TrainLoss_ValAcc.png\")\n",
    "\n",
    "\n",
    "    # Plot Confusion matrix\n",
    "    cm_display = metrics.ConfusionMatrixDisplay(cm, \n",
    "                                                display_labels = ('Background', 'Signal'))\n",
    "    cm_display.plot(cmap=plt.cm.Blues, values_format = '')\n",
    "    plt.title('FFT Confusion Matrix for validation targets')\n",
    "    plt.grid(False)\n",
    "    plt.savefig(\"FFT_ConfMatrix.png\")\n",
    "    plt.show()\n",
    "\n",
    "    # Save results to csv\n",
    "    results.style.set_caption(\"FFT Accuracy Results\")\n",
    "    results.to_csv('FFT Accuracy Results.csv', encoding='utf-8', index=False)\n",
    "\n",
    "    val_results.style.set_caption(\"FFT Validation Results\")\n",
    "    val_results.to_csv('FFT Validation Results.csv', encoding='utf-8', index=False)\n",
    "\n",
    "\n",
    "\n",
    "\n",
    "\n",
    "\n",
    "\n",
    "## Q \n",
    "elif convrt_index == 2:\n",
    "\n",
    "\n",
    "    # Plot train loss and val acc\n",
    "    plt.suptitle(\"Q TRAINING LOSS AND VALIDATION ACCURACY\")\n",
    "    sns.despine()\n",
    "    plt.savefig(\"Q_TrainLoss_ValAcc.png\")\n",
    "\n",
    "\n",
    "    # Plot Confusion matrix\n",
    "    cm_display = metrics.ConfusionMatrixDisplay(cm, \n",
    "                                                display_labels = ('Background', 'Signal'))\n",
    "    cm_display.plot(cmap=plt.cm.Blues, values_format = '')\n",
    "    plt.title('Q Confusion Matrix for validation targets')\n",
    "    plt.grid(False)\n",
    "    plt.savefig(\"Q_ConfMatrix.png\")\n",
    "    plt.show()\n",
    "\n",
    "    # Save results to csv\n",
    "    results.style.set_caption(\"Q Accuracy Results\")\n",
    "    results.to_csv('Q Accuracy Results.csv', encoding='utf-8', index=False)\n",
    "\n",
    "    val_results.style.set_caption(\"Q Validation Results\")\n",
    "    val_results.to_csv('Q Validation Results.csv', encoding='utf-8', index=False)\n",
    "\n",
    "\n",
    "\n",
    "\n",
    "\n"
   ]
  },
  {
   "cell_type": "markdown",
   "metadata": {},
   "source": [
    "-------"
   ]
  },
  {
   "cell_type": "markdown",
   "metadata": {},
   "source": [
    "# FFT\n",
    "\n",
    "## Preparing the data"
   ]
  },
  {
   "cell_type": "code",
   "execution_count": 3,
   "metadata": {},
   "outputs": [],
   "source": [
    "# Might consider doing this to prevent crashing\n",
    "torch.cuda.empty_cache() \n",
    "\n",
    "### -------------Load dataset------------- ###\n",
    "\n",
    "# Define the file name\n",
    "filename = 'classify_data.h5'\n",
    "\n",
    "# Open the file\n",
    "with h5py.File(filename, 'r') as file:\n",
    "    # Load the datasets\n",
    "    bbh_train = np.array(file['Training']['bbh'])\n",
    "    bbh_val = np.array(file['Validation']['bbh'])\n",
    "    glitch_train = np.array(file['Training']['glitch'])\n",
    "    glitch_val = np.array(file['Validation']['glitch'])\n",
    "\n",
    "\n",
    "### -------------Label our data as background or signal------------- ###\n",
    "\n",
    "# Allows us to easily apply labels to our data to denote it as signal or background for classification.\n",
    "anomaly_class = {\n",
    "    'Glitch': 0,\n",
    "    'Signal': 1\n",
    "}\n",
    "\n",
    "# ID our data as background or signal.\n",
    "glitch_train_ids = np.full(glitch_train.shape[0], anomaly_class['Glitch'], dtype=int)\n",
    "glitch_val_ids = np.full(glitch_val.shape[0], anomaly_class['Glitch'], dtype=int)\n",
    "\n",
    "bbh_train_ids = np.full(bbh_train.shape[0], anomaly_class['Signal'], dtype=int)\n",
    "bbh_val_ids = np.full(bbh_val.shape[0], anomaly_class['Signal'], dtype=int)\n",
    "\n",
    "\n",
    "\n",
    "### -------------Merge dataset------------- ###\n",
    "\n",
    "# Stick our background and signal data together for training and testing.\n",
    "x_train = np.concatenate((glitch_train, bbh_train), axis=0).transpose((0,2,1))\n",
    "y_train = np.concatenate((glitch_train_ids, bbh_train_ids), axis=0)\n",
    "\n",
    "x_val_data = np.concatenate((glitch_val, bbh_val), axis=0).transpose((0,2,1))\n",
    "y_val = np.concatenate((glitch_val_ids, bbh_val_ids), axis=0)\n",
    "\n",
    "\n",
    "\n",
    "### -------------Shuffle dataset------------- ###\n",
    "\n",
    "# Shuffle the training data using a randomly chosen permutation. This ensures we don't encounter artifacts from background \n",
    "# and signal data being clumped together.\n",
    "idx = np.random.permutation(len(x_train))\n",
    "x_train = x_train[idx]\n",
    "y_train = y_train[idx]"
   ]
  },
  {
   "cell_type": "markdown",
   "metadata": {},
   "source": [
    "#### Whitening and filtering"
   ]
  },
  {
   "cell_type": "code",
   "execution_count": 4,
   "metadata": {},
   "outputs": [],
   "source": [
    "### -------------Split detector dataset------------- ###\n",
    "\n",
    "# Each 2D dataset of gravitational wave data comes from one of two detectors: 1  and 2 \n",
    "# Split the data from these two detectors since we can only pass 2D images into our CNN to train.\n",
    "x_train_dec1_raw = x_train[:,:,0]\n",
    "x_train_dec2_raw = x_train[:,:,1]\n",
    "\n",
    "x_val_dec1_raw = x_val_data[:,:,0]\n",
    "x_val_dec2_raw = x_val_data[:,:,1]\n",
    "\n",
    "\n",
    "\n",
    "\n",
    "# Function to process a single item\n",
    "def process_data(raw_data):\n",
    "\n",
    "\n",
    "    # Bandpass filter for 50hz and 250hz\n",
    "    bp = filter_design.bandpass(50, 250, 4096)\n",
    "\n",
    "    ## First three harmonics of the 60 Hz AC mains power:\n",
    "    notches = [filter_design.notch(line, 4096) for line in (60, 120, 180)]\n",
    "    zpk = filter_design.concatenate_zpks(bp, *notches)\n",
    "\n",
    "\n",
    "\n",
    "    hdata = TimeSeries(raw_data)\n",
    "    hdata = hdata.whiten() \n",
    "    hdata = hdata.crop(*hdata.span.contract(1)) # The whitened timeseries data\n",
    "\n",
    "    hfilt = hdata.filter(zpk, filtfilt=True)\n",
    "    hfilt = hfilt.crop(*hfilt.span.contract(1)) # The filtered and whitened timeseries data\n",
    "\n",
    "    return hdata, hfilt"
   ]
  },
  {
   "cell_type": "code",
   "execution_count": 5,
   "metadata": {},
   "outputs": [
    {
     "name": "stderr",
     "output_type": "stream",
     "text": [
      "100%|██████████| 25598/25598 [13:55<00:00, 30.65it/s]\n",
      "100%|██████████| 25598/25598 [14:10<00:00, 30.10it/s]\n",
      "100%|██████████| 598/598 [00:27<00:00, 21.56it/s]\n",
      "100%|██████████| 598/598 [00:20<00:00, 28.63it/s]\n"
     ]
    }
   ],
   "source": [
    "# Process training data\n",
    "x_train_dec1_data_arr = []\n",
    "x_train_dec1_filt_arr = []\n",
    "x_train_dec2_data_arr = []\n",
    "x_train_dec2_filt_arr = []\n",
    "x_val_dec1_data_arr = []\n",
    "x_val_dec1_filt_arr = []\n",
    "x_val_dec2_data_arr = []\n",
    "x_val_dec2_filt_arr = []\n",
    "\n",
    "\n",
    "for raw_data in tqdm(x_train_dec1_raw):\n",
    "    hdata, hfilt = process_data(raw_data)\n",
    "    x_train_dec1_data_arr.append(hdata)\n",
    "    x_train_dec1_filt_arr.append(hfilt)\n",
    "\n",
    "x_train_dec1_data_arr = np.asarray(x_train_dec1_data_arr)\n",
    "x_train_dec1_filt_arr = np.asarray(x_train_dec1_filt_arr)\n",
    "\n",
    "\n",
    "for raw_data in tqdm(x_train_dec2_raw):\n",
    "    hdata, hfilt = process_data(raw_data)\n",
    "    x_train_dec2_data_arr.append(hdata)\n",
    "    x_train_dec2_filt_arr.append(hfilt)\n",
    "\n",
    "x_train_dec2_data_arr = np.asarray(x_train_dec2_data_arr)\n",
    "x_train_dec2_filt_arr = np.asarray(x_train_dec2_filt_arr)\n",
    "\n",
    "\n",
    "for raw_data in tqdm(x_val_dec1_raw):\n",
    "    hdata, hfilt = process_data(raw_data)\n",
    "    x_val_dec1_data_arr.append(hdata)\n",
    "    x_val_dec1_filt_arr.append(hfilt)\n",
    "\n",
    "x_val_dec1_data_arr = np.asarray(x_val_dec1_data_arr)\n",
    "x_val_dec1_filt_arr = np.asarray(x_val_dec1_filt_arr)\n",
    "\n",
    "\n",
    "for raw_data in tqdm(x_val_dec2_raw):\n",
    "    hdata, hfilt = process_data(raw_data)\n",
    "    x_val_dec2_data_arr.append(hdata)\n",
    "    x_val_dec2_filt_arr.append(hfilt)\n",
    "\n",
    "x_val_dec2_data_arr = np.asarray(x_val_dec2_data_arr)\n",
    "x_val_dec2_filt_arr = np.asarray(x_val_dec2_filt_arr)"
   ]
  },
  {
   "cell_type": "markdown",
   "metadata": {},
   "source": [
    "----"
   ]
  },
  {
   "cell_type": "markdown",
   "metadata": {},
   "source": [
    "##### NOTE: RESTART FFT HERE WITHOUT HAVING TO WHITEN AND FILTER"
   ]
  },
  {
   "cell_type": "code",
   "execution_count": 24,
   "metadata": {},
   "outputs": [],
   "source": [
    "#### START HERE IF YOU NEED TO RESTART WITHOUT HAVING TO WHITEN AND FILTER\n",
    "y_train = np.concatenate((glitch_train_ids, bbh_train_ids), axis=0)\n",
    "y_train = y_train[idx]\n",
    "\n",
    "# # The whitened and filtered data\n",
    "# x_train_dec1 = x_train_dec1_filt_arr\n",
    "# x_train_dec2 = x_train_dec2_filt_arr\n",
    "# x_val_dec1 = x_val_dec1_filt_arr\n",
    "# x_val_dec2 = x_val_dec2_filt_arr\n",
    "\n",
    "# Just the whitened data\n",
    "x_train_dec1 = x_train_dec1_data_arr\n",
    "x_train_dec2 = x_train_dec2_data_arr\n",
    "x_val_dec1 = x_val_dec1_data_arr\n",
    "x_val_dec2 = x_val_dec2_data_arr"
   ]
  },
  {
   "cell_type": "markdown",
   "metadata": {},
   "source": [
    "-----"
   ]
  },
  {
   "cell_type": "markdown",
   "metadata": {},
   "source": [
    "## Converting to FFT"
   ]
  },
  {
   "cell_type": "code",
   "execution_count": 23,
   "metadata": {},
   "outputs": [
    {
     "name": "stdout",
     "output_type": "stream",
     "text": [
      "(64, 64)\n"
     ]
    }
   ],
   "source": [
    "# data = (x_train_dec1[50,:])\n",
    "# series = (TimeSeries(data, sample_rate = 4096, t0=0))     #np.array --> constantQ.timeseries   \n",
    "\n",
    "# ts = series\n",
    "# # ts_plot = ts.plot()\n",
    "# # plt.xlim(0,1)\n",
    "# # plt.show()\n",
    "\n",
    "# # # Spectrogram\n",
    "# stride = 0.0309\n",
    "# fftlength = stride\n",
    "# overlap = fftlength/2\n",
    "# ts_spectro = ts.spectrogram2(\n",
    "#     # stride=stride,\n",
    "#     fftlength=fftlength,\n",
    "#     overlap=overlap,\n",
    "# ) ** (1/2.)\n",
    "\n",
    "\n",
    "# # spectro_plot = ts_spectro.plot(norm='log')\n",
    "# # ax = spectro_plot.gca()\n",
    "# # ax.set_ylim(20, 500)\n",
    "# # ax.set_xlim(0, 1)\n",
    "# # ax.colorbar(label='strain ASD')\n",
    "# # spectro_plot.show()\n",
    "# print(ts_spectro.shape)"
   ]
  },
  {
   "cell_type": "code",
   "execution_count": 25,
   "metadata": {},
   "outputs": [
    {
     "name": "stdout",
     "output_type": "stream",
     "text": [
      "X Training Shape:  (22854, 2, 64, 64)\n",
      "Y Training Shape:  (22854,)\n",
      "X Validation Shape:  (598, 2, 64, 64)\n",
      "Y Validation Shape:  (598,)\n",
      "X Testing Shape:  (2744, 2, 64, 64)\n",
      "Y Testing Shape:  (2744,)\n"
     ]
    }
   ],
   "source": [
    "### -------------Convert to FFT Spectrograms------------- ###\n",
    "\n",
    "data_list = []\n",
    "series_list = []\n",
    "fft_list = []\n",
    "\n",
    "stride = 0.0309\n",
    "fftlength = stride\n",
    "overlap = fftlength/2\n",
    "\n",
    "\n",
    "datas = [x_train_dec1, x_train_dec2, x_val_dec1, x_val_dec2]\n",
    "\n",
    "for d in range(len(datas)):\n",
    "    data_list = []\n",
    "    series_list = []\n",
    "    fft_list = []\n",
    "\n",
    "\n",
    "    for i in range(len(datas[d])):\n",
    "        data = (datas[d][i,:])\n",
    "        data_list.append(data)\n",
    "        # print(datas[d].shape)\n",
    "        series = (TimeSeries(data, sample_rate = 4096, t0=0))     #np.array --> constantQ.timeseries   \n",
    "        series_list.append(series)\n",
    "\n",
    "        series_spectro = series.spectrogram2(\n",
    "            fftlength=fftlength,\n",
    "            overlap=overlap,\n",
    "        ) ** (1/2.)\n",
    "        fft_list.append(series_spectro)\n",
    "\n",
    "\n",
    "\n",
    "\n",
    "    if d == 0:\n",
    "        data_arr_x_train_dec1 = np.stack(data_list, axis = 0)\n",
    "        series_arr_x_train_dec1 = np.asarray(series_list)\n",
    "        # fft_arr_x_train_dec1 = np.stack(fft_list, axis = 0)\n",
    "        fft_arr_x_train_dec1 = np.asarray(fft_list)\n",
    "\n",
    "\n",
    "    elif d == 1:\n",
    "        data_arr_x_train_dec2 = np.stack(data_list, axis = 0)\n",
    "        series_arr_x_train_dec2 = np.asarray(series_list)\n",
    "        fft_arr_x_train_dec2 = np.asarray(fft_list)\n",
    "\n",
    "    elif d == 2:\n",
    "        data_arr_x_test_dec1 = np.stack(data_list, axis = 0)\n",
    "        series_arr_x_test_dec1 = np.asarray(series_list)\n",
    "        fft_arr_x_test_dec1 = np.asarray(fft_list)\n",
    "\n",
    "    else:\n",
    "        data_arr_x_test_dec2 = np.stack(data_list, axis = 0)\n",
    "        series_arr_x_test_dec2 = np.asarray(series_list)\n",
    "        fft_arr_x_test_dec2 = np.asarray(fft_list)\n",
    "\n",
    "\n",
    "\n",
    "\n",
    "img_x_train_dec1 = fft_arr_x_train_dec1\n",
    "img_x_train_dec2 = fft_arr_x_train_dec2\n",
    "img_x_val_dec1 = fft_arr_x_test_dec1\n",
    "img_x_val_dec2 = fft_arr_x_test_dec2\n",
    "\n",
    "\n",
    "\n",
    "\n",
    "# Stack Detector 1 and Detector 2 image data together to unify our training and testing datasets before training.\n",
    "x_train = np.stack((img_x_train_dec1, img_x_train_dec2), axis=1)\n",
    "x_val = np.stack((img_x_val_dec1, img_x_val_dec2), axis=1)\n",
    "\n",
    "\n",
    "\n",
    "### -------------Split into training and validation datasets------------- ###\n",
    "\n",
    "# Take the first 17.65% of our training features and targets as validation set\n",
    "x_test= x_train[:round((len(x_train)*0.1072))]\n",
    "y_test = y_train[:round((len(y_train)*0.1072))]\n",
    "\n",
    "# Take the remaining 82.35% of training features and targets as training set\n",
    "x_train = x_train[round((len(x_train)*0.1072)):]\n",
    "y_train = y_train[round((len(y_train)*0.1072)):]\n",
    "\n",
    "# Check the shapes of the training/validation datasets. Turns out we get about a 80%, 13%, 2% split.\n",
    "print(\"X Training Shape: \", x_train.shape)\n",
    "print(\"Y Training Shape: \", y_train.shape)\n",
    "print(\"X Validation Shape: \", x_val.shape)\n",
    "print(\"Y Validation Shape: \", y_val.shape)\n",
    "print(\"X Testing Shape: \", x_test.shape)\n",
    "print(\"Y Testing Shape: \", y_test.shape)"
   ]
  },
  {
   "cell_type": "markdown",
   "metadata": {},
   "source": [
    "## CNN Model"
   ]
  },
  {
   "cell_type": "code",
   "execution_count": 26,
   "metadata": {},
   "outputs": [],
   "source": [
    "### -------------Model Definition------------- ###\n",
    "\n",
    "class CNNModel(torch.nn.Module):\n",
    "    \n",
    "    def __init__(self):\n",
    "        \n",
    "        super(CNNModel, self).__init__()\n",
    "\n",
    "        # First convolution layer (2 channel -> 16 channels, preserve original dimension by adding padding = 2) \n",
    "        self.layer1 = torch.nn.Sequential(\n",
    "            torch.nn.Conv2d(in_channels=2, out_channels=16, kernel_size=4, stride=2, padding=1),\n",
    "            torch.nn.BatchNorm2d(16),\n",
    "            torch.nn.ReLU(),\n",
    "            torch.nn.MaxPool2d(kernel_size=4, stride=2, padding=1)\n",
    "            )\n",
    "        \n",
    "        # Second convolution layer (16 channel -> 32 channels, preserve dimension by adding padding = 2)\n",
    "        self.layer2 = torch.nn.Sequential(\n",
    "            torch.nn.Conv2d(in_channels=16, out_channels=32, kernel_size=3, stride=1, padding=1),\n",
    "            torch.nn.BatchNorm2d(32),\n",
    "            torch.nn.ReLU(),\n",
    "            torch.nn.MaxPool2d(kernel_size=2, stride=2, padding=0)\n",
    "            )\n",
    "\n",
    "        # Fully connected layer that takes the flattened output of layer 2 (32, 7 ,7) -> (1568) and output 2 classes\n",
    "        self.fc1 = torch.nn.Linear(in_features=32*8*8, out_features=128)\n",
    "        self.fc2 = torch.nn.Linear(in_features=128, out_features=64)\n",
    "        self.fc3 = torch.nn.Linear(in_features=64, out_features=2)\n",
    "    \n",
    "    def forward(self, x):\n",
    "\n",
    "        # input image -> conv -> batchnorm -> relu -> maxpool\n",
    "        out = self.layer1(x)\n",
    "        # 1st maxpool output -> conv -> batchnorm -> relu -> maxpool\n",
    "        out = self.layer2(out)\n",
    "        # flatten the second maxpool output to be used as input into FCN layer\n",
    "        out = out.view(out.size(0), -1)\n",
    "\n",
    "        # Pass flattened output into FCN layers\n",
    "        out = self.fc1(out)\n",
    "        out = self.fc2(out)\n",
    "        out = self.fc3(out)\n",
    "        \n",
    "        return out"
   ]
  },
  {
   "cell_type": "markdown",
   "metadata": {},
   "source": [
    "## Hyperparameters"
   ]
  },
  {
   "cell_type": "code",
   "execution_count": 27,
   "metadata": {},
   "outputs": [],
   "source": [
    "### -------------Hyperparameters------------- ###\n",
    "\n",
    "# Initialize the CNN model\n",
    "model = CNNModel()\n",
    "\n",
    "# Define learning rate, epoch and batchsize for mini-batch gradient, and L2 regularization\n",
    "learning_rate = 0.00005      #0.00005\n",
    "epochs = 40                 # 75\n",
    "batchsize = 768\n",
    "L2_reg = 0.00005\n",
    "\n",
    "# Define loss function and optimizer\n",
    "loss_func = torch.nn.CrossEntropyLoss()\n",
    "optimizer = torch.optim.Adam(model.parameters(), lr = learning_rate, weight_decay=L2_reg)\n",
    "\n",
    "if torch.cuda.is_available():                                  # Checks if the GPU is available for processing\n",
    "    model.cuda()                                               # Sends the model to the GPU for processing\n",
    "model        \n",
    "\n",
    "\n",
    "\n",
    "### -------------Identify tracked values------------- ###\n",
    "\n",
    "train_loss_list_spec = []\n",
    "validation_accuracy_list_spec = np.zeros((epochs,))\n",
    "\n",
    "\n",
    "### -------------Training Model------------- ###\n",
    "\n",
    "if torch.cuda.is_available():                   # If using CUDA version of PyTorch, dataset will be processed on GPU\n",
    "\n",
    "    # Convert train/validation/test sets into torch tensors from numpy\n",
    "    train_inputs = torch.from_numpy(x_train).float().cuda()\n",
    "    train_targets = torch.from_numpy(y_train).long().cuda()\n",
    "\n",
    "    validation_inputs = torch.from_numpy(x_val).float().cuda()\n",
    "    validation_targets = torch.from_numpy(y_val).long().cuda()\n",
    "\n",
    "    testing_inputs = torch.from_numpy(x_test).float().cuda()\n",
    "    testing_targets = torch.from_numpy(y_test).long().cuda()\n",
    "\n",
    "    # Split the training inputs/targets into mini-batches\n",
    "    train_batches_features = torch.split(train_inputs, batchsize)\n",
    "    train_batches_targets = torch.split(train_targets, batchsize)\n",
    "\n",
    "else:                                           # If not using CUDA version of PyTorch, dataset will be processed on CPU\n",
    "\n",
    "    # Convert train/validation/test sets into torch tensors from numpy\n",
    "    train_inputs = torch.from_numpy(x_train).float()\n",
    "    train_targets = torch.from_numpy(y_train).long()\n",
    "\n",
    "    validation_inputs = torch.from_numpy(x_val).float()\n",
    "    validation_targets = torch.from_numpy(y_val).long()\n",
    "\n",
    "    testing_inputs = torch.from_numpy(x_test).float()\n",
    "    testing_targets = torch.from_numpy(y_test).long()\n",
    "\n",
    "    # Split the training inputs/targets into mini-batches\n",
    "    train_batches_features = torch.split(train_inputs, batchsize)\n",
    "    train_batches_targets = torch.split(train_targets, batchsize)\n",
    "\n",
    "# length of train_batches_features = total number of mini-batches in the training set\n",
    "batch_split_num = len(train_batches_features)"
   ]
  },
  {
   "cell_type": "markdown",
   "metadata": {},
   "source": [
    "## Training loop"
   ]
  },
  {
   "cell_type": "code",
   "execution_count": 28,
   "metadata": {},
   "outputs": [
    {
     "name": "stderr",
     "output_type": "stream",
     "text": [
      "Epoch 0: 100%|██████████| 30/30 [00:05<00:00,  5.05it/s]0<?, ?it/s]"
     ]
    },
    {
     "name": "stdout",
     "output_type": "stream",
     "text": [
      "Epoch: 0 Epoch time: 5.94s Validation Accuracy: 54.35% Training loss: 0.68\n"
     ]
    },
    {
     "name": "stderr",
     "output_type": "stream",
     "text": [
      "\n",
      "Epoch 1: 100%|██████████| 30/30 [00:05<00:00,  5.52it/s]6<03:57,  6.08s/it]"
     ]
    },
    {
     "name": "stdout",
     "output_type": "stream",
     "text": [
      "Epoch: 1 Epoch time: 5.44s Validation Accuracy: 54.85% Training loss: 0.67\n"
     ]
    },
    {
     "name": "stderr",
     "output_type": "stream",
     "text": [
      "\n",
      "Epoch 2: 100%|██████████| 30/30 [00:05<00:00,  5.56it/s]1<03:39,  5.78s/it]"
     ]
    },
    {
     "name": "stdout",
     "output_type": "stream",
     "text": [
      "Epoch: 2 Epoch time: 5.4s Validation Accuracy: 49.83% Training loss: 0.65\n"
     ]
    },
    {
     "name": "stderr",
     "output_type": "stream",
     "text": [
      "\n",
      "Epoch 3: 100%|██████████| 30/30 [00:05<00:00,  5.55it/s]7<03:29,  5.67s/it]"
     ]
    },
    {
     "name": "stdout",
     "output_type": "stream",
     "text": [
      "Epoch: 3 Epoch time: 5.41s Validation Accuracy: 51.67% Training loss: 0.62\n"
     ]
    },
    {
     "name": "stderr",
     "output_type": "stream",
     "text": [
      "\n",
      "Epoch 4: 100%|██████████| 30/30 [00:05<00:00,  5.54it/s]2<03:22,  5.62s/it]"
     ]
    },
    {
     "name": "stdout",
     "output_type": "stream",
     "text": [
      "Epoch: 4 Epoch time: 5.42s Validation Accuracy: 55.52% Training loss: 0.56\n"
     ]
    },
    {
     "name": "stderr",
     "output_type": "stream",
     "text": [
      "\n",
      "Epoch 5: 100%|██████████| 30/30 [00:05<00:00,  5.57it/s]8<03:15,  5.60s/it]"
     ]
    },
    {
     "name": "stdout",
     "output_type": "stream",
     "text": [
      "Epoch: 5 Epoch time: 5.39s Validation Accuracy: 62.21% Training loss: 0.49\n"
     ]
    },
    {
     "name": "stderr",
     "output_type": "stream",
     "text": [
      "\n",
      "Epoch 6: 100%|██████████| 30/30 [00:05<00:00,  5.47it/s]3<03:09,  5.57s/it]"
     ]
    },
    {
     "name": "stdout",
     "output_type": "stream",
     "text": [
      "Epoch: 6 Epoch time: 5.49s Validation Accuracy: 72.07% Training loss: 0.42\n"
     ]
    },
    {
     "name": "stderr",
     "output_type": "stream",
     "text": [
      "\n",
      "Epoch 7: 100%|██████████| 30/30 [00:05<00:00,  5.57it/s]9<03:04,  5.59s/it]"
     ]
    },
    {
     "name": "stdout",
     "output_type": "stream",
     "text": [
      "Epoch: 7 Epoch time: 5.39s Validation Accuracy: 76.76% Training loss: 0.35\n"
     ]
    },
    {
     "name": "stderr",
     "output_type": "stream",
     "text": [
      "\n",
      "Epoch 8: 100%|██████████| 30/30 [00:05<00:00,  5.56it/s]4<02:58,  5.57s/it]"
     ]
    },
    {
     "name": "stdout",
     "output_type": "stream",
     "text": [
      "Epoch: 8 Epoch time: 5.4s Validation Accuracy: 78.09% Training loss: 0.3\n"
     ]
    },
    {
     "name": "stderr",
     "output_type": "stream",
     "text": [
      "\n",
      "Epoch 9: 100%|██████████| 30/30 [00:05<00:00,  5.48it/s]0<02:52,  5.56s/it]"
     ]
    },
    {
     "name": "stdout",
     "output_type": "stream",
     "text": [
      "Epoch: 9 Epoch time: 5.48s Validation Accuracy: 79.26% Training loss: 0.26\n"
     ]
    },
    {
     "name": "stderr",
     "output_type": "stream",
     "text": [
      "\n",
      "Epoch 10: 100%|██████████| 30/30 [00:05<00:00,  5.41it/s]6<02:47,  5.57s/it]"
     ]
    },
    {
     "name": "stdout",
     "output_type": "stream",
     "text": [
      "Epoch: 10 Epoch time: 5.55s Validation Accuracy: 81.61% Training loss: 0.24\n"
     ]
    },
    {
     "name": "stderr",
     "output_type": "stream",
     "text": [
      "\n",
      "Epoch 11: 100%|██████████| 30/30 [00:05<00:00,  5.55it/s]1<02:42,  5.60s/it]"
     ]
    },
    {
     "name": "stdout",
     "output_type": "stream",
     "text": [
      "Epoch: 11 Epoch time: 5.41s Validation Accuracy: 82.27% Training loss: 0.21\n"
     ]
    },
    {
     "name": "stderr",
     "output_type": "stream",
     "text": [
      "\n",
      "Epoch 12: 100%|██████████| 30/30 [00:05<00:00,  5.58it/s]7<02:36,  5.59s/it]"
     ]
    },
    {
     "name": "stdout",
     "output_type": "stream",
     "text": [
      "Epoch: 12 Epoch time: 5.38s Validation Accuracy: 83.95% Training loss: 0.2\n"
     ]
    },
    {
     "name": "stderr",
     "output_type": "stream",
     "text": [
      "\n",
      "Epoch 13: 100%|██████████| 30/30 [00:05<00:00,  5.55it/s]2<02:30,  5.56s/it]"
     ]
    },
    {
     "name": "stdout",
     "output_type": "stream",
     "text": [
      "Epoch: 13 Epoch time: 5.41s Validation Accuracy: 84.78% Training loss: 0.19\n"
     ]
    },
    {
     "name": "stderr",
     "output_type": "stream",
     "text": [
      "\n",
      "Epoch 14: 100%|██████████| 30/30 [00:05<00:00,  5.57it/s]8<02:24,  5.56s/it]"
     ]
    },
    {
     "name": "stdout",
     "output_type": "stream",
     "text": [
      "Epoch: 14 Epoch time: 5.39s Validation Accuracy: 84.78% Training loss: 0.18\n"
     ]
    },
    {
     "name": "stderr",
     "output_type": "stream",
     "text": [
      "\n",
      "Epoch 15: 100%|██████████| 30/30 [00:05<00:00,  5.56it/s]3<02:18,  5.55s/it]"
     ]
    },
    {
     "name": "stdout",
     "output_type": "stream",
     "text": [
      "Epoch: 15 Epoch time: 5.4s Validation Accuracy: 88.63% Training loss: 0.18\n"
     ]
    },
    {
     "name": "stderr",
     "output_type": "stream",
     "text": [
      "\n",
      "Epoch 16: 100%|██████████| 30/30 [00:05<00:00,  5.57it/s]9<02:13,  5.54s/it]"
     ]
    },
    {
     "name": "stdout",
     "output_type": "stream",
     "text": [
      "Epoch: 16 Epoch time: 5.39s Validation Accuracy: 87.79% Training loss: 0.17\n"
     ]
    },
    {
     "name": "stderr",
     "output_type": "stream",
     "text": [
      "\n",
      "Epoch 17: 100%|██████████| 30/30 [00:05<00:00,  5.53it/s]4<02:07,  5.54s/it]"
     ]
    },
    {
     "name": "stdout",
     "output_type": "stream",
     "text": [
      "Epoch: 17 Epoch time: 5.43s Validation Accuracy: 90.13% Training loss: 0.18\n"
     ]
    },
    {
     "name": "stderr",
     "output_type": "stream",
     "text": [
      "\n",
      "Epoch 18: 100%|██████████| 30/30 [00:05<00:00,  5.54it/s]0<02:01,  5.54s/it]"
     ]
    },
    {
     "name": "stdout",
     "output_type": "stream",
     "text": [
      "Epoch: 18 Epoch time: 5.41s Validation Accuracy: 91.3% Training loss: 0.16\n"
     ]
    },
    {
     "name": "stderr",
     "output_type": "stream",
     "text": [
      "\n",
      "Epoch 19: 100%|██████████| 30/30 [00:05<00:00,  5.56it/s]6<01:56,  5.55s/it]"
     ]
    },
    {
     "name": "stdout",
     "output_type": "stream",
     "text": [
      "Epoch: 19 Epoch time: 5.4s Validation Accuracy: 94.48% Training loss: 0.16\n"
     ]
    },
    {
     "name": "stderr",
     "output_type": "stream",
     "text": [
      "\n",
      "Epoch 20: 100%|██████████| 30/30 [00:05<00:00,  5.56it/s]1<01:50,  5.54s/it]"
     ]
    },
    {
     "name": "stdout",
     "output_type": "stream",
     "text": [
      "Epoch: 20 Epoch time: 5.41s Validation Accuracy: 93.65% Training loss: 0.15\n"
     ]
    },
    {
     "name": "stderr",
     "output_type": "stream",
     "text": [
      "\n",
      "Epoch 21: 100%|██████████| 30/30 [00:05<00:00,  5.56it/s]7<01:45,  5.55s/it]"
     ]
    },
    {
     "name": "stdout",
     "output_type": "stream",
     "text": [
      "Epoch: 21 Epoch time: 5.4s Validation Accuracy: 93.14% Training loss: 0.14\n"
     ]
    },
    {
     "name": "stderr",
     "output_type": "stream",
     "text": [
      "\n",
      "Epoch 22: 100%|██████████| 30/30 [00:05<00:00,  5.57it/s]2<01:39,  5.54s/it]"
     ]
    },
    {
     "name": "stdout",
     "output_type": "stream",
     "text": [
      "Epoch: 22 Epoch time: 5.39s Validation Accuracy: 93.81% Training loss: 0.14\n"
     ]
    },
    {
     "name": "stderr",
     "output_type": "stream",
     "text": [
      "\n",
      "Epoch 23: 100%|██████████| 30/30 [00:05<00:00,  5.57it/s]8<01:34,  5.54s/it]"
     ]
    },
    {
     "name": "stdout",
     "output_type": "stream",
     "text": [
      "Epoch: 23 Epoch time: 5.39s Validation Accuracy: 93.81% Training loss: 0.13\n"
     ]
    },
    {
     "name": "stderr",
     "output_type": "stream",
     "text": [
      "\n",
      "Epoch 24: 100%|██████████| 30/30 [00:05<00:00,  5.57it/s]3<01:28,  5.53s/it]"
     ]
    },
    {
     "name": "stdout",
     "output_type": "stream",
     "text": [
      "Epoch: 24 Epoch time: 5.39s Validation Accuracy: 94.31% Training loss: 0.13\n"
     ]
    },
    {
     "name": "stderr",
     "output_type": "stream",
     "text": [
      "\n",
      "Epoch 25: 100%|██████████| 30/30 [00:05<00:00,  5.56it/s]9<01:22,  5.53s/it]"
     ]
    },
    {
     "name": "stdout",
     "output_type": "stream",
     "text": [
      "Epoch: 25 Epoch time: 5.4s Validation Accuracy: 94.31% Training loss: 0.13\n"
     ]
    },
    {
     "name": "stderr",
     "output_type": "stream",
     "text": [
      "\n",
      "Epoch 26: 100%|██████████| 30/30 [00:05<00:00,  5.57it/s]4<01:17,  5.53s/it]"
     ]
    },
    {
     "name": "stdout",
     "output_type": "stream",
     "text": [
      "Epoch: 26 Epoch time: 5.39s Validation Accuracy: 94.48% Training loss: 0.12\n"
     ]
    },
    {
     "name": "stderr",
     "output_type": "stream",
     "text": [
      "\n",
      "Epoch 27: 100%|██████████| 30/30 [00:05<00:00,  5.56it/s]0<01:11,  5.53s/it]"
     ]
    },
    {
     "name": "stdout",
     "output_type": "stream",
     "text": [
      "Epoch: 27 Epoch time: 5.4s Validation Accuracy: 94.48% Training loss: 0.12\n"
     ]
    },
    {
     "name": "stderr",
     "output_type": "stream",
     "text": [
      "\n",
      "Epoch 28: 100%|██████████| 30/30 [00:05<00:00,  5.53it/s]5<01:06,  5.53s/it]"
     ]
    },
    {
     "name": "stdout",
     "output_type": "stream",
     "text": [
      "Epoch: 28 Epoch time: 5.43s Validation Accuracy: 94.65% Training loss: 0.12\n"
     ]
    },
    {
     "name": "stderr",
     "output_type": "stream",
     "text": [
      "\n",
      "Epoch 29: 100%|██████████| 30/30 [00:05<00:00,  5.58it/s]1<01:00,  5.54s/it]"
     ]
    },
    {
     "name": "stdout",
     "output_type": "stream",
     "text": [
      "Epoch: 29 Epoch time: 5.39s Validation Accuracy: 94.48% Training loss: 0.11\n"
     ]
    },
    {
     "name": "stderr",
     "output_type": "stream",
     "text": [
      "\n",
      "Epoch 30: 100%|██████████| 30/30 [00:05<00:00,  5.57it/s]6<00:55,  5.53s/it]"
     ]
    },
    {
     "name": "stdout",
     "output_type": "stream",
     "text": [
      "Epoch: 30 Epoch time: 5.39s Validation Accuracy: 94.98% Training loss: 0.12\n"
     ]
    },
    {
     "name": "stderr",
     "output_type": "stream",
     "text": [
      "\n",
      "Epoch 31: 100%|██████████| 30/30 [00:05<00:00,  5.50it/s]2<00:49,  5.53s/it]"
     ]
    },
    {
     "name": "stdout",
     "output_type": "stream",
     "text": [
      "Epoch: 31 Epoch time: 5.45s Validation Accuracy: 95.15% Training loss: 0.11\n"
     ]
    },
    {
     "name": "stderr",
     "output_type": "stream",
     "text": [
      "\n",
      "Epoch 32: 100%|██████████| 30/30 [00:05<00:00,  5.51it/s]8<00:44,  5.55s/it]"
     ]
    },
    {
     "name": "stdout",
     "output_type": "stream",
     "text": [
      "Epoch: 32 Epoch time: 5.45s Validation Accuracy: 95.15% Training loss: 0.1\n"
     ]
    },
    {
     "name": "stderr",
     "output_type": "stream",
     "text": [
      "\n",
      "Epoch 33: 100%|██████████| 30/30 [00:05<00:00,  5.57it/s]3<00:38,  5.56s/it]"
     ]
    },
    {
     "name": "stdout",
     "output_type": "stream",
     "text": [
      "Epoch: 33 Epoch time: 5.39s Validation Accuracy: 95.15% Training loss: 0.11\n"
     ]
    },
    {
     "name": "stderr",
     "output_type": "stream",
     "text": [
      "\n",
      "Epoch 34: 100%|██████████| 30/30 [00:05<00:00,  5.56it/s]9<00:33,  5.55s/it]"
     ]
    },
    {
     "name": "stdout",
     "output_type": "stream",
     "text": [
      "Epoch: 34 Epoch time: 5.41s Validation Accuracy: 95.32% Training loss: 0.11\n"
     ]
    },
    {
     "name": "stderr",
     "output_type": "stream",
     "text": [
      "\n",
      "Epoch 35: 100%|██████████| 30/30 [00:05<00:00,  5.55it/s]4<00:27,  5.55s/it]"
     ]
    },
    {
     "name": "stdout",
     "output_type": "stream",
     "text": [
      "Epoch: 35 Epoch time: 5.4s Validation Accuracy: 95.15% Training loss: 0.1\n"
     ]
    },
    {
     "name": "stderr",
     "output_type": "stream",
     "text": [
      "\n",
      "Epoch 36: 100%|██████████| 30/30 [00:05<00:00,  5.57it/s]0<00:22,  5.55s/it]"
     ]
    },
    {
     "name": "stdout",
     "output_type": "stream",
     "text": [
      "Epoch: 36 Epoch time: 5.39s Validation Accuracy: 95.32% Training loss: 0.11\n"
     ]
    },
    {
     "name": "stderr",
     "output_type": "stream",
     "text": [
      "\n",
      "Epoch 37: 100%|██████████| 30/30 [00:05<00:00,  5.57it/s]5<00:16,  5.54s/it]"
     ]
    },
    {
     "name": "stdout",
     "output_type": "stream",
     "text": [
      "Epoch: 37 Epoch time: 5.39s Validation Accuracy: 95.32% Training loss: 0.1\n"
     ]
    },
    {
     "name": "stderr",
     "output_type": "stream",
     "text": [
      "\n",
      "Epoch 38: 100%|██████████| 30/30 [00:05<00:00,  5.54it/s]1<00:11,  5.53s/it]"
     ]
    },
    {
     "name": "stdout",
     "output_type": "stream",
     "text": [
      "Epoch: 38 Epoch time: 5.42s Validation Accuracy: 95.48% Training loss: 0.1\n"
     ]
    },
    {
     "name": "stderr",
     "output_type": "stream",
     "text": [
      "\n",
      "Epoch 39: 100%|██████████| 30/30 [00:05<00:00,  5.55it/s]6<00:05,  5.54s/it]"
     ]
    },
    {
     "name": "stdout",
     "output_type": "stream",
     "text": [
      "Epoch: 39 Epoch time: 5.41s Validation Accuracy: 95.48% Training loss: 0.1\n"
     ]
    },
    {
     "name": "stderr",
     "output_type": "stream",
     "text": [
      "\n",
      "Training Model on 40 Epochs: 100%|██████████| 40/40 [03:42<00:00,  5.56s/it]\n"
     ]
    }
   ],
   "source": [
    "### -------------Training Loop------------- ###\n",
    "## NOTE: CHANGE DESC TO INCLUDE CHANGING EPOCHS\n",
    "\n",
    "for epoch in trange(epochs, desc='Training Model on 40 Epochs'):\n",
    "    start_time = timer() # start timer\n",
    "    # Each mini-batch number i, grab i-th training feature and target mini-batch and perform fwd/bwd pass on the network\n",
    "    \n",
    "    for i in trange(batch_split_num, desc=f'Epoch {epoch}'):\n",
    "    \n",
    "        optimizer.zero_grad()    \n",
    "        train_batch_outputs = model(train_batches_features[i])  \n",
    "        loss = loss_func(train_batch_outputs, train_batches_targets[i])\n",
    "        train_loss_list_spec.append(loss.item())       \n",
    "        loss.backward()\n",
    "        optimizer.step()\n",
    "\n",
    "    end_time = timer() # End timer\n",
    "\n",
    "    ### -------------Compute Validation Accuracy------------- ###\n",
    "\n",
    "    with torch.no_grad():\n",
    "\n",
    "        validation_outputs = model(validation_inputs)\n",
    "        val_correct = (torch.argmax(validation_outputs, dim=1) == validation_targets).type(torch.FloatTensor)\n",
    "        validation_accuracy_list_spec[epoch] = val_correct.mean()  \n",
    "                      \n",
    "        print(\"Epoch: \"+ str(epoch),\n",
    "              \"Epoch time: \" + str(np.round(end_time - start_time, 2)) + \"s\",\n",
    "              \"Validation Accuracy: \" + str(np.round(val_correct.mean().numpy() * 100, 2)) + '%',\n",
    "              \"Training loss: \" + str(np.round(loss.item(), 2)), flush=True)"
   ]
  },
  {
   "cell_type": "markdown",
   "metadata": {},
   "source": [
    "## Visualize & Evaluate Model"
   ]
  },
  {
   "cell_type": "code",
   "execution_count": 29,
   "metadata": {},
   "outputs": [
    {
     "data": {
      "image/png": "[encoded data removed]",
      "text/plain": [
       "<Figure size 1200x1000 with 2 Axes>"
      ]
     },
     "metadata": {},
     "output_type": "display_data"
    },
    {
     "data": {
      "image/png": "[encoded data removed]",
      "text/plain": [
       "<Figure size 640x480 with 2 Axes>"
      ]
     },
     "metadata": {},
     "output_type": "display_data"
    }
   ],
   "source": [
    "### -------------Plot the training loss and validation accuracy------------- ###\n",
    "\n",
    "sns.set(style = 'whitegrid', font_scale = 1)\n",
    "plt.figure(figsize = (12,10))\n",
    "plt.rcParams[\"font.family\"] = \"serif\"\n",
    "plt.rcParams[\"font.sans-serif\"] = \"Open Sans\"\n",
    "\n",
    "plt.subplot(2, 1, 1)\n",
    "plt.plot(train_loss_list_spec, linewidth = 3, color=\"#4b2e83\")\n",
    "plt.ylabel(\"Training loss\")\n",
    "plt.xlabel(\"Iterations\")\n",
    "\n",
    "\n",
    "plt.subplot(2, 1, 2)\n",
    "plt.plot(validation_accuracy_list_spec, linewidth = 3, color = \"#85754d\")\n",
    "plt.ylabel(\"Validation Accuracy\")\n",
    "plt.xlabel(\"Epochs\")\n",
    "plt.suptitle(\"FFT TRAINING LOSS AND VALIDATION ACCURACY\")\n",
    "sns.despine()\n",
    "\n",
    "plt.savefig(\"FFT_TrainLoss_ValAcc.png\")\n",
    "\n",
    "\n",
    "# torch.cuda.empty_cache()\n",
    "\n",
    "### -------------Computing the Training accuracy------------- ###\n",
    "\n",
    "with torch.no_grad():\n",
    "\n",
    "    target_pred_test = model(train_inputs)\n",
    "    train_correct = (torch.argmax(target_pred_test, dim=1) == train_targets).type(torch.FloatTensor)\n",
    "    train_testing_acc = (train_correct.mean().numpy()*100)\n",
    "\n",
    "### -------------Computing the testing accuracy------------- ###\n",
    "\n",
    "with torch.no_grad():\n",
    "\n",
    "    target_pred_test = model(testing_inputs)\n",
    "    test_correct = (torch.argmax(target_pred_test, dim=1) == testing_targets).type(torch.FloatTensor)\n",
    "    test_testing_acc = (test_correct.mean().numpy()*100) \n",
    "\n",
    "### -------------Computing the validation accuracy------------- ###\n",
    "\n",
    "with torch.no_grad():\n",
    "\n",
    "    target_pred_test = model(validation_inputs)\n",
    "    val_correct = (torch.argmax(target_pred_test, dim=1) == validation_targets).type(torch.FloatTensor)\n",
    "    val_testing_acc = (val_correct.mean().numpy()*100)\n",
    "\n",
    "\n",
    "### -------------Confusion Matrix------------- ###\n",
    "\n",
    "actual = validation_targets.cpu().numpy()\n",
    "predicted = (torch.argmax(model(validation_inputs), dim=1)).cpu().numpy()\n",
    "\n",
    "cm = confusion_matrix(actual, predicted)\n",
    "\n",
    "cm_display = metrics.ConfusionMatrixDisplay(cm, \n",
    "                                            display_labels = ('Background', 'Signal'))\n",
    "cm_display.plot(cmap=plt.cm.Blues, values_format = '')\n",
    "plt.title('FFT Confusion Matrix for validation targets')\n",
    "plt.grid(False)\n",
    "plt.savefig(\"FFT_ConfMatrix.png\")\n",
    "plt.show()\n",
    "\n",
    "\n",
    "Accuracy = metrics.accuracy_score(actual, predicted)*100\n",
    "Precision = metrics.precision_score(actual, predicted)*100\n",
    "Sensitivity_recall = metrics.recall_score(actual, predicted)*100\n",
    "Specificity = metrics.recall_score(actual, predicted, pos_label=0)*100\n",
    "F1_score = metrics.f1_score(actual, predicted)*100\n",
    "\n",
    "\n",
    "acc = {'Training Accuracy': [train_testing_acc],\n",
    "           'Testing Accuracy': [test_testing_acc],\n",
    "           'Validation Accuracy': [val_testing_acc]}\n",
    "\n",
    "results = pd.DataFrame(acc)\n",
    "results.style.set_caption(\"FFT Accuracy Results\")\n",
    "results.to_csv('FFT Accuracy Results.csv', encoding='utf-8', index=False)\n",
    "\n",
    "\n",
    "val = {'Accuracy': [Accuracy],\n",
    "       'Precision': [Precision],\n",
    "       'Sensitivity_recall': [Sensitivity_recall],\n",
    "       'Specificity': [Specificity],\n",
    "       'F1_score': [F1_score]}\n",
    "\n",
    "val_results = pd.DataFrame(val)\n",
    "val_results.style.set_caption(\"FFT Validation Results\")\n",
    "val_results.to_csv('FFT Validation Results.csv', encoding='utf-8', index=False)"
   ]
  },
  {
   "cell_type": "markdown",
   "metadata": {},
   "source": [
    "-----"
   ]
  },
  {
   "cell_type": "markdown",
   "metadata": {},
   "source": [
    "# Q Transform\n",
    "\n",
    "## Preparing the data"
   ]
  },
  {
   "cell_type": "code",
   "execution_count": 4,
   "metadata": {},
   "outputs": [],
   "source": [
    "# Might consider doing this to prevent crashing\n",
    "torch.cuda.empty_cache() \n",
    "\n",
    "### -------------Load dataset------------- ###\n",
    "\n",
    "# Define the file name\n",
    "filename = 'classify_data.h5'\n",
    "\n",
    "# Open the file\n",
    "with h5py.File(filename, 'r') as file:\n",
    "    # Load the datasets\n",
    "    bbh_train = np.array(file['Training']['bbh'])\n",
    "    bbh_val = np.array(file['Validation']['bbh'])\n",
    "    glitch_train = np.array(file['Training']['glitch'])\n",
    "    glitch_val = np.array(file['Validation']['glitch'])\n",
    "\n",
    "\n",
    "### -------------Label our data as background or signal------------- ###\n",
    "\n",
    "# Allows us to easily apply labels to our data to denote it as signal or background for classification.\n",
    "anomaly_class = {\n",
    "    'Glitch': 0,\n",
    "    'Signal': 1\n",
    "}\n",
    "\n",
    "# ID our data as background or signal.\n",
    "glitch_train_ids = np.full(glitch_train.shape[0], anomaly_class['Glitch'], dtype=int)\n",
    "glitch_val_ids = np.full(glitch_val.shape[0], anomaly_class['Glitch'], dtype=int)\n",
    "\n",
    "bbh_train_ids = np.full(bbh_train.shape[0], anomaly_class['Signal'], dtype=int)\n",
    "bbh_val_ids = np.full(bbh_val.shape[0], anomaly_class['Signal'], dtype=int)\n",
    "\n",
    "\n",
    "\n",
    "### -------------Merge dataset------------- ###\n",
    "\n",
    "# Stick our background and signal data together for training and testing.\n",
    "x_train = np.concatenate((glitch_train, bbh_train), axis=0).transpose((0,2,1))\n",
    "y_train = np.concatenate((glitch_train_ids, bbh_train_ids), axis=0)\n",
    "\n",
    "x_val_data = np.concatenate((glitch_val, bbh_val), axis=0).transpose((0,2,1))\n",
    "y_val = np.concatenate((glitch_val_ids, bbh_val_ids), axis=0)\n",
    "\n",
    "\n",
    "\n",
    "### -------------Shuffle dataset------------- ###\n",
    "\n",
    "# Shuffle the training data using a randomly chosen permutation. This ensures we don't encounter artifacts from background \n",
    "# and signal data being clumped together.\n",
    "idx = np.random.permutation(len(x_train))\n",
    "x_train = x_train[idx]\n",
    "y_train = y_train[idx]"
   ]
  },
  {
   "cell_type": "markdown",
   "metadata": {},
   "source": [
    "#### Whitening and filtering"
   ]
  },
  {
   "cell_type": "code",
   "execution_count": 5,
   "metadata": {},
   "outputs": [],
   "source": [
    "### -------------Split detector dataset------------- ###\n",
    "\n",
    "# Each 2D dataset of gravitational wave data comes from one of two detectors: 1  and 2 \n",
    "# Split the data from these two detectors since we can only pass 2D images into our CNN to train.\n",
    "x_train_dec1_raw = x_train[:,:,0]\n",
    "x_train_dec2_raw = x_train[:,:,1]\n",
    "\n",
    "x_val_dec1_raw = x_val_data[:,:,0]\n",
    "x_val_dec2_raw = x_val_data[:,:,1]\n",
    "\n",
    "\n",
    "\n",
    "\n",
    "# Function to process a single item\n",
    "def process_data(raw_data):\n",
    "\n",
    "\n",
    "    # Bandpass filter for 50hz and 250hz\n",
    "    bp = filter_design.bandpass(50, 250, 4096)\n",
    "\n",
    "    ## First three harmonics of the 60 Hz AC mains power:\n",
    "    notches = [filter_design.notch(line, 4096) for line in (60, 120, 180)]\n",
    "    zpk = filter_design.concatenate_zpks(bp, *notches)\n",
    "\n",
    "\n",
    "\n",
    "    hdata = TimeSeries(raw_data)\n",
    "    hdata = hdata.whiten() \n",
    "    hdata = hdata.crop(*hdata.span.contract(1)) # The whitened timeseries data\n",
    "\n",
    "    hfilt = hdata.filter(zpk, filtfilt=True)\n",
    "    hfilt = hfilt.crop(*hfilt.span.contract(1)) # The filtered and whitened timeseries data\n",
    "\n",
    "    return hdata, hfilt"
   ]
  },
  {
   "cell_type": "code",
   "execution_count": 6,
   "metadata": {},
   "outputs": [
    {
     "name": "stderr",
     "output_type": "stream",
     "text": [
      "100%|██████████| 25598/25598 [13:48<00:00, 30.90it/s]\n",
      "100%|██████████| 25598/25598 [13:31<00:00, 31.53it/s]\n",
      "100%|██████████| 598/598 [00:18<00:00, 32.09it/s]\n",
      "100%|██████████| 598/598 [00:18<00:00, 32.12it/s]\n"
     ]
    }
   ],
   "source": [
    "# Process training data\n",
    "x_train_dec1_data_arr = []\n",
    "x_train_dec1_filt_arr = []\n",
    "x_train_dec2_data_arr = []\n",
    "x_train_dec2_filt_arr = []\n",
    "x_val_dec1_data_arr = []\n",
    "x_val_dec1_filt_arr = []\n",
    "x_val_dec2_data_arr = []\n",
    "x_val_dec2_filt_arr = []\n",
    "\n",
    "\n",
    "for raw_data in tqdm(x_train_dec1_raw):\n",
    "    hdata, hfilt = process_data(raw_data)\n",
    "    x_train_dec1_data_arr.append(hdata)\n",
    "    x_train_dec1_filt_arr.append(hfilt)\n",
    "\n",
    "x_train_dec1_data_arr = np.asarray(x_train_dec1_data_arr)\n",
    "x_train_dec1_filt_arr = np.asarray(x_train_dec1_filt_arr)\n",
    "\n",
    "\n",
    "for raw_data in tqdm(x_train_dec2_raw):\n",
    "    hdata, hfilt = process_data(raw_data)\n",
    "    x_train_dec2_data_arr.append(hdata)\n",
    "    x_train_dec2_filt_arr.append(hfilt)\n",
    "\n",
    "x_train_dec2_data_arr = np.asarray(x_train_dec2_data_arr)\n",
    "x_train_dec2_filt_arr = np.asarray(x_train_dec2_filt_arr)\n",
    "\n",
    "\n",
    "for raw_data in tqdm(x_val_dec1_raw):\n",
    "    hdata, hfilt = process_data(raw_data)\n",
    "    x_val_dec1_data_arr.append(hdata)\n",
    "    x_val_dec1_filt_arr.append(hfilt)\n",
    "\n",
    "x_val_dec1_data_arr = np.asarray(x_val_dec1_data_arr)\n",
    "x_val_dec1_filt_arr = np.asarray(x_val_dec1_filt_arr)\n",
    "\n",
    "\n",
    "for raw_data in tqdm(x_val_dec2_raw):\n",
    "    hdata, hfilt = process_data(raw_data)\n",
    "    x_val_dec2_data_arr.append(hdata)\n",
    "    x_val_dec2_filt_arr.append(hfilt)\n",
    "\n",
    "x_val_dec2_data_arr = np.asarray(x_val_dec2_data_arr)\n",
    "x_val_dec2_filt_arr = np.asarray(x_val_dec2_filt_arr)"
   ]
  },
  {
   "cell_type": "markdown",
   "metadata": {},
   "source": [
    "---"
   ]
  },
  {
   "cell_type": "markdown",
   "metadata": {},
   "source": [
    "##### NOTE: RESTART Q TRANSFORMS HERE WITHOUT HAVING TO WHITEN AND FILTER"
   ]
  },
  {
   "cell_type": "code",
   "execution_count": 7,
   "metadata": {},
   "outputs": [],
   "source": [
    "#### START HERE IF YOU NEED TO RESTART WITHOUT HAVING TO WHITEN AND FILTER\n",
    "y_train = np.concatenate((glitch_train_ids, bbh_train_ids), axis=0)\n",
    "y_train = y_train[idx]\n",
    "\n",
    "# # The whitened and filtered data\n",
    "# x_train_dec1 = x_train_dec1_filt_arr\n",
    "# x_train_dec2 = x_train_dec2_filt_arr\n",
    "# x_val_dec1 = x_val_dec1_filt_arr\n",
    "# x_val_dec2 = x_val_dec2_filt_arr\n",
    "\n",
    "# Just the whitened data\n",
    "x_train_dec1 = x_train_dec1_data_arr\n",
    "x_train_dec2 = x_train_dec2_data_arr\n",
    "x_val_dec1 = x_val_dec1_data_arr\n",
    "x_val_dec2 = x_val_dec2_data_arr"
   ]
  },
  {
   "cell_type": "markdown",
   "metadata": {},
   "source": [
    "---"
   ]
  },
  {
   "cell_type": "markdown",
   "metadata": {},
   "source": [
    "## Converting to Q Transform"
   ]
  },
  {
   "cell_type": "code",
   "execution_count": 11,
   "metadata": {},
   "outputs": [
    {
     "data": {
      "text/plain": [
       "(array([14120], dtype=int64),)"
      ]
     },
     "execution_count": 11,
     "metadata": {},
     "output_type": "execute_result"
    }
   ],
   "source": [
    "np.where(idx==13081)"
   ]
  },
  {
   "cell_type": "code",
   "execution_count": 12,
   "metadata": {},
   "outputs": [
    {
     "data": {
      "image/png": "[encoded data removed]",
      "text/plain": [
       "<Plot size 1200x400 with 1 Axes>"
      ]
     },
     "metadata": {},
     "output_type": "display_data"
    },
    {
     "name": "stdout",
     "output_type": "stream",
     "text": [
      "(64, 64)\n"
     ]
    },
    {
     "data": {
      "image/png": "[encoded data removed]",
      "text/plain": [
       "<Plot size 1200x600 with 2 Axes>"
      ]
     },
     "metadata": {},
     "output_type": "display_data"
    }
   ],
   "source": [
    "data = (x_train_dec1[14120,:])\n",
    "series = (TimeSeries(data, sample_rate = 4096, t0=0))     #np.array --> constantQ.timeseries   \n",
    "\n",
    "ts = series\n",
    "ts_plot = ts.plot()\n",
    "plt.xlim(0,1)\n",
    "plt.show()\n",
    "\n",
    "# # Q-Transformation\n",
    "ts_qspectro = ts.q_transform(\n",
    "    qrange=(3.3166, 108),\n",
    "    frange=(20, 1054),\n",
    "    whiten=False,\n",
    "    tres = 0.0158,\n",
    "    fres = 16.25)\n",
    "print(ts_qspectro.shape)\n",
    "\n",
    "q_plot = ts_qspectro.plot()\n",
    "ax = q_plot.gca()\n",
    "ax.set_xscale('seconds')\n",
    "ax.set_yscale('log')\n",
    "# ax.set_xlim(3.5, 4.5)\n",
    "ax.set_ylim(20, 500)\n",
    "ax.set_ylabel('Frequency [Hz]')\n",
    "ax.grid(True, axis='y', which='both')\n",
    "ax.colorbar(cmap='viridis', label='Normalized energy')\n",
    "q_plot.show()\n"
   ]
  },
  {
   "cell_type": "code",
   "execution_count": 13,
   "metadata": {},
   "outputs": [
    {
     "name": "stdout",
     "output_type": "stream",
     "text": [
      "X Training Shape:  (22854, 2, 64, 64)\n",
      "Y Training Shape:  (22854,)\n",
      "X Validation Shape:  (598, 2, 64, 64)\n",
      "Y Validation Shape:  (598,)\n",
      "X Testing Shape:  (2744, 2, 64, 64)\n",
      "Y Testing Shape:  (2744,)\n"
     ]
    }
   ],
   "source": [
    "### -------------Convert to Q Spectrograms------------- ###\n",
    "\n",
    "data_list = []\n",
    "series_list = []\n",
    "Q_list = []\n",
    "\n",
    "\n",
    "datas = [x_train_dec1, x_train_dec2, x_val_dec1, x_val_dec2]\n",
    "\n",
    "for d in range(len(datas)):\n",
    "    data_list = []\n",
    "    series_list = []\n",
    "    Q_list = []\n",
    "\n",
    "\n",
    "    for i in range(len(datas[d])):\n",
    "        data = (datas[d][i,:])\n",
    "        data_list.append(data)\n",
    "        # print(datas[d].shape)\n",
    "        series = (TimeSeries(data, sample_rate = 4096, t0=0))     #np.array --> constantQ.timeseries   \n",
    "        series_list.append(series)\n",
    "\n",
    "        series_spectro = series.q_transform(\n",
    "        qrange=(3.3166, 108),\n",
    "        frange=(20, 1054),\n",
    "        whiten=False,\n",
    "        tres = 0.0158,\n",
    "        fres = 16.25)\n",
    "        Q_list.append(series_spectro)\n",
    "\n",
    "\n",
    "\n",
    "\n",
    "    if d == 0:\n",
    "        data_arr_x_train_dec1 = np.stack(data_list, axis = 0)\n",
    "        series_arr_x_train_dec1 = np.asarray(series_list)\n",
    "        # Q_arr_x_train_dec1 = np.stack(Q_list, axis = 0)\n",
    "        Q_arr_x_train_dec1 = np.asarray(Q_list)\n",
    "\n",
    "\n",
    "    elif d == 1:\n",
    "        data_arr_x_train_dec2 = np.stack(data_list, axis = 0)\n",
    "        series_arr_x_train_dec2 = np.asarray(series_list)\n",
    "        Q_arr_x_train_dec2 = np.asarray(Q_list)\n",
    "\n",
    "    elif d == 2:\n",
    "        data_arr_x_test_dec1 = np.stack(data_list, axis = 0)\n",
    "        series_arr_x_test_dec1 = np.asarray(series_list)\n",
    "        Q_arr_x_test_dec1 = np.asarray(Q_list)\n",
    "\n",
    "    else:\n",
    "        data_arr_x_test_dec2 = np.stack(data_list, axis = 0)\n",
    "        series_arr_x_test_dec2 = np.asarray(series_list)\n",
    "        Q_arr_x_test_dec2 = np.asarray(Q_list)\n",
    "\n",
    "\n",
    "\n",
    "\n",
    "img_x_train_dec1 = Q_arr_x_train_dec1\n",
    "img_x_train_dec2 = Q_arr_x_train_dec2\n",
    "img_x_val_dec1 = Q_arr_x_test_dec1\n",
    "img_x_val_dec2 = Q_arr_x_test_dec2\n",
    "\n",
    "\n",
    "\n",
    "\n",
    "# Stack Detector 1 and Detector 2 image data together to unify our training and testing datasets before training.\n",
    "x_train = np.stack((img_x_train_dec1, img_x_train_dec2), axis=1)\n",
    "x_val = np.stack((img_x_val_dec1, img_x_val_dec2), axis=1)\n",
    "\n",
    "\n",
    "\n",
    "### -------------Split into training and validation datasets------------- ###\n",
    "\n",
    "# Take the first 17.65% of our training features and targets as validation set\n",
    "x_test= x_train[:round((len(x_train)*0.1072))]\n",
    "y_test = y_train[:round((len(y_train)*0.1072))]\n",
    "\n",
    "# Take the remaining 82.35% of training features and targets as training set\n",
    "x_train = x_train[round((len(x_train)*0.1072)):]\n",
    "y_train = y_train[round((len(y_train)*0.1072)):]\n",
    "\n",
    "# Check the shapes of the training/validation datasets. Turns out we get about a 80%, 13%, 2% split.\n",
    "print(\"X Training Shape: \", x_train.shape)\n",
    "print(\"Y Training Shape: \", y_train.shape)\n",
    "print(\"X Validation Shape: \", x_val.shape)\n",
    "print(\"Y Validation Shape: \", y_val.shape)\n",
    "print(\"X Testing Shape: \", x_test.shape)\n",
    "print(\"Y Testing Shape: \", y_test.shape)"
   ]
  },
  {
   "cell_type": "code",
   "execution_count": null,
   "metadata": {},
   "outputs": [],
   "source": []
  },
  {
   "cell_type": "markdown",
   "metadata": {},
   "source": [
    "## CNN Model"
   ]
  },
  {
   "cell_type": "code",
   "execution_count": 14,
   "metadata": {},
   "outputs": [],
   "source": [
    "### -------------Model Definition------------- ###\n",
    "\n",
    "class CNNModel(torch.nn.Module):\n",
    "    \n",
    "    def __init__(self):\n",
    "        \n",
    "        super(CNNModel, self).__init__()\n",
    "\n",
    "        # First convolution layer (2 channel -> 16 channels, preserve original dimension by adding padding = 2) \n",
    "        self.layer1 = torch.nn.Sequential(\n",
    "            torch.nn.Conv2d(in_channels=2, out_channels=16, kernel_size=4, stride=2, padding=1),\n",
    "            torch.nn.BatchNorm2d(16),\n",
    "            torch.nn.ReLU(),\n",
    "            torch.nn.MaxPool2d(kernel_size=4, stride=2, padding=1)\n",
    "            )\n",
    "        \n",
    "        # Second convolution layer (16 channel -> 32 channels, preserve dimension by adding padding = 2)\n",
    "        self.layer2 = torch.nn.Sequential(\n",
    "            torch.nn.Conv2d(in_channels=16, out_channels=32, kernel_size=3, stride=1, padding=1),\n",
    "            torch.nn.BatchNorm2d(32),\n",
    "            torch.nn.ReLU(),\n",
    "            torch.nn.MaxPool2d(kernel_size=2, stride=2, padding=0)\n",
    "            )\n",
    "\n",
    "        # Fully connected layer that takes the flattened output of layer 2 (32, 7 ,7) -> (1568) and output 2 classes\n",
    "        self.fc1 = torch.nn.Linear(in_features=32*8*8, out_features=128)\n",
    "        self.fc2 = torch.nn.Linear(in_features=128, out_features=64)\n",
    "        self.fc3 = torch.nn.Linear(in_features=64, out_features=2)\n",
    "    \n",
    "    def forward(self, x):\n",
    "\n",
    "        # input image -> conv -> batchnorm -> relu -> maxpool\n",
    "        out = self.layer1(x)\n",
    "        # 1st maxpool output -> conv -> batchnorm -> relu -> maxpool\n",
    "        out = self.layer2(out)\n",
    "        # flatten the second maxpool output to be used as input into FCN layer\n",
    "        out = out.view(out.size(0), -1)\n",
    "\n",
    "        # Pass flattened output into FCN layers\n",
    "        out = self.fc1(out)\n",
    "        out = self.fc2(out)\n",
    "        out = self.fc3(out)\n",
    "        \n",
    "        return out"
   ]
  },
  {
   "cell_type": "markdown",
   "metadata": {},
   "source": [
    "## Hyperparameters"
   ]
  },
  {
   "cell_type": "code",
   "execution_count": 15,
   "metadata": {},
   "outputs": [],
   "source": [
    "### -------------Hyperparameters------------- ###\n",
    "\n",
    "# Initialize the CNN model\n",
    "model = CNNModel()\n",
    "\n",
    "# Define learning rate, epoch and batchsize for mini-batch gradient, and L2 regularization\n",
    "learning_rate = 0.00005      #0.00005\n",
    "epochs = 40                 # 75\n",
    "batchsize = 768\n",
    "L2_reg = 0.00005\n",
    "\n",
    "# Define loss function and optimizer\n",
    "loss_func = torch.nn.CrossEntropyLoss()\n",
    "optimizer = torch.optim.Adam(model.parameters(), lr = learning_rate, weight_decay=L2_reg)\n",
    "\n",
    "if torch.cuda.is_available():                                  # Checks if the GPU is available for processing\n",
    "    model.cuda()                                               # Sends the model to the GPU for processing\n",
    "model        \n",
    "\n",
    "\n",
    "\n",
    "### -------------Identify tracked values------------- ###\n",
    "\n",
    "train_loss_list_Q = []\n",
    "validation_accuracy_list_Q = np.zeros((epochs,))\n",
    "\n",
    "\n",
    "### -------------Training Model------------- ###\n",
    "\n",
    "if torch.cuda.is_available():                   # If using CUDA version of PyTorch, dataset will be processed on GPU\n",
    "\n",
    "    # Convert train/validation/test sets into torch tensors from numpy\n",
    "    train_inputs = torch.from_numpy(x_train).float().cuda()\n",
    "    train_targets = torch.from_numpy(y_train).long().cuda()\n",
    "\n",
    "    validation_inputs = torch.from_numpy(x_val).float().cuda()\n",
    "    validation_targets = torch.from_numpy(y_val).long().cuda()\n",
    "\n",
    "    testing_inputs = torch.from_numpy(x_test).float().cuda()\n",
    "    testing_targets = torch.from_numpy(y_test).long().cuda()\n",
    "\n",
    "    # Split the training inputs/targets into mini-batches\n",
    "    train_batches_features = torch.split(train_inputs, batchsize)\n",
    "    train_batches_targets = torch.split(train_targets, batchsize)\n",
    "\n",
    "else:                                           # If not using CUDA version of PyTorch, dataset will be processed on CPU\n",
    "\n",
    "    # Convert train/validation/test sets into torch tensors from numpy\n",
    "    train_inputs = torch.from_numpy(x_train).float()\n",
    "    train_targets = torch.from_numpy(y_train).long()\n",
    "\n",
    "    validation_inputs = torch.from_numpy(x_val).float()\n",
    "    validation_targets = torch.from_numpy(y_val).long()\n",
    "\n",
    "    testing_inputs = torch.from_numpy(x_test).float()\n",
    "    testing_targets = torch.from_numpy(y_test).long()\n",
    "\n",
    "    # Split the training inputs/targets into mini-batches\n",
    "    train_batches_features = torch.split(train_inputs, batchsize)\n",
    "    train_batches_targets = torch.split(train_targets, batchsize)\n",
    "\n",
    "# length of train_batches_features = total number of mini-batches in the training set\n",
    "batch_split_num = len(train_batches_features)"
   ]
  },
  {
   "cell_type": "markdown",
   "metadata": {},
   "source": [
    "## Training loop"
   ]
  },
  {
   "cell_type": "code",
   "execution_count": 16,
   "metadata": {},
   "outputs": [
    {
     "name": "stderr",
     "output_type": "stream",
     "text": [
      "Epoch 0: 100%|██████████| 30/30 [00:07<00:00,  3.96it/s]0<?, ?it/s]"
     ]
    },
    {
     "name": "stdout",
     "output_type": "stream",
     "text": [
      "Epoch: 0 Epoch time: 7.58s Validation Accuracy: 51.84% Training loss: 0.68\n"
     ]
    },
    {
     "name": "stderr",
     "output_type": "stream",
     "text": [
      "\n",
      "Epoch 1: 100%|██████████| 30/30 [00:00<00:00, 36.31it/s]7<04:56,  7.60s/it]"
     ]
    },
    {
     "name": "stdout",
     "output_type": "stream",
     "text": [
      "Epoch: 1 Epoch time: 0.83s Validation Accuracy: 58.03% Training loss: 0.68\n"
     ]
    },
    {
     "name": "stderr",
     "output_type": "stream",
     "text": [
      "\n",
      "Epoch 2: 100%|██████████| 30/30 [00:00<00:00, 35.03it/s]8<02:17,  3.63s/it]"
     ]
    },
    {
     "name": "stdout",
     "output_type": "stream",
     "text": [
      "Epoch: 2 Epoch time: 0.86s Validation Accuracy: 59.36% Training loss: 0.67\n"
     ]
    },
    {
     "name": "stderr",
     "output_type": "stream",
     "text": [
      "\n",
      "Epoch 3: 100%|██████████| 30/30 [00:00<00:00, 37.37it/s]9<01:27,  2.37s/it]"
     ]
    },
    {
     "name": "stdout",
     "output_type": "stream",
     "text": [
      "Epoch: 3 Epoch time: 0.81s Validation Accuracy: 64.05% Training loss: 0.66\n"
     ]
    },
    {
     "name": "stderr",
     "output_type": "stream",
     "text": [
      "\n",
      "Epoch 4: 100%|██████████| 30/30 [00:00<00:00, 37.37it/s]0<01:03,  1.76s/it]"
     ]
    },
    {
     "name": "stdout",
     "output_type": "stream",
     "text": [
      "Epoch: 4 Epoch time: 0.81s Validation Accuracy: 69.06% Training loss: 0.65\n"
     ]
    },
    {
     "name": "stderr",
     "output_type": "stream",
     "text": [
      "\n",
      "Epoch 5: 100%|██████████| 30/30 [00:00<00:00, 38.95it/s]0<00:49,  1.42s/it]"
     ]
    },
    {
     "name": "stdout",
     "output_type": "stream",
     "text": [
      "Epoch: 5 Epoch time: 0.77s Validation Accuracy: 72.41% Training loss: 0.64\n"
     ]
    },
    {
     "name": "stderr",
     "output_type": "stream",
     "text": [
      "\n",
      "Epoch 6: 100%|██████████| 30/30 [00:00<00:00, 38.03it/s]1<00:41,  1.21s/it]"
     ]
    },
    {
     "name": "stdout",
     "output_type": "stream",
     "text": [
      "Epoch: 6 Epoch time: 0.79s Validation Accuracy: 74.25% Training loss: 0.62\n"
     ]
    },
    {
     "name": "stderr",
     "output_type": "stream",
     "text": [
      "\n",
      "Epoch 7: 100%|██████████| 30/30 [00:00<00:00, 38.96it/s]2<00:35,  1.08s/it]"
     ]
    },
    {
     "name": "stdout",
     "output_type": "stream",
     "text": [
      "Epoch: 7 Epoch time: 0.78s Validation Accuracy: 76.25% Training loss: 0.61\n"
     ]
    },
    {
     "name": "stderr",
     "output_type": "stream",
     "text": [
      "\n",
      "Epoch 8: 100%|██████████| 30/30 [00:00<00:00, 38.75it/s]3<00:31,  1.01it/s]"
     ]
    },
    {
     "name": "stdout",
     "output_type": "stream",
     "text": [
      "Epoch: 8 Epoch time: 0.78s Validation Accuracy: 76.59% Training loss: 0.6\n"
     ]
    },
    {
     "name": "stderr",
     "output_type": "stream",
     "text": [
      "\n",
      "Epoch 9: 100%|██████████| 30/30 [00:00<00:00, 38.77it/s]4<00:29,  1.07it/s]"
     ]
    },
    {
     "name": "stdout",
     "output_type": "stream",
     "text": [
      "Epoch: 9 Epoch time: 0.78s Validation Accuracy: 77.09% Training loss: 0.59\n"
     ]
    },
    {
     "name": "stderr",
     "output_type": "stream",
     "text": [
      "\n",
      "Epoch 10: 100%|██████████| 30/30 [00:00<00:00, 39.55it/s]5<00:26,  1.12it/s]"
     ]
    },
    {
     "name": "stdout",
     "output_type": "stream",
     "text": [
      "Epoch: 10 Epoch time: 0.76s Validation Accuracy: 77.59% Training loss: 0.58\n"
     ]
    },
    {
     "name": "stderr",
     "output_type": "stream",
     "text": [
      "\n",
      "Epoch 11: 100%|██████████| 30/30 [00:00<00:00, 38.97it/s]5<00:24,  1.16it/s]"
     ]
    },
    {
     "name": "stdout",
     "output_type": "stream",
     "text": [
      "Epoch: 11 Epoch time: 0.77s Validation Accuracy: 77.26% Training loss: 0.56\n"
     ]
    },
    {
     "name": "stderr",
     "output_type": "stream",
     "text": [
      "\n",
      "Epoch 12: 100%|██████████| 30/30 [00:00<00:00, 38.82it/s]6<00:23,  1.19it/s]"
     ]
    },
    {
     "name": "stdout",
     "output_type": "stream",
     "text": [
      "Epoch: 12 Epoch time: 0.78s Validation Accuracy: 78.09% Training loss: 0.55\n"
     ]
    },
    {
     "name": "stderr",
     "output_type": "stream",
     "text": [
      "\n",
      "Epoch 13: 100%|██████████| 30/30 [00:00<00:00, 38.20it/s]7<00:22,  1.21it/s]"
     ]
    },
    {
     "name": "stdout",
     "output_type": "stream",
     "text": [
      "Epoch: 13 Epoch time: 0.79s Validation Accuracy: 77.93% Training loss: 0.54\n"
     ]
    },
    {
     "name": "stderr",
     "output_type": "stream",
     "text": [
      "\n",
      "Epoch 14: 100%|██████████| 30/30 [00:00<00:00, 39.41it/s]8<00:21,  1.22it/s]"
     ]
    },
    {
     "name": "stdout",
     "output_type": "stream",
     "text": [
      "Epoch: 14 Epoch time: 0.77s Validation Accuracy: 79.1% Training loss: 0.54\n"
     ]
    },
    {
     "name": "stderr",
     "output_type": "stream",
     "text": [
      "\n",
      "Epoch 15: 100%|██████████| 30/30 [00:00<00:00, 39.50it/s]8<00:20,  1.24it/s]"
     ]
    },
    {
     "name": "stdout",
     "output_type": "stream",
     "text": [
      "Epoch: 15 Epoch time: 0.76s Validation Accuracy: 80.6% Training loss: 0.53\n"
     ]
    },
    {
     "name": "stderr",
     "output_type": "stream",
     "text": [
      "\n",
      "Epoch 16: 100%|██████████| 30/30 [00:00<00:00, 38.63it/s]9<00:19,  1.25it/s]"
     ]
    },
    {
     "name": "stdout",
     "output_type": "stream",
     "text": [
      "Epoch: 16 Epoch time: 0.78s Validation Accuracy: 80.6% Training loss: 0.5\n"
     ]
    },
    {
     "name": "stderr",
     "output_type": "stream",
     "text": [
      "\n",
      "Epoch 17: 100%|██████████| 30/30 [00:00<00:00, 37.98it/s]0<00:18,  1.25it/s]"
     ]
    },
    {
     "name": "stdout",
     "output_type": "stream",
     "text": [
      "Epoch: 17 Epoch time: 0.79s Validation Accuracy: 80.94% Training loss: 0.5\n"
     ]
    },
    {
     "name": "stderr",
     "output_type": "stream",
     "text": [
      "\n",
      "Epoch 18: 100%|██████████| 30/30 [00:00<00:00, 39.22it/s]1<00:17,  1.24it/s]"
     ]
    },
    {
     "name": "stdout",
     "output_type": "stream",
     "text": [
      "Epoch: 18 Epoch time: 0.77s Validation Accuracy: 81.77% Training loss: 0.5\n"
     ]
    },
    {
     "name": "stderr",
     "output_type": "stream",
     "text": [
      "\n",
      "Epoch 19: 100%|██████████| 30/30 [00:00<00:00, 38.76it/s]2<00:16,  1.25it/s]"
     ]
    },
    {
     "name": "stdout",
     "output_type": "stream",
     "text": [
      "Epoch: 19 Epoch time: 0.78s Validation Accuracy: 81.44% Training loss: 0.5\n"
     ]
    },
    {
     "name": "stderr",
     "output_type": "stream",
     "text": [
      "\n",
      "Epoch 20: 100%|██████████| 30/30 [00:00<00:00, 38.56it/s]2<00:15,  1.25it/s]"
     ]
    },
    {
     "name": "stdout",
     "output_type": "stream",
     "text": [
      "Epoch: 20 Epoch time: 0.78s Validation Accuracy: 82.11% Training loss: 0.5\n"
     ]
    },
    {
     "name": "stderr",
     "output_type": "stream",
     "text": [
      "\n",
      "Epoch 21: 100%|██████████| 30/30 [00:00<00:00, 38.60it/s]3<00:15,  1.25it/s]"
     ]
    },
    {
     "name": "stdout",
     "output_type": "stream",
     "text": [
      "Epoch: 21 Epoch time: 0.78s Validation Accuracy: 81.94% Training loss: 0.5\n"
     ]
    },
    {
     "name": "stderr",
     "output_type": "stream",
     "text": [
      "\n",
      "Epoch 22: 100%|██████████| 30/30 [00:00<00:00, 39.43it/s]4<00:14,  1.25it/s]"
     ]
    },
    {
     "name": "stdout",
     "output_type": "stream",
     "text": [
      "Epoch: 22 Epoch time: 0.77s Validation Accuracy: 81.61% Training loss: 0.5\n"
     ]
    },
    {
     "name": "stderr",
     "output_type": "stream",
     "text": [
      "\n",
      "Epoch 23: 100%|██████████| 30/30 [00:00<00:00, 38.92it/s]5<00:13,  1.26it/s]"
     ]
    },
    {
     "name": "stdout",
     "output_type": "stream",
     "text": [
      "Epoch: 23 Epoch time: 0.78s Validation Accuracy: 81.77% Training loss: 0.5\n"
     ]
    },
    {
     "name": "stderr",
     "output_type": "stream",
     "text": [
      "\n",
      "Epoch 24: 100%|██████████| 30/30 [00:00<00:00, 37.99it/s]6<00:12,  1.26it/s]"
     ]
    },
    {
     "name": "stdout",
     "output_type": "stream",
     "text": [
      "Epoch: 24 Epoch time: 0.79s Validation Accuracy: 81.94% Training loss: 0.5\n"
     ]
    },
    {
     "name": "stderr",
     "output_type": "stream",
     "text": [
      "\n",
      "Epoch 25: 100%|██████████| 30/30 [00:00<00:00, 38.43it/s]6<00:12,  1.25it/s]"
     ]
    },
    {
     "name": "stdout",
     "output_type": "stream",
     "text": [
      "Epoch: 25 Epoch time: 0.79s Validation Accuracy: 82.44% Training loss: 0.5\n"
     ]
    },
    {
     "name": "stderr",
     "output_type": "stream",
     "text": [
      "\n",
      "Epoch 26: 100%|██████████| 30/30 [00:00<00:00, 38.57it/s]7<00:11,  1.24it/s]"
     ]
    },
    {
     "name": "stdout",
     "output_type": "stream",
     "text": [
      "Epoch: 26 Epoch time: 0.78s Validation Accuracy: 81.94% Training loss: 0.49\n"
     ]
    },
    {
     "name": "stderr",
     "output_type": "stream",
     "text": [
      "\n",
      "Epoch 27: 100%|██████████| 30/30 [00:00<00:00, 38.62it/s]8<00:10,  1.25it/s]"
     ]
    },
    {
     "name": "stdout",
     "output_type": "stream",
     "text": [
      "Epoch: 27 Epoch time: 0.78s Validation Accuracy: 82.27% Training loss: 0.49\n"
     ]
    },
    {
     "name": "stderr",
     "output_type": "stream",
     "text": [
      "\n",
      "Epoch 28: 100%|██████████| 30/30 [00:00<00:00, 37.73it/s]9<00:09,  1.25it/s]"
     ]
    },
    {
     "name": "stdout",
     "output_type": "stream",
     "text": [
      "Epoch: 28 Epoch time: 0.81s Validation Accuracy: 82.27% Training loss: 0.48\n"
     ]
    },
    {
     "name": "stderr",
     "output_type": "stream",
     "text": [
      "\n",
      "Epoch 29: 100%|██████████| 30/30 [00:00<00:00, 38.58it/s]0<00:08,  1.23it/s]"
     ]
    },
    {
     "name": "stdout",
     "output_type": "stream",
     "text": [
      "Epoch: 29 Epoch time: 0.78s Validation Accuracy: 82.61% Training loss: 0.48\n"
     ]
    },
    {
     "name": "stderr",
     "output_type": "stream",
     "text": [
      "\n",
      "Epoch 30: 100%|██████████| 30/30 [00:00<00:00, 38.50it/s]0<00:08,  1.24it/s]"
     ]
    },
    {
     "name": "stdout",
     "output_type": "stream",
     "text": [
      "Epoch: 30 Epoch time: 0.78s Validation Accuracy: 82.11% Training loss: 0.48\n"
     ]
    },
    {
     "name": "stderr",
     "output_type": "stream",
     "text": [
      "\n",
      "Epoch 31: 100%|██████████| 30/30 [00:00<00:00, 39.32it/s]1<00:07,  1.24it/s]"
     ]
    },
    {
     "name": "stdout",
     "output_type": "stream",
     "text": [
      "Epoch: 31 Epoch time: 0.77s Validation Accuracy: 82.11% Training loss: 0.47\n"
     ]
    },
    {
     "name": "stderr",
     "output_type": "stream",
     "text": [
      "\n",
      "Epoch 32: 100%|██████████| 30/30 [00:00<00:00, 38.43it/s]2<00:06,  1.25it/s]"
     ]
    },
    {
     "name": "stdout",
     "output_type": "stream",
     "text": [
      "Epoch: 32 Epoch time: 0.79s Validation Accuracy: 81.44% Training loss: 0.47\n"
     ]
    },
    {
     "name": "stderr",
     "output_type": "stream",
     "text": [
      "\n",
      "Epoch 33: 100%|██████████| 30/30 [00:00<00:00, 38.34it/s]3<00:05,  1.25it/s]"
     ]
    },
    {
     "name": "stdout",
     "output_type": "stream",
     "text": [
      "Epoch: 33 Epoch time: 0.79s Validation Accuracy: 81.44% Training loss: 0.47\n"
     ]
    },
    {
     "name": "stderr",
     "output_type": "stream",
     "text": [
      "\n",
      "Epoch 34: 100%|██████████| 30/30 [00:00<00:00, 39.22it/s]4<00:04,  1.25it/s]"
     ]
    },
    {
     "name": "stdout",
     "output_type": "stream",
     "text": [
      "Epoch: 34 Epoch time: 0.77s Validation Accuracy: 81.44% Training loss: 0.46\n"
     ]
    },
    {
     "name": "stderr",
     "output_type": "stream",
     "text": [
      "\n",
      "Epoch 35: 100%|██████████| 30/30 [00:00<00:00, 39.26it/s]4<00:03,  1.26it/s]"
     ]
    },
    {
     "name": "stdout",
     "output_type": "stream",
     "text": [
      "Epoch: 35 Epoch time: 0.77s Validation Accuracy: 81.27% Training loss: 0.46\n"
     ]
    },
    {
     "name": "stderr",
     "output_type": "stream",
     "text": [
      "\n",
      "Epoch 36: 100%|██████████| 30/30 [00:00<00:00, 39.04it/s]5<00:03,  1.26it/s]"
     ]
    },
    {
     "name": "stdout",
     "output_type": "stream",
     "text": [
      "Epoch: 36 Epoch time: 0.77s Validation Accuracy: 81.27% Training loss: 0.45\n"
     ]
    },
    {
     "name": "stderr",
     "output_type": "stream",
     "text": [
      "\n",
      "Epoch 37: 100%|██████████| 30/30 [00:00<00:00, 38.64it/s]6<00:02,  1.26it/s]"
     ]
    },
    {
     "name": "stdout",
     "output_type": "stream",
     "text": [
      "Epoch: 37 Epoch time: 0.78s Validation Accuracy: 81.27% Training loss: 0.45\n"
     ]
    },
    {
     "name": "stderr",
     "output_type": "stream",
     "text": [
      "\n",
      "Epoch 38: 100%|██████████| 30/30 [00:00<00:00, 38.57it/s]7<00:01,  1.26it/s]"
     ]
    },
    {
     "name": "stdout",
     "output_type": "stream",
     "text": [
      "Epoch: 38 Epoch time: 0.79s Validation Accuracy: 81.61% Training loss: 0.44\n"
     ]
    },
    {
     "name": "stderr",
     "output_type": "stream",
     "text": [
      "\n",
      "Epoch 39: 100%|██████████| 30/30 [00:00<00:00, 37.91it/s]8<00:00,  1.25it/s]"
     ]
    },
    {
     "name": "stdout",
     "output_type": "stream",
     "text": [
      "Epoch: 39 Epoch time: 0.79s Validation Accuracy: 81.44% Training loss: 0.44\n"
     ]
    },
    {
     "name": "stderr",
     "output_type": "stream",
     "text": [
      "\n",
      "Training Model on 40 Epochs: 100%|██████████| 40/40 [00:38<00:00,  1.03it/s]\n"
     ]
    }
   ],
   "source": [
    "### -------------Training Loop------------- ###\n",
    "## NOTE: CHANGE DESC TO INCLUDE CHANGING EPOCHS\n",
    "\n",
    "for epoch in trange(epochs, desc='Training Model on 40 Epochs'):\n",
    "    start_time = timer() # start timer\n",
    "    # Each mini-batch number i, grab i-th training feature and target mini-batch and perform fwd/bwd pass on the network\n",
    "    \n",
    "    for i in trange(batch_split_num, desc=f'Epoch {epoch}'):\n",
    "    \n",
    "        optimizer.zero_grad()    \n",
    "        train_batch_outputs = model(train_batches_features[i])  \n",
    "        loss = loss_func(train_batch_outputs, train_batches_targets[i])\n",
    "        train_loss_list_Q.append(loss.item())       \n",
    "        loss.backward()\n",
    "        optimizer.step()\n",
    "\n",
    "    end_time = timer() # End timer\n",
    "\n",
    "    ### -------------Compute Validation Accuracy------------- ###\n",
    "\n",
    "    with torch.no_grad():\n",
    "\n",
    "        validation_outputs = model(validation_inputs)\n",
    "        val_correct = (torch.argmax(validation_outputs, dim=1) == validation_targets).type(torch.FloatTensor)\n",
    "        validation_accuracy_list_Q[epoch] = val_correct.mean()  \n",
    "                      \n",
    "        print(\"Epoch: \"+ str(epoch),\n",
    "              \"Epoch time: \" + str(np.round(end_time - start_time, 2)) + \"s\",\n",
    "              \"Validation Accuracy: \" + str(np.round(val_correct.mean().numpy() * 100, 2)) + '%',\n",
    "              \"Training loss: \" + str(np.round(loss.item(), 2)), flush=True)"
   ]
  },
  {
   "cell_type": "markdown",
   "metadata": {},
   "source": [
    "## Visualize & Evaluate Model"
   ]
  },
  {
   "cell_type": "code",
   "execution_count": 17,
   "metadata": {},
   "outputs": [
    {
     "data": {
      "image/png": "[encoded data removed]",
      "text/plain": [
       "<Figure size 1200x1000 with 2 Axes>"
      ]
     },
     "metadata": {},
     "output_type": "display_data"
    },
    {
     "data": {
      "image/png": "[encoded data removed]",
      "text/plain": [
       "<Figure size 640x480 with 2 Axes>"
      ]
     },
     "metadata": {},
     "output_type": "display_data"
    }
   ],
   "source": [
    "### -------------Plot the training loss and validation accuracy------------- ###\n",
    "\n",
    "sns.set(style = 'whitegrid', font_scale = 1)\n",
    "plt.figure(figsize = (12,10))\n",
    "plt.rcParams[\"font.family\"] = \"serif\"\n",
    "plt.rcParams[\"font.sans-serif\"] = \"Open Sans\"\n",
    "\n",
    "plt.subplot(2, 1, 1)\n",
    "plt.plot(train_loss_list_Q, linewidth = 3, color=\"#4b2e83\")\n",
    "plt.ylabel(\"Training loss\")\n",
    "plt.xlabel(\"Iterations\")\n",
    "\n",
    "\n",
    "plt.subplot(2, 1, 2)\n",
    "plt.plot(validation_accuracy_list_Q, linewidth = 3, color = \"#85754d\")\n",
    "plt.ylabel(\"Validation Accuracy\")\n",
    "plt.xlabel(\"Epochs\")\n",
    "plt.suptitle(\"FFT TRAINING LOSS AND VALIDATION ACCURACY\")\n",
    "sns.despine()\n",
    "\n",
    "plt.savefig(\"FFT_TrainLoss_ValAcc.png\")\n",
    "\n",
    "\n",
    "# torch.cuda.empty_cache()\n",
    "\n",
    "### -------------Computing the Training accuracy------------- ###\n",
    "\n",
    "with torch.no_grad():\n",
    "\n",
    "    target_pred_test = model(train_inputs)\n",
    "    train_correct = (torch.argmax(target_pred_test, dim=1) == train_targets).type(torch.FloatTensor)\n",
    "    train_testing_acc = (train_correct.mean().numpy()*100)\n",
    "\n",
    "### -------------Computing the testing accuracy------------- ###\n",
    "\n",
    "with torch.no_grad():\n",
    "\n",
    "    target_pred_test = model(testing_inputs)\n",
    "    test_correct = (torch.argmax(target_pred_test, dim=1) == testing_targets).type(torch.FloatTensor)\n",
    "    test_testing_acc = (test_correct.mean().numpy()*100) \n",
    "\n",
    "### -------------Computing the validation accuracy------------- ###\n",
    "\n",
    "with torch.no_grad():\n",
    "\n",
    "    target_pred_test = model(validation_inputs)\n",
    "    val_correct = (torch.argmax(target_pred_test, dim=1) == validation_targets).type(torch.FloatTensor)\n",
    "    val_testing_acc = (val_correct.mean().numpy()*100)\n",
    "\n",
    "\n",
    "### -------------Confusion Matrix------------- ###\n",
    "\n",
    "actual = validation_targets.cpu().numpy()\n",
    "predicted = (torch.argmax(model(validation_inputs), dim=1)).cpu().numpy()\n",
    "\n",
    "cm = confusion_matrix(actual, predicted)\n",
    "\n",
    "cm_display = metrics.ConfusionMatrixDisplay(cm, \n",
    "                                            display_labels = ('Background', 'Signal'))\n",
    "cm_display.plot(cmap=plt.cm.Blues, values_format = '')\n",
    "plt.title('FFT Confusion Matrix for validation targets')\n",
    "plt.grid(False)\n",
    "plt.savefig(\"FFT_ConfMatrix.png\")\n",
    "plt.show()\n",
    "\n",
    "\n",
    "Accuracy = metrics.accuracy_score(actual, predicted)*100\n",
    "Precision = metrics.precision_score(actual, predicted)*100\n",
    "Sensitivity_recall = metrics.recall_score(actual, predicted)*100\n",
    "Specificity = metrics.recall_score(actual, predicted, pos_label=0)*100\n",
    "F1_score = metrics.f1_score(actual, predicted)*100\n",
    "\n",
    "\n",
    "acc = {'Training Accuracy': [train_testing_acc],\n",
    "           'Testing Accuracy': [test_testing_acc],\n",
    "           'Validation Accuracy': [val_testing_acc]}\n",
    "\n",
    "results = pd.DataFrame(acc)\n",
    "results.style.set_caption(\"FFT Accuracy Results\")\n",
    "results.to_csv('FFT Accuracy Results.csv', encoding='utf-8', index=False)\n",
    "\n",
    "\n",
    "val = {'Accuracy': [Accuracy],\n",
    "       'Precision': [Precision],\n",
    "       'Sensitivity_recall': [Sensitivity_recall],\n",
    "       'Specificity': [Specificity],\n",
    "       'F1_score': [F1_score]}\n",
    "\n",
    "val_results = pd.DataFrame(val)\n",
    "val_results.style.set_caption(\"FFT Validation Results\")\n",
    "val_results.to_csv('FFT Validation Results.csv', encoding='utf-8', index=False)"
   ]
  },
  {
   "cell_type": "code",
   "execution_count": null,
   "metadata": {},
   "outputs": [],
   "source": []
  }
 ],
 "metadata": {
  "kernelspec": {
   "display_name": "newenv",
   "language": "python",
   "name": "python3"
  },
  "language_info": {
   "codemirror_mode": {
    "name": "ipython",
    "version": 3
   },
   "file_extension": ".py",
   "mimetype": "text/x-python",
   "name": "python",
   "nbconvert_exporter": "python",
   "pygments_lexer": "ipython3",
   "version": "3.9.16"
  },
  "orig_nbformat": 4
 },
 "nbformat": 4,
 "nbformat_minor": 2
}
