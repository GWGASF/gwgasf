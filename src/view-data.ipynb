{
 "cells": [
  {
   "cell_type": "code",
   "execution_count": 8,
   "metadata": {},
   "outputs": [],
   "source": [
    "import h5py"
   ]
  },
  {
   "cell_type": "code",
   "execution_count": 13,
   "metadata": {},
   "outputs": [
    {
     "name": "stdout",
     "output_type": "stream",
     "text": [
      "<KeysViewHDF5 ['glitch', 'glitch_label']>\n",
      "(3600, 2, 194, 194) (3600, 3)\n",
      "<KeysViewHDF5 ['bbh', 'bbh_label']>\n",
      "(3600, 2, 194, 194) (3600, 3)\n",
      "<KeysViewHDF5 ['bg', 'bg_label']>\n",
      "(3600, 2, 194, 194) (3600, 3)\n"
     ]
    }
   ],
   "source": [
    "keys = ['glitch', 'bbh', 'bg']\n",
    "for key in keys:\n",
    "    file = f'/home/chiajui.chou/GASF/gwgasf/src/gasf_data/gasf_img_{key}_data.hdf5'\n",
    "    with h5py.File(file, 'r') as f:\n",
    "        print(f.keys())\n",
    "        print(f[key].shape, f[f'{key}_label'].shape)"
   ]
  }
 ],
 "metadata": {
  "kernelspec": {
   "display_name": "gasf-XB3L3M61-py3.10",
   "language": "python",
   "name": "python3"
  },
  "language_info": {
   "codemirror_mode": {
    "name": "ipython",
    "version": 3
   },
   "file_extension": ".py",
   "mimetype": "text/x-python",
   "name": "python",
   "nbconvert_exporter": "python",
   "pygments_lexer": "ipython3",
   "version": "3.10.13"
  }
 },
 "nbformat": 4,
 "nbformat_minor": 2
}
