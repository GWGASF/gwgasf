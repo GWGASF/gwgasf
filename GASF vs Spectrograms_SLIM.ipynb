{
 "cells": [
  {
   "cell_type": "markdown",
   "metadata": {},
   "source": [
    "# Unraveling Gravitational Ripples: Neural Network Classification\n",
    "### GASF vs FFT with New Data\n",
    "### **GWGASF Members:** $Daniel\\;Fredin^{1}$, $Cole\\;Welch^{1}$, $Arif\\;Chu^{1}$, $Chia-Jui\\;Chou^{2}$, $Andy\\;Chen^{2}$, & $Shih-Chieh\\;Hsu^{1}$\n",
    "#### $^{1}University\\;of\\;Washington,\\;Seattle,\\;USA$; $^{2}National\\;Yang\\;Ming\\;Chiao\\;Tung\\;University,\\;Hsinchu\\;City,\\;TW$"
   ]
  },
  {
   "cell_type": "markdown",
   "metadata": {},
   "source": [
    "--------------------"
   ]
  },
  {
   "cell_type": "code",
   "execution_count": 1,
   "metadata": {},
   "outputs": [],
   "source": [
    "%matplotlib inline\n",
    "\n",
    "import numpy as np\n",
    "import pandas as pd\n",
    "import h5py \n",
    "import matplotlib.pyplot as plt\n",
    "import seaborn as sns\n",
    "import torch\n",
    "from sklearn.preprocessing import StandardScaler\n",
    "\n",
    "from pyts.image import GramianAngularField\n",
    "\n",
    "from scipy import signal\n",
    "from gwpy.timeseries import TimeSeries\n",
    "from gwpy.signal import filter_design\n",
    "\n",
    "from sklearn.metrics import confusion_matrix\n",
    "from sklearn import metrics\n",
    "from timeit import default_timer as timer\n",
    "from tqdm import tqdm, tnrange, tqdm_notebook, trange\n",
    "# from tqdm.notebook import trange\n",
    "\n",
    "# Initializes numpy and pytorch random seeds for reproducibility \n",
    "seed = 55\n",
    "np.random.seed(seed)\n",
    "torch.manual_seed(seed)\n",
    "torch.cuda.manual_seed(seed)"
   ]
  },
  {
   "cell_type": "code",
   "execution_count": 2,
   "metadata": {},
   "outputs": [
    {
     "name": "stdout",
     "output_type": "stream",
     "text": [
      "Using device: cuda\n",
      "\n",
      "NVIDIA GeForce GTX 1650\n",
      "Memory Usage:\n",
      "Allocated: 0.0 GB\n",
      "Cached:    0.0 GB\n"
     ]
    }
   ],
   "source": [
    "# setting device on GPU if available, else CPU\n",
    "device = torch.device('cuda' if torch.cuda.is_available() else 'cpu')\n",
    "print('Using device:', device)\n",
    "print()\n",
    "\n",
    "#Additional Info when using cuda\n",
    "if device.type == 'cuda':\n",
    "    print(torch.cuda.get_device_name(0))\n",
    "    print('Memory Usage:')\n",
    "    print('Allocated:', round(torch.cuda.memory_allocated(0)/1024**3,1), 'GB')\n",
    "    print('Cached:   ', round(torch.cuda.memory_reserved(0)/1024**3,1), 'GB')"
   ]
  },
  {
   "cell_type": "markdown",
   "metadata": {},
   "source": [
    "# GASF"
   ]
  },
  {
   "cell_type": "markdown",
   "metadata": {},
   "source": [
    "## Preparing the data"
   ]
  },
  {
   "cell_type": "code",
   "execution_count": 3,
   "metadata": {},
   "outputs": [],
   "source": [
    "### -------------Load dataset------------- ###\n",
    "\n",
    "# Define the file name\n",
    "filename = 'classify_data.h5'\n",
    "\n",
    "# Open the file\n",
    "with h5py.File(filename, 'r') as file:\n",
    "    # Load the datasets\n",
    "    bbh_train = np.array(file['Training']['bbh'])\n",
    "    bbh_val = np.array(file['Validation']['bbh'])\n",
    "    glitch_train = np.array(file['Training']['glitch'])\n",
    "    glitch_val = np.array(file['Validation']['glitch'])\n",
    "\n",
    "\n",
    "### -------------Label our data as background or signal------------- ###\n",
    "\n",
    "# Allows us to easily apply labels to our data to denote it as signal or background for classification.\n",
    "anomaly_class = {\n",
    "    'Glitch': 0,\n",
    "    'Signal': 1\n",
    "}\n",
    "\n",
    "# ID our data as background or signal.\n",
    "glitch_train_ids = np.full(glitch_train.shape[0], anomaly_class['Glitch'], dtype=int)\n",
    "glitch_val_ids = np.full(glitch_val.shape[0], anomaly_class['Glitch'], dtype=int)\n",
    "\n",
    "bbh_train_ids = np.full(bbh_train.shape[0], anomaly_class['Signal'], dtype=int)\n",
    "bbh_val_ids = np.full(bbh_val.shape[0], anomaly_class['Signal'], dtype=int)\n",
    "\n",
    "\n",
    "\n",
    "### -------------Merge dataset------------- ###\n",
    "\n",
    "# Stick our background and signal data together for training and testing.\n",
    "x_train = np.concatenate((glitch_train, bbh_train), axis=0).transpose((0,2,1))\n",
    "y_train = np.concatenate((glitch_train_ids, bbh_train_ids), axis=0)\n",
    "\n",
    "x_val_data = np.concatenate((glitch_val, bbh_val), axis=0).transpose((0,2,1))\n",
    "y_val = np.concatenate((glitch_val_ids, bbh_val_ids), axis=0)\n",
    "\n",
    "\n",
    "\n",
    "### -------------Shuffle dataset------------- ###\n",
    "\n",
    "# Shuffle the training data using a randomly chosen permutation. This ensures we don't encounter artifacts from background \n",
    "# and signal data being clumped together.\n",
    "idx = np.random.permutation(len(x_train))\n",
    "x_train = x_train[idx]\n",
    "y_train = y_train[idx]"
   ]
  },
  {
   "cell_type": "markdown",
   "metadata": {},
   "source": [
    "#### Whitening and filtering"
   ]
  },
  {
   "cell_type": "code",
   "execution_count": 4,
   "metadata": {},
   "outputs": [],
   "source": [
    "### -------------Split detector dataset------------- ###\n",
    "\n",
    "# Each 2D dataset of gravitational wave data comes from one of two detectors: 1  and 2 \n",
    "# Split the data from these two detectors since we can only pass 2D images into our CNN to train.\n",
    "x_train_dec1_raw = x_train[:,:,0]\n",
    "x_train_dec2_raw = x_train[:,:,1]\n",
    "\n",
    "x_val_dec1_raw = x_val_data[:,:,0]\n",
    "x_val_dec2_raw = x_val_data[:,:,1]\n",
    "\n",
    "\n",
    "\n",
    "\n",
    "# Function to process a single item\n",
    "def process_data(raw_data):\n",
    "\n",
    "\n",
    "    # Bandpass filter for 50hz and 250hz\n",
    "    bp = filter_design.bandpass(50, 250, 4096)\n",
    "\n",
    "    ## First three harmonics of the 60 Hz AC mains power:\n",
    "    notches = [filter_design.notch(line, 4096) for line in (60, 120, 180)]\n",
    "    zpk = filter_design.concatenate_zpks(bp, *notches)\n",
    "\n",
    "\n",
    "\n",
    "    hdata = TimeSeries(raw_data)\n",
    "    hdata = hdata.whiten() \n",
    "    hdata = hdata.crop(*hdata.span.contract(1)) # The whitened timeseries data\n",
    "\n",
    "    hfilt = hdata.filter(zpk, filtfilt=True)\n",
    "    hfilt = hfilt.crop(*hfilt.span.contract(1)) # The filtered and whitened timeseries data\n",
    "\n",
    "    return hdata, hfilt"
   ]
  },
  {
   "cell_type": "code",
   "execution_count": 5,
   "metadata": {},
   "outputs": [
    {
     "name": "stderr",
     "output_type": "stream",
     "text": [
      "100%|██████████| 25598/25598 [14:02<00:00, 30.39it/s]\n",
      "100%|██████████| 25598/25598 [14:16<00:00, 29.88it/s]\n",
      "100%|██████████| 598/598 [00:20<00:00, 29.27it/s]\n",
      "100%|██████████| 598/598 [00:20<00:00, 29.36it/s]\n"
     ]
    }
   ],
   "source": [
    "# Process training data\n",
    "x_train_dec1_data_arr = []\n",
    "x_train_dec1_filt_arr = []\n",
    "x_train_dec2_data_arr = []\n",
    "x_train_dec2_filt_arr = []\n",
    "x_val_dec1_data_arr = []\n",
    "x_val_dec1_filt_arr = []\n",
    "x_val_dec2_data_arr = []\n",
    "x_val_dec2_filt_arr = []\n",
    "\n",
    "\n",
    "for raw_data in tqdm(x_train_dec1_raw):\n",
    "    hdata, hfilt = process_data(raw_data)\n",
    "    x_train_dec1_data_arr.append(hdata)\n",
    "    x_train_dec1_filt_arr.append(hfilt)\n",
    "\n",
    "x_train_dec1_data_arr = np.asarray(x_train_dec1_data_arr)\n",
    "x_train_dec1_filt_arr = np.asarray(x_train_dec1_filt_arr)\n",
    "\n",
    "\n",
    "for raw_data in tqdm(x_train_dec2_raw):\n",
    "    hdata, hfilt = process_data(raw_data)\n",
    "    x_train_dec2_data_arr.append(hdata)\n",
    "    x_train_dec2_filt_arr.append(hfilt)\n",
    "\n",
    "x_train_dec2_data_arr = np.asarray(x_train_dec2_data_arr)\n",
    "x_train_dec2_filt_arr = np.asarray(x_train_dec2_filt_arr)\n",
    "\n",
    "\n",
    "for raw_data in tqdm(x_val_dec1_raw):\n",
    "    hdata, hfilt = process_data(raw_data)\n",
    "    x_val_dec1_data_arr.append(hdata)\n",
    "    x_val_dec1_filt_arr.append(hfilt)\n",
    "\n",
    "x_val_dec1_data_arr = np.asarray(x_val_dec1_data_arr)\n",
    "x_val_dec1_filt_arr = np.asarray(x_val_dec1_filt_arr)\n",
    "\n",
    "\n",
    "for raw_data in tqdm(x_val_dec2_raw):\n",
    "    hdata, hfilt = process_data(raw_data)\n",
    "    x_val_dec2_data_arr.append(hdata)\n",
    "    x_val_dec2_filt_arr.append(hfilt)\n",
    "\n",
    "x_val_dec2_data_arr = np.asarray(x_val_dec2_data_arr)\n",
    "x_val_dec2_filt_arr = np.asarray(x_val_dec2_filt_arr)"
   ]
  },
  {
   "cell_type": "markdown",
   "metadata": {},
   "source": [
    "----"
   ]
  },
  {
   "cell_type": "markdown",
   "metadata": {},
   "source": [
    "##### NOTE: RESTART GASF HERE WITHOUT HAVING TO WHITEN AND FILTER"
   ]
  },
  {
   "cell_type": "code",
   "execution_count": 6,
   "metadata": {},
   "outputs": [],
   "source": [
    "#### START HERE IF YOU NEED TO RESTART WITHOUT HAVING TO WHITEN AND FILTER\n",
    "y_train = np.concatenate((glitch_train_ids, bbh_train_ids), axis=0)\n",
    "y_train = y_train[idx]\n",
    "\n",
    "# # The whitened and filtered data\n",
    "# x_train_dec1 = x_train_dec1_filt_arr\n",
    "# x_train_dec2 = x_train_dec2_filt_arr\n",
    "# x_val_dec1 = x_val_dec1_filt_arr\n",
    "# x_val_dec2 = x_val_dec2_filt_arr\n",
    "\n",
    "# Just the whitened data\n",
    "x_train_dec1 = x_train_dec1_data_arr\n",
    "x_train_dec2 = x_train_dec2_data_arr\n",
    "x_val_dec1 = x_val_dec1_data_arr\n",
    "x_val_dec2 = x_val_dec2_data_arr"
   ]
  },
  {
   "cell_type": "markdown",
   "metadata": {},
   "source": [
    "-----"
   ]
  },
  {
   "cell_type": "markdown",
   "metadata": {},
   "source": [
    "## Converting to GASF"
   ]
  },
  {
   "cell_type": "code",
   "execution_count": 7,
   "metadata": {},
   "outputs": [
    {
     "name": "stdout",
     "output_type": "stream",
     "text": [
      "X Training Shape:  (22854, 2, 128, 128)\n",
      "Y Training Shape:  (22854,)\n",
      "X Testing Shape:  (2744, 2, 128, 128)\n",
      "Y Testing Shape:  (2744,)\n",
      "X Validation Shape:  (598, 2, 128, 128)\n",
      "Y Validation Shape:  (598,)\n"
     ]
    }
   ],
   "source": [
    "### -------------Convert dataset to GASF------------- ###\n",
    "\n",
    "# Utilize Gramian Angular Fields to transform our image from time series to images \n",
    "# so that we can apply a CNN for classification. See for an explanation: \n",
    "# Imaging Time-Series to Improve Classification and Imputation. \n",
    "# Zhiguang Wang and Tim Oates. \n",
    "# https://arxiv.org/pdf/1506.00327\n",
    "\n",
    "## NOTE: NEED TO HAVE USER INPUT FOR IMAGE SIZE??\n",
    "\n",
    "# gasf = GramianAngularField(image_size=129, sample_range = (-1,1), method=\"summation\")\n",
    "gasf = GramianAngularField(image_size=128, sample_range = (-1,1), method=\"summation\")\n",
    "# Convert training data to image format\n",
    "img_x_train_dec1 = gasf.transform(x_train_dec1)\n",
    "img_x_train_dec2 = gasf.transform(x_train_dec2)\n",
    "\n",
    "# Convert testing data to image format\n",
    "img_x_val_dec1 = gasf.transform(x_val_dec1)\n",
    "img_x_val_dec2 = gasf.transform(x_val_dec2)\n",
    "\n",
    "\n",
    "# Stack Detector 1 and Detector 2 image data together to unify our training and testing datasets before training.\n",
    "x_train = np.stack((img_x_train_dec1, img_x_train_dec2), axis=1)\n",
    "x_val = np.stack((img_x_val_dec1, img_x_val_dec2), axis=1)\n",
    "\n",
    "### -------------Split into training and validation datasets------------- ###\n",
    "\n",
    "## NOTE: MAYBE USER INPUT FOR SPLIT %???\n",
    "\n",
    "# Take the first 17.65% of our training features and targets as validation set\n",
    "x_test= x_train[:round((len(x_train)*0.1072))]\n",
    "y_test = y_train[:round((len(y_train)*0.1072))]\n",
    "\n",
    "# Take the remaining 82.35% of training features and targets as training set\n",
    "x_train = x_train[round((len(x_train)*0.1072)):]\n",
    "y_train = y_train[round((len(y_train)*0.1072)):]\n",
    "\n",
    "# Check the shapes of the training/validation datasets. Turns out we get about a 80%, 13%, 2% split.\n",
    "print(\"X Training Shape: \", x_train.shape)\n",
    "print(\"Y Training Shape: \", y_train.shape)\n",
    "print(\"X Testing Shape: \", x_test.shape)\n",
    "print(\"Y Testing Shape: \", y_test.shape)\n",
    "print(\"X Validation Shape: \", x_val.shape)\n",
    "print(\"Y Validation Shape: \", y_val.shape)\n"
   ]
  },
  {
   "cell_type": "markdown",
   "metadata": {},
   "source": [
    "## CNN Model"
   ]
  },
  {
   "cell_type": "code",
   "execution_count": 8,
   "metadata": {},
   "outputs": [],
   "source": [
    "### -------------Model Definition------------- ###\n",
    "\n",
    "class CNNModel(torch.nn.Module):\n",
    "    \n",
    "    def __init__(self):\n",
    "        \n",
    "        super(CNNModel, self).__init__()\n",
    "\n",
    "        # First convolution layer (2 channel -> 16 channels, preserve original dimension by adding padding = 2) \n",
    "        self.layer1 = torch.nn.Sequential(\n",
    "            torch.nn.Conv2d(in_channels=2, out_channels=16, kernel_size=4, stride=2, padding=1),\n",
    "            torch.nn.BatchNorm2d(16),\n",
    "            torch.nn.ReLU(),\n",
    "            torch.nn.MaxPool2d(kernel_size=4, stride=2, padding=1)\n",
    "            )\n",
    "        \n",
    "        # Second convolution layer (16 channel -> 32 channels, preserve dimension by adding padding = 2)\n",
    "        self.layer2 = torch.nn.Sequential(\n",
    "            torch.nn.Conv2d(in_channels=16, out_channels=32, kernel_size=4, stride=2, padding=1),\n",
    "            torch.nn.BatchNorm2d(32),\n",
    "            torch.nn.ReLU(),\n",
    "            torch.nn.MaxPool2d(kernel_size=2, stride=2, padding=0)\n",
    "            )\n",
    "\n",
    "        # Fully connected layer that takes the flattened output of layer 2 (32, 7 ,7) -> (1568) and output 2 classes\n",
    "        self.fc1 = torch.nn.Linear(in_features=32*8*8, out_features=128)\n",
    "        self.fc2 = torch.nn.Linear(in_features=128, out_features=64)\n",
    "        self.fc3 = torch.nn.Linear(in_features=64, out_features=2)\n",
    "    \n",
    "    def forward(self, x):\n",
    "\n",
    "        # input image -> conv -> batchnorm -> relu -> maxpool\n",
    "        out = self.layer1(x)\n",
    "        # 1st maxpool output -> conv -> batchnorm -> relu -> maxpool\n",
    "        out = self.layer2(out)\n",
    "        # flatten the second maxpool output to be used as input into FCN layer\n",
    "        out = out.view(out.size(0), -1)\n",
    "\n",
    "        # Pass flattened output into FCN layers\n",
    "        out = self.fc1(out)\n",
    "        out = self.fc2(out)\n",
    "        out = self.fc3(out)\n",
    "        \n",
    "        return out\n",
    "\n",
    "\n",
    "# ### -------------Model Definition------------- ###\n",
    "\n",
    "# class CNNModel(torch.nn.Module):\n",
    "    \n",
    "#     def __init__(self):\n",
    "        \n",
    "#         super(CNNModel, self).__init__()\n",
    "\n",
    "#                 # First convolution layer (2 channel -> 16 channels, preserve original dimension by adding padding = 2) \n",
    "#         self.layer1 = torch.nn.Sequential(\n",
    "#             torch.nn.Conv2d(in_channels=2, out_channels=16, kernel_size=5, stride=2, padding=2),\n",
    "#             torch.nn.BatchNorm2d(16),\n",
    "#             torch.nn.ReLU(),\n",
    "#             torch.nn.MaxPool2d(kernel_size=3, stride=2, padding=0)\n",
    "#             )\n",
    "        \n",
    "#         # Second convolution layer (16 channel -> 32 channels, preserve dimension by adding padding = 2)\n",
    "#         self.layer2 = torch.nn.Sequential(\n",
    "#             torch.nn.Conv2d(in_channels=16, out_channels=32, kernel_size=4, stride=2, padding=1),\n",
    "#             torch.nn.BatchNorm2d(32),\n",
    "#             torch.nn.ReLU(),\n",
    "#             torch.nn.MaxPool2d(kernel_size=2, stride=2, padding=0)\n",
    "#             )\n",
    "\n",
    "#         # Fully connected layer that takes the flattened output of layer 2 (32, 7 ,7) -> (1568) and output 2 classes\n",
    "#         self.fc1 = torch.nn.Linear(in_features=32*8*8, out_features=128)\n",
    "#         self.fc2 = torch.nn.Linear(in_features=128, out_features=64)\n",
    "#         self.fc3 = torch.nn.Linear(in_features=64, out_features=2)\n",
    "    \n",
    "#     def forward(self, x):\n",
    "\n",
    "#         # input image -> conv -> batchnorm -> relu -> maxpool\n",
    "#         out = self.layer1(x)\n",
    "#         # 1st maxpool output -> conv -> batchnorm -> relu -> maxpool\n",
    "#         out = self.layer2(out)\n",
    "#         # flatten the second maxpool output to be used as input into FCN layer\n",
    "#         out = out.view(out.size(0), -1)\n",
    "\n",
    "#         # Pass flattened output into FCN layers\n",
    "#         out = self.fc1(out)\n",
    "#         out = self.fc2(out)\n",
    "#         out = self.fc3(out)\n",
    "        \n",
    "#         return out"
   ]
  },
  {
   "cell_type": "markdown",
   "metadata": {},
   "source": [
    "## Hyperparameters"
   ]
  },
  {
   "cell_type": "code",
   "execution_count": 9,
   "metadata": {},
   "outputs": [],
   "source": [
    "### -------------Hyperparameters------------- ###\n",
    "\n",
    "# Initialize the CNN model\n",
    "model = CNNModel()\n",
    "learning_rate = 0.00005      #0.00005\n",
    "epochs = 40                 # 75\n",
    "batchsize = 768\n",
    "L2_reg = 0.00005\n",
    "\n",
    "# Define loss function and optimizer\n",
    "loss_func = torch.nn.CrossEntropyLoss()\n",
    "optimizer = torch.optim.Adam(model.parameters(), lr = learning_rate, weight_decay=L2_reg)\n",
    "\n",
    "if torch.cuda.is_available():                                  # Checks if the GPU is available for processing\n",
    "    model.cuda()                                               # Sends the model to the GPU for processing\n",
    "model        \n",
    "\n",
    "\n",
    "### -------------Identify tracked values------------- ###\n",
    "\n",
    "train_loss_list_gasf = []\n",
    "validation_accuracy_list_gasf = np.zeros((epochs,))\n",
    "\n",
    "\n",
    "### -------------Creating Training Model inputs------------- ###\n",
    "\n",
    "if torch.cuda.is_available():                   # If using CUDA version of PyTorch, dataset will be processed on GPU\n",
    "\n",
    "    # Convert train/validation/test sets into torch tensors from numpy\n",
    "    train_inputs = torch.from_numpy(x_train).float().cuda()\n",
    "    train_targets = torch.from_numpy(y_train).long().cuda()\n",
    "\n",
    "    validation_inputs = torch.from_numpy(x_val).float().cuda()\n",
    "    validation_targets = torch.from_numpy(y_val).long().cuda()\n",
    "\n",
    "    testing_inputs = torch.from_numpy(x_test).float().cuda()\n",
    "    testing_targets = torch.from_numpy(y_test).long().cuda()\n",
    "\n",
    "    # Split the training inputs/targets into mini-batches\n",
    "    train_batches_features = torch.split(train_inputs, batchsize)\n",
    "    train_batches_targets = torch.split(train_targets, batchsize)\n",
    "\n",
    "else:                                           # If not using CUDA version of PyTorch, dataset will be processed on CPU\n",
    "\n",
    "    # Convert train/validation/test sets into torch tensors from numpy\n",
    "    train_inputs = torch.from_numpy(x_train).float()\n",
    "    train_targets = torch.from_numpy(y_train).long()\n",
    "\n",
    "    validation_inputs = torch.from_numpy(x_val).float()\n",
    "    validation_targets = torch.from_numpy(y_val).long()\n",
    "\n",
    "    testing_inputs = torch.from_numpy(x_test).float()\n",
    "    testing_targets = torch.from_numpy(y_test).long()\n",
    "\n",
    "    # Split the training inputs/targets into mini-batches\n",
    "    train_batches_features = torch.split(train_inputs, batchsize)\n",
    "    train_batches_targets = torch.split(train_targets, batchsize)\n",
    "\n",
    "# length of train_batches_features = total number of mini-batches in the training set\n",
    "batch_split_num = len(train_batches_features)"
   ]
  },
  {
   "cell_type": "markdown",
   "metadata": {},
   "source": [
    "## Training loop"
   ]
  },
  {
   "cell_type": "code",
   "execution_count": 10,
   "metadata": {},
   "outputs": [
    {
     "name": "stderr",
     "output_type": "stream",
     "text": [
      "Epoch 0: 100%|██████████| 30/30 [00:54<00:00,  1.83s/it]0<?, ?it/s]\n"
     ]
    },
    {
     "name": "stdout",
     "output_type": "stream",
     "text": [
      "Epoch: 0 Epoch time: 54.96s Validation Accuracy: 82.61% Training loss: 0.51\n"
     ]
    },
    {
     "name": "stderr",
     "output_type": "stream",
     "text": [
      "Epoch 1: 100%|██████████| 30/30 [01:22<00:00,  2.76s/it]6<36:30, 56.16s/it]\n"
     ]
    },
    {
     "name": "stdout",
     "output_type": "stream",
     "text": [
      "Epoch: 1 Epoch time: 82.94s Validation Accuracy: 86.45% Training loss: 0.49\n"
     ]
    },
    {
     "name": "stderr",
     "output_type": "stream",
     "text": [
      "Epoch 2: 100%|██████████| 30/30 [00:47<00:00,  1.58s/it]0<45:59, 72.62s/it]\n"
     ]
    },
    {
     "name": "stdout",
     "output_type": "stream",
     "text": [
      "Epoch: 2 Epoch time: 47.45s Validation Accuracy: 86.96% Training loss: 0.47\n"
     ]
    },
    {
     "name": "stderr",
     "output_type": "stream",
     "text": [
      "Epoch 3: 100%|██████████| 30/30 [00:47<00:00,  1.58s/it]8<38:02, 61.70s/it]\n"
     ]
    },
    {
     "name": "stdout",
     "output_type": "stream",
     "text": [
      "Epoch: 3 Epoch time: 47.49s Validation Accuracy: 87.63% Training loss: 0.46\n"
     ]
    },
    {
     "name": "stderr",
     "output_type": "stream",
     "text": [
      "Epoch 4: 100%|██████████| 30/30 [00:47<00:00,  1.58s/it]7<33:57, 56.59s/it]\n"
     ]
    },
    {
     "name": "stdout",
     "output_type": "stream",
     "text": [
      "Epoch: 4 Epoch time: 47.48s Validation Accuracy: 88.46% Training loss: 0.45\n"
     ]
    },
    {
     "name": "stderr",
     "output_type": "stream",
     "text": [
      "Epoch 5: 100%|██████████| 30/30 [00:47<00:00,  1.58s/it]6<31:21, 53.76s/it]\n"
     ]
    },
    {
     "name": "stdout",
     "output_type": "stream",
     "text": [
      "Epoch: 5 Epoch time: 47.44s Validation Accuracy: 89.63% Training loss: 0.44\n"
     ]
    },
    {
     "name": "stderr",
     "output_type": "stream",
     "text": [
      "Epoch 6: 100%|██████████| 30/30 [00:47<00:00,  1.58s/it]5<29:29, 52.04s/it]\n"
     ]
    },
    {
     "name": "stdout",
     "output_type": "stream",
     "text": [
      "Epoch: 6 Epoch time: 47.49s Validation Accuracy: 89.8% Training loss: 0.43\n"
     ]
    },
    {
     "name": "stderr",
     "output_type": "stream",
     "text": [
      "Epoch 7: 100%|██████████| 30/30 [00:47<00:00,  1.58s/it]3<28:01, 50.96s/it]\n"
     ]
    },
    {
     "name": "stdout",
     "output_type": "stream",
     "text": [
      "Epoch: 7 Epoch time: 47.5s Validation Accuracy: 90.13% Training loss: 0.42\n"
     ]
    },
    {
     "name": "stderr",
     "output_type": "stream",
     "text": [
      "Epoch 8: 100%|██████████| 30/30 [00:47<00:00,  1.58s/it]2<26:48, 50.26s/it]\n"
     ]
    },
    {
     "name": "stdout",
     "output_type": "stream",
     "text": [
      "Epoch: 8 Epoch time: 47.47s Validation Accuracy: 90.64% Training loss: 0.42\n"
     ]
    },
    {
     "name": "stderr",
     "output_type": "stream",
     "text": [
      "Epoch 9: 100%|██████████| 30/30 [00:47<00:00,  1.58s/it]1<25:43, 49.78s/it]\n"
     ]
    },
    {
     "name": "stdout",
     "output_type": "stream",
     "text": [
      "Epoch: 9 Epoch time: 47.49s Validation Accuracy: 90.47% Training loss: 0.41\n"
     ]
    },
    {
     "name": "stderr",
     "output_type": "stream",
     "text": [
      "Epoch 10: 100%|██████████| 30/30 [00:47<00:00,  1.58s/it]0<24:43, 49.46s/it]\n"
     ]
    },
    {
     "name": "stdout",
     "output_type": "stream",
     "text": [
      "Epoch: 10 Epoch time: 47.51s Validation Accuracy: 90.64% Training loss: 0.4\n"
     ]
    },
    {
     "name": "stderr",
     "output_type": "stream",
     "text": [
      "Epoch 11: 100%|██████████| 30/30 [00:47<00:00,  1.58s/it]8<23:48, 49.25s/it]\n"
     ]
    },
    {
     "name": "stdout",
     "output_type": "stream",
     "text": [
      "Epoch: 11 Epoch time: 47.46s Validation Accuracy: 90.8% Training loss: 0.4\n"
     ]
    },
    {
     "name": "stderr",
     "output_type": "stream",
     "text": [
      "Epoch 12: 100%|██████████| 30/30 [00:47<00:00,  1.58s/it]7<22:54, 49.09s/it]\n"
     ]
    },
    {
     "name": "stdout",
     "output_type": "stream",
     "text": [
      "Epoch: 12 Epoch time: 47.47s Validation Accuracy: 90.8% Training loss: 0.39\n"
     ]
    },
    {
     "name": "stderr",
     "output_type": "stream",
     "text": [
      "Epoch 13: 100%|██████████| 30/30 [00:47<00:00,  1.58s/it]6<22:02, 48.98s/it]\n"
     ]
    },
    {
     "name": "stdout",
     "output_type": "stream",
     "text": [
      "Epoch: 13 Epoch time: 47.51s Validation Accuracy: 90.8% Training loss: 0.38\n"
     ]
    },
    {
     "name": "stderr",
     "output_type": "stream",
     "text": [
      "Epoch 14: 100%|██████████| 30/30 [00:42<00:00,  1.40s/it]5<21:11, 48.92s/it]\n"
     ]
    },
    {
     "name": "stdout",
     "output_type": "stream",
     "text": [
      "Epoch: 14 Epoch time: 42.04s Validation Accuracy: 90.97% Training loss: 0.38\n"
     ]
    },
    {
     "name": "stderr",
     "output_type": "stream",
     "text": [
      "Epoch 15: 100%|██████████| 30/30 [00:39<00:00,  1.33s/it]8<19:39, 47.16s/it]\n"
     ]
    },
    {
     "name": "stdout",
     "output_type": "stream",
     "text": [
      "Epoch: 15 Epoch time: 39.84s Validation Accuracy: 91.14% Training loss: 0.37\n"
     ]
    },
    {
     "name": "stderr",
     "output_type": "stream",
     "text": [
      "Epoch 16: 100%|██████████| 30/30 [00:39<00:00,  1.33s/it]9<18:06, 45.27s/it]\n"
     ]
    },
    {
     "name": "stdout",
     "output_type": "stream",
     "text": [
      "Epoch: 16 Epoch time: 39.84s Validation Accuracy: 90.8% Training loss: 0.36\n"
     ]
    },
    {
     "name": "stderr",
     "output_type": "stream",
     "text": [
      "Epoch 17: 100%|██████████| 30/30 [00:39<00:00,  1.33s/it]0<16:50, 43.96s/it]\n"
     ]
    },
    {
     "name": "stdout",
     "output_type": "stream",
     "text": [
      "Epoch: 17 Epoch time: 39.86s Validation Accuracy: 90.97% Training loss: 0.36\n"
     ]
    },
    {
     "name": "stderr",
     "output_type": "stream",
     "text": [
      "Epoch 18: 100%|██████████| 30/30 [00:39<00:00,  1.33s/it]0<15:46, 43.04s/it]\n"
     ]
    },
    {
     "name": "stdout",
     "output_type": "stream",
     "text": [
      "Epoch: 18 Epoch time: 39.84s Validation Accuracy: 91.14% Training loss: 0.35\n"
     ]
    },
    {
     "name": "stderr",
     "output_type": "stream",
     "text": [
      "Epoch 19: 100%|██████████| 30/30 [00:39<00:00,  1.33s/it]1<14:50, 42.40s/it]\n"
     ]
    },
    {
     "name": "stdout",
     "output_type": "stream",
     "text": [
      "Epoch: 19 Epoch time: 39.86s Validation Accuracy: 90.97% Training loss: 0.34\n"
     ]
    },
    {
     "name": "stderr",
     "output_type": "stream",
     "text": [
      "Epoch 20: 100%|██████████| 30/30 [00:39<00:00,  1.33s/it]2<13:59, 41.95s/it]\n"
     ]
    },
    {
     "name": "stdout",
     "output_type": "stream",
     "text": [
      "Epoch: 20 Epoch time: 39.93s Validation Accuracy: 90.64% Training loss: 0.34\n"
     ]
    },
    {
     "name": "stderr",
     "output_type": "stream",
     "text": [
      "Epoch 21: 100%|██████████| 30/30 [00:39<00:00,  1.33s/it]3<13:11, 41.66s/it]\n"
     ]
    },
    {
     "name": "stdout",
     "output_type": "stream",
     "text": [
      "Epoch: 21 Epoch time: 39.89s Validation Accuracy: 90.97% Training loss: 0.33\n"
     ]
    },
    {
     "name": "stderr",
     "output_type": "stream",
     "text": [
      "Epoch 22: 100%|██████████| 30/30 [00:39<00:00,  1.33s/it]4<12:26, 41.45s/it]\n"
     ]
    },
    {
     "name": "stdout",
     "output_type": "stream",
     "text": [
      "Epoch: 22 Epoch time: 39.87s Validation Accuracy: 91.14% Training loss: 0.33\n"
     ]
    },
    {
     "name": "stderr",
     "output_type": "stream",
     "text": [
      "Epoch 23: 100%|██████████| 30/30 [00:39<00:00,  1.33s/it]5<11:41, 41.29s/it]\n"
     ]
    },
    {
     "name": "stdout",
     "output_type": "stream",
     "text": [
      "Epoch: 23 Epoch time: 39.87s Validation Accuracy: 91.14% Training loss: 0.32\n"
     ]
    },
    {
     "name": "stderr",
     "output_type": "stream",
     "text": [
      "Epoch 24: 100%|██████████| 30/30 [00:39<00:00,  1.33s/it]6<10:58, 41.18s/it]\n"
     ]
    },
    {
     "name": "stdout",
     "output_type": "stream",
     "text": [
      "Epoch: 24 Epoch time: 39.85s Validation Accuracy: 90.97% Training loss: 0.32\n"
     ]
    },
    {
     "name": "stderr",
     "output_type": "stream",
     "text": [
      "Epoch 25: 100%|██████████| 30/30 [00:39<00:00,  1.33s/it]7<10:16, 41.10s/it]\n"
     ]
    },
    {
     "name": "stdout",
     "output_type": "stream",
     "text": [
      "Epoch: 25 Epoch time: 39.84s Validation Accuracy: 90.64% Training loss: 0.31\n"
     ]
    },
    {
     "name": "stderr",
     "output_type": "stream",
     "text": [
      "Epoch 26: 100%|██████████| 30/30 [00:39<00:00,  1.33s/it]8<09:34, 41.04s/it]\n"
     ]
    },
    {
     "name": "stdout",
     "output_type": "stream",
     "text": [
      "Epoch: 26 Epoch time: 39.86s Validation Accuracy: 90.8% Training loss: 0.31\n"
     ]
    },
    {
     "name": "stderr",
     "output_type": "stream",
     "text": [
      "Epoch 27: 100%|██████████| 30/30 [00:39<00:00,  1.33s/it]9<08:53, 41.00s/it]\n"
     ]
    },
    {
     "name": "stdout",
     "output_type": "stream",
     "text": [
      "Epoch: 27 Epoch time: 39.89s Validation Accuracy: 90.8% Training loss: 0.3\n"
     ]
    },
    {
     "name": "stderr",
     "output_type": "stream",
     "text": [
      "Epoch 28: 100%|██████████| 30/30 [00:39<00:00,  1.33s/it]0<08:11, 40.99s/it]\n"
     ]
    },
    {
     "name": "stdout",
     "output_type": "stream",
     "text": [
      "Epoch: 28 Epoch time: 39.85s Validation Accuracy: 90.64% Training loss: 0.3\n"
     ]
    },
    {
     "name": "stderr",
     "output_type": "stream",
     "text": [
      "Epoch 29: 100%|██████████| 30/30 [00:39<00:00,  1.33s/it]1<07:30, 40.96s/it]\n"
     ]
    },
    {
     "name": "stdout",
     "output_type": "stream",
     "text": [
      "Epoch: 29 Epoch time: 39.85s Validation Accuracy: 90.64% Training loss: 0.29\n"
     ]
    },
    {
     "name": "stderr",
     "output_type": "stream",
     "text": [
      "Epoch 30: 100%|██████████| 30/30 [00:39<00:00,  1.33s/it]2<06:49, 40.95s/it]\n"
     ]
    },
    {
     "name": "stdout",
     "output_type": "stream",
     "text": [
      "Epoch: 30 Epoch time: 39.87s Validation Accuracy: 90.64% Training loss: 0.29\n"
     ]
    },
    {
     "name": "stderr",
     "output_type": "stream",
     "text": [
      "Epoch 31: 100%|██████████| 30/30 [00:39<00:00,  1.33s/it]2<06:08, 40.94s/it]\n"
     ]
    },
    {
     "name": "stdout",
     "output_type": "stream",
     "text": [
      "Epoch: 31 Epoch time: 39.91s Validation Accuracy: 90.3% Training loss: 0.29\n"
     ]
    },
    {
     "name": "stderr",
     "output_type": "stream",
     "text": [
      "Epoch 32: 100%|██████████| 30/30 [00:39<00:00,  1.33s/it]3<05:27, 40.95s/it]\n"
     ]
    },
    {
     "name": "stdout",
     "output_type": "stream",
     "text": [
      "Epoch: 32 Epoch time: 39.86s Validation Accuracy: 90.3% Training loss: 0.28\n"
     ]
    },
    {
     "name": "stderr",
     "output_type": "stream",
     "text": [
      "Epoch 33: 100%|██████████| 30/30 [00:39<00:00,  1.33s/it]4<04:46, 40.94s/it]\n"
     ]
    },
    {
     "name": "stdout",
     "output_type": "stream",
     "text": [
      "Epoch: 33 Epoch time: 39.86s Validation Accuracy: 90.13% Training loss: 0.28\n"
     ]
    },
    {
     "name": "stderr",
     "output_type": "stream",
     "text": [
      "Epoch 34: 100%|██████████| 30/30 [00:39<00:00,  1.33s/it]5<04:05, 40.93s/it]\n"
     ]
    },
    {
     "name": "stdout",
     "output_type": "stream",
     "text": [
      "Epoch: 34 Epoch time: 39.85s Validation Accuracy: 90.3% Training loss: 0.27\n"
     ]
    },
    {
     "name": "stderr",
     "output_type": "stream",
     "text": [
      "Epoch 35: 100%|██████████| 30/30 [00:39<00:00,  1.33s/it]6<03:24, 40.92s/it]\n"
     ]
    },
    {
     "name": "stdout",
     "output_type": "stream",
     "text": [
      "Epoch: 35 Epoch time: 39.84s Validation Accuracy: 90.47% Training loss: 0.27\n"
     ]
    },
    {
     "name": "stderr",
     "output_type": "stream",
     "text": [
      "Epoch 36: 100%|██████████| 30/30 [00:40<00:00,  1.33s/it]7<02:43, 40.91s/it]\n"
     ]
    },
    {
     "name": "stdout",
     "output_type": "stream",
     "text": [
      "Epoch: 36 Epoch time: 40.05s Validation Accuracy: 90.8% Training loss: 0.27\n"
     ]
    },
    {
     "name": "stderr",
     "output_type": "stream",
     "text": [
      "Epoch 37: 100%|██████████| 30/30 [00:39<00:00,  1.33s/it]8<02:02, 40.97s/it]\n"
     ]
    },
    {
     "name": "stdout",
     "output_type": "stream",
     "text": [
      "Epoch: 37 Epoch time: 39.88s Validation Accuracy: 90.8% Training loss: 0.26\n"
     ]
    },
    {
     "name": "stderr",
     "output_type": "stream",
     "text": [
      "Epoch 38: 100%|██████████| 30/30 [00:39<00:00,  1.33s/it]9<01:21, 40.96s/it]\n"
     ]
    },
    {
     "name": "stdout",
     "output_type": "stream",
     "text": [
      "Epoch: 38 Epoch time: 39.89s Validation Accuracy: 90.8% Training loss: 0.26\n"
     ]
    },
    {
     "name": "stderr",
     "output_type": "stream",
     "text": [
      "Epoch 39: 100%|██████████| 30/30 [00:39<00:00,  1.33s/it]0<00:40, 40.96s/it]\n"
     ]
    },
    {
     "name": "stdout",
     "output_type": "stream",
     "text": [
      "Epoch: 39 Epoch time: 39.84s Validation Accuracy: 90.8% Training loss: 0.26\n"
     ]
    },
    {
     "name": "stderr",
     "output_type": "stream",
     "text": [
      "Training Model on 40 Epochs: 100%|██████████| 40/40 [29:51<00:00, 44.79s/it]\n"
     ]
    }
   ],
   "source": [
    "### -------------Training Loop------------- ###\n",
    "## NOTE: CHANGE DESC TO INCLUDE CHANGING EPOCHS\n",
    "\n",
    "for epoch in trange(epochs, desc='Training Model on 40 Epochs'):\n",
    "    start_time = timer() # start timer\n",
    "    # Each mini-batch number i, grab i-th training feature and target mini-batch and perform fwd/bwd pass on the network\n",
    "    \n",
    "    for i in trange(batch_split_num, desc=f'Epoch {epoch}'):\n",
    "    \n",
    "        optimizer.zero_grad()    \n",
    "        train_batch_outputs = model(train_batches_features[i])  \n",
    "        loss = loss_func(train_batch_outputs, train_batches_targets[i])\n",
    "        train_loss_list_gasf.append(loss.item())       \n",
    "        loss.backward()\n",
    "        optimizer.step()\n",
    "\n",
    "    end_time = timer() # End timer\n",
    "\n",
    "### -------------Compute Validation Accuracy------------- ###\n",
    "\n",
    "    with torch.no_grad():\n",
    "\n",
    "        validation_outputs = model(validation_inputs)\n",
    "        val_correct = (torch.argmax(validation_outputs, dim=1) == validation_targets).type(torch.FloatTensor) \n",
    "        validation_accuracy_list_gasf[epoch] = val_correct.mean()\n",
    "\n",
    "        print(\"Epoch: \"+ str(epoch),\n",
    "              \"Epoch time: \" + str(np.round(end_time - start_time, 2)) + \"s\",\n",
    "              \"Validation Accuracy: \" + str(np.round(val_correct.mean().numpy() * 100, 2)) + '%',\n",
    "              \"Training loss: \" + str(np.round(loss.item(), 2)), flush=True)"
   ]
  },
  {
   "cell_type": "markdown",
   "metadata": {},
   "source": [
    "## Visualize & Evaluate Model"
   ]
  },
  {
   "cell_type": "code",
   "execution_count": 11,
   "metadata": {},
   "outputs": [
    {
     "data": {
      "image/png": "[encoded data removed]",
      "text/plain": [
       "<Figure size 1200x1000 with 2 Axes>"
      ]
     },
     "metadata": {},
     "output_type": "display_data"
    },
    {
     "data": {
      "image/png": "[encoded data removed]",
      "text/plain": [
       "<Figure size 640x480 with 2 Axes>"
      ]
     },
     "metadata": {},
     "output_type": "display_data"
    }
   ],
   "source": [
    "### -------------Plot the training loss and validation accuracy------------- ###\n",
    "\n",
    "sns.set(style = 'whitegrid', font_scale = 1)\n",
    "plt.figure(figsize = (12,10))\n",
    "plt.rcParams[\"font.family\"] = \"serif\"\n",
    "plt.rcParams[\"font.sans-serif\"] = \"Open Sans\"\n",
    "\n",
    "plt.subplot(2, 1, 1)\n",
    "plt.plot(train_loss_list_gasf, linewidth = 3, color=\"#4b2e83\")\n",
    "plt.ylabel(\"Training loss\")\n",
    "plt.xlabel(\"Iterations\")\n",
    "\n",
    "\n",
    "plt.subplot(2, 1, 2)\n",
    "plt.plot(validation_accuracy_list_gasf, linewidth = 3, color = \"#85754d\")\n",
    "plt.ylabel(\"Validation Accuracy\")\n",
    "plt.xlabel(\"Epochs\")\n",
    "plt.suptitle(\"GASF TRAINING LOSS AND VALIDATION ACCURACY\")\n",
    "sns.despine()\n",
    "\n",
    "plt.savefig(\"GASF_TrainLoss_ValAcc.png\")\n",
    "\n",
    "\n",
    "# torch.cuda.empty_cache()\n",
    "\n",
    "### -------------Computing the Training accuracy------------- ###\n",
    "\n",
    "with torch.no_grad():\n",
    "\n",
    "    target_pred_test = model(train_inputs)\n",
    "    train_correct = (torch.argmax(target_pred_test, dim=1) == train_targets).type(torch.FloatTensor)\n",
    "    train_testing_acc = (train_correct.mean().numpy()*100)\n",
    "\n",
    "### -------------Computing the testing accuracy------------- ###\n",
    "\n",
    "with torch.no_grad():\n",
    "\n",
    "    target_pred_test = model(testing_inputs)\n",
    "    test_correct = (torch.argmax(target_pred_test, dim=1) == testing_targets).type(torch.FloatTensor)\n",
    "    test_testing_acc = (test_correct.mean().numpy()*100) \n",
    "\n",
    "### -------------Computing the validation accuracy------------- ###\n",
    "\n",
    "with torch.no_grad():\n",
    "\n",
    "    target_pred_test = model(validation_inputs)\n",
    "    val_correct = (torch.argmax(target_pred_test, dim=1) == validation_targets).type(torch.FloatTensor)\n",
    "    val_testing_acc = (val_correct.mean().numpy()*100)\n",
    "    \n",
    "### -------------Confusion Matrix------------- ###\n",
    "\n",
    "actual = validation_targets.cpu().numpy()\n",
    "predicted = (torch.argmax(model(validation_inputs), dim=1)).cpu().numpy()\n",
    "\n",
    "cm = confusion_matrix(actual, predicted)\n",
    "\n",
    "cm_display = metrics.ConfusionMatrixDisplay(cm, \n",
    "                                            display_labels = ('Background', 'Signal'))\n",
    "cm_display.plot(cmap=plt.cm.Blues, values_format = '')\n",
    "plt.title('GASF Confusion Matrix for validation targets')\n",
    "plt.grid(False)\n",
    "plt.savefig(\"GASF_ConfMatrix.png\")\n",
    "plt.show()\n",
    "\n",
    "\n",
    "Accuracy = metrics.accuracy_score(actual, predicted)*100\n",
    "Precision = metrics.precision_score(actual, predicted)*100\n",
    "Sensitivity_recall = metrics.recall_score(actual, predicted)*100\n",
    "Specificity = metrics.recall_score(actual, predicted, pos_label=0)*100\n",
    "F1_score = metrics.f1_score(actual, predicted)*100\n",
    "\n",
    "acc = {'Training Accuracy': [train_testing_acc],\n",
    "           'Testing Accuracy': [test_testing_acc],\n",
    "           'Validation Accuracy': [val_testing_acc]}\n",
    "\n",
    "results = pd.DataFrame(acc)\n",
    "results.style.set_caption(\"GASF Accuracy Results\")\n",
    "results.to_csv('GASF Accuracy Results.csv', encoding='utf-8', index=False)\n",
    "\n",
    "\n",
    "val = {'Accuracy': [Accuracy],\n",
    "       'Precision': [Precision],\n",
    "       'Sensitivity_recall': [Sensitivity_recall],\n",
    "       'Specificity': [Specificity],\n",
    "       'F1_score': [F1_score]}\n",
    "\n",
    "val_results = pd.DataFrame(val)\n",
    "val_results.style.set_caption(\"GASF Validation Results\")\n",
    "val_results.to_csv('GASF Validation Results.csv', encoding='utf-8', index=False)"
   ]
  },
  {
   "cell_type": "markdown",
   "metadata": {},
   "source": [
    "-------"
   ]
  },
  {
   "cell_type": "markdown",
   "metadata": {},
   "source": [
    "# FFT"
   ]
  },
  {
   "cell_type": "markdown",
   "metadata": {},
   "source": [
    "## Preparing the data"
   ]
  },
  {
   "cell_type": "code",
   "execution_count": 12,
   "metadata": {},
   "outputs": [],
   "source": [
    "# Might consider doing this to prevent crashing\n",
    "torch.cuda.empty_cache() \n",
    "\n",
    "### -------------Load dataset------------- ###\n",
    "\n",
    "# Define the file name\n",
    "filename = 'classify_data.h5'\n",
    "\n",
    "# Open the file\n",
    "with h5py.File(filename, 'r') as file:\n",
    "    # Load the datasets\n",
    "    bbh_train = np.array(file['Training']['bbh'])\n",
    "    bbh_val = np.array(file['Validation']['bbh'])\n",
    "    glitch_train = np.array(file['Training']['glitch'])\n",
    "    glitch_val = np.array(file['Validation']['glitch'])\n",
    "\n",
    "\n",
    "### -------------Label our data as background or signal------------- ###\n",
    "\n",
    "# Allows us to easily apply labels to our data to denote it as signal or background for classification.\n",
    "anomaly_class = {\n",
    "    'Glitch': 0,\n",
    "    'Signal': 1\n",
    "}\n",
    "\n",
    "# ID our data as background or signal.\n",
    "glitch_train_ids = np.full(glitch_train.shape[0], anomaly_class['Glitch'], dtype=int)\n",
    "glitch_val_ids = np.full(glitch_val.shape[0], anomaly_class['Glitch'], dtype=int)\n",
    "\n",
    "bbh_train_ids = np.full(bbh_train.shape[0], anomaly_class['Signal'], dtype=int)\n",
    "bbh_val_ids = np.full(bbh_val.shape[0], anomaly_class['Signal'], dtype=int)\n",
    "\n",
    "\n",
    "\n",
    "### -------------Merge dataset------------- ###\n",
    "\n",
    "# Stick our background and signal data together for training and testing.\n",
    "x_train = np.concatenate((glitch_train, bbh_train), axis=0).transpose((0,2,1))\n",
    "y_train = np.concatenate((glitch_train_ids, bbh_train_ids), axis=0)\n",
    "\n",
    "x_val_data = np.concatenate((glitch_val, bbh_val), axis=0).transpose((0,2,1))\n",
    "y_val = np.concatenate((glitch_val_ids, bbh_val_ids), axis=0)\n",
    "\n",
    "\n",
    "\n",
    "### -------------Shuffle dataset------------- ###\n",
    "\n",
    "# Shuffle the training data using a randomly chosen permutation. This ensures we don't encounter artifacts from background \n",
    "# and signal data being clumped together.\n",
    "idx = np.random.permutation(len(x_train))\n",
    "x_train = x_train[idx]\n",
    "y_train = y_train[idx]"
   ]
  },
  {
   "cell_type": "markdown",
   "metadata": {},
   "source": [
    "#### Whitening and filtering"
   ]
  },
  {
   "cell_type": "code",
   "execution_count": 13,
   "metadata": {},
   "outputs": [],
   "source": [
    "### -------------Split detector dataset------------- ###\n",
    "\n",
    "# Each 2D dataset of gravitational wave data comes from one of two detectors: 1  and 2 \n",
    "# Split the data from these two detectors since we can only pass 2D images into our CNN to train.\n",
    "x_train_dec1_raw = x_train[:,:,0]\n",
    "x_train_dec2_raw = x_train[:,:,1]\n",
    "\n",
    "x_val_dec1_raw = x_val_data[:,:,0]\n",
    "x_val_dec2_raw = x_val_data[:,:,1]\n",
    "\n",
    "\n",
    "\n",
    "\n",
    "# Function to process a single item\n",
    "def process_data(raw_data):\n",
    "\n",
    "\n",
    "    # Bandpass filter for 50hz and 250hz\n",
    "    bp = filter_design.bandpass(50, 250, 4096)\n",
    "\n",
    "    ## First three harmonics of the 60 Hz AC mains power:\n",
    "    notches = [filter_design.notch(line, 4096) for line in (60, 120, 180)]\n",
    "    zpk = filter_design.concatenate_zpks(bp, *notches)\n",
    "\n",
    "\n",
    "\n",
    "    hdata = TimeSeries(raw_data)\n",
    "    hdata = hdata.whiten() \n",
    "    hdata = hdata.crop(*hdata.span.contract(1)) # The whitened timeseries data\n",
    "\n",
    "    hfilt = hdata.filter(zpk, filtfilt=True)\n",
    "    hfilt = hfilt.crop(*hfilt.span.contract(1)) # The filtered and whitened timeseries data\n",
    "\n",
    "    return hdata, hfilt"
   ]
  },
  {
   "cell_type": "code",
   "execution_count": 14,
   "metadata": {},
   "outputs": [
    {
     "name": "stderr",
     "output_type": "stream",
     "text": [
      "100%|██████████| 25598/25598 [14:02<00:00, 30.38it/s]\n",
      "100%|██████████| 25598/25598 [13:45<00:00, 31.00it/s]\n",
      "100%|██████████| 598/598 [00:20<00:00, 28.84it/s]\n",
      "100%|██████████| 598/598 [00:20<00:00, 28.89it/s]\n"
     ]
    }
   ],
   "source": [
    "# Process training data\n",
    "x_train_dec1_data_arr = []\n",
    "x_train_dec1_filt_arr = []\n",
    "x_train_dec2_data_arr = []\n",
    "x_train_dec2_filt_arr = []\n",
    "x_val_dec1_data_arr = []\n",
    "x_val_dec1_filt_arr = []\n",
    "x_val_dec2_data_arr = []\n",
    "x_val_dec2_filt_arr = []\n",
    "\n",
    "\n",
    "for raw_data in tqdm(x_train_dec1_raw):\n",
    "    hdata, hfilt = process_data(raw_data)\n",
    "    x_train_dec1_data_arr.append(hdata)\n",
    "    x_train_dec1_filt_arr.append(hfilt)\n",
    "\n",
    "x_train_dec1_data_arr = np.asarray(x_train_dec1_data_arr)\n",
    "x_train_dec1_filt_arr = np.asarray(x_train_dec1_filt_arr)\n",
    "\n",
    "\n",
    "for raw_data in tqdm(x_train_dec2_raw):\n",
    "    hdata, hfilt = process_data(raw_data)\n",
    "    x_train_dec2_data_arr.append(hdata)\n",
    "    x_train_dec2_filt_arr.append(hfilt)\n",
    "\n",
    "x_train_dec2_data_arr = np.asarray(x_train_dec2_data_arr)\n",
    "x_train_dec2_filt_arr = np.asarray(x_train_dec2_filt_arr)\n",
    "\n",
    "\n",
    "for raw_data in tqdm(x_val_dec1_raw):\n",
    "    hdata, hfilt = process_data(raw_data)\n",
    "    x_val_dec1_data_arr.append(hdata)\n",
    "    x_val_dec1_filt_arr.append(hfilt)\n",
    "\n",
    "x_val_dec1_data_arr = np.asarray(x_val_dec1_data_arr)\n",
    "x_val_dec1_filt_arr = np.asarray(x_val_dec1_filt_arr)\n",
    "\n",
    "\n",
    "for raw_data in tqdm(x_val_dec2_raw):\n",
    "    hdata, hfilt = process_data(raw_data)\n",
    "    x_val_dec2_data_arr.append(hdata)\n",
    "    x_val_dec2_filt_arr.append(hfilt)\n",
    "\n",
    "x_val_dec2_data_arr = np.asarray(x_val_dec2_data_arr)\n",
    "x_val_dec2_filt_arr = np.asarray(x_val_dec2_filt_arr)"
   ]
  },
  {
   "cell_type": "markdown",
   "metadata": {},
   "source": [
    "----"
   ]
  },
  {
   "cell_type": "markdown",
   "metadata": {},
   "source": [
    "##### NOTE: RESTART FFT HERE WITHOUT HAVING TO WHITEN AND FILTER"
   ]
  },
  {
   "cell_type": "code",
   "execution_count": 15,
   "metadata": {},
   "outputs": [],
   "source": [
    "#### START HERE IF YOU NEED TO RESTART WITHOUT HAVING TO WHITEN AND FILTER\n",
    "y_train = np.concatenate((glitch_train_ids, bbh_train_ids), axis=0)\n",
    "y_train = y_train[idx]\n",
    "\n",
    "# # The whitened and filtered data\n",
    "# x_train_dec1 = x_train_dec1_filt_arr\n",
    "# x_train_dec2 = x_train_dec2_filt_arr\n",
    "# x_val_dec1 = x_val_dec1_filt_arr\n",
    "# x_val_dec2 = x_val_dec2_filt_arr\n",
    "\n",
    "# Just the whitened data\n",
    "x_train_dec1 = x_train_dec1_data_arr\n",
    "x_train_dec2 = x_train_dec2_data_arr\n",
    "x_val_dec1 = x_val_dec1_data_arr\n",
    "x_val_dec2 = x_val_dec2_data_arr"
   ]
  },
  {
   "cell_type": "markdown",
   "metadata": {},
   "source": [
    "-----"
   ]
  },
  {
   "cell_type": "markdown",
   "metadata": {},
   "source": [
    "## Converting to FFT"
   ]
  },
  {
   "cell_type": "code",
   "execution_count": null,
   "metadata": {},
   "outputs": [],
   "source": []
  },
  {
   "cell_type": "code",
   "execution_count": 9,
   "metadata": {},
   "outputs": [
    {
     "data": {
      "text/plain": [
       "(25598, 4094)"
      ]
     },
     "execution_count": 9,
     "metadata": {},
     "output_type": "execute_result"
    }
   ],
   "source": [
    "x_train_dec1.shape"
   ]
  },
  {
   "cell_type": "code",
   "execution_count": 17,
   "metadata": {},
   "outputs": [
    {
     "data": {
      "text/plain": [
       "(128, 128)"
      ]
     },
     "execution_count": 17,
     "metadata": {},
     "output_type": "execute_result"
    }
   ],
   "source": [
    "data = (x_train_dec1[14000,:])\n",
    "npseg=255\n",
    "nolap = npseg-30\n",
    "\n",
    "\n",
    "\n",
    "# NOTE: Prepare FFT!!!!!\n",
    "# fft 0.1 s\n",
    "# stride 0.05\n",
    "# print(datas[d].shape)\n",
    "\n",
    "# TimeSeries(\n",
    "#     np.random.normal(0, 1, 4096),\n",
    "#     sample_rate=4096\n",
    "# ).spectrogram(stride=.025).value.shape\n",
    "\n",
    "\n",
    "\n",
    "series = (TimeSeries(data, sample_rate = 4096, unit='s', name='test', t0=0))     #np.array --> constantQ.timeseries   \n",
    "\n",
    "\n",
    "f, t, Sxx = signal.spectrogram(series, fs = 4096, nperseg=npseg, noverlap = nolap) #return_onesided = True) \n",
    "Sxx.shape"
   ]
  },
  {
   "cell_type": "code",
   "execution_count": null,
   "metadata": {},
   "outputs": [],
   "source": []
  },
  {
   "cell_type": "code",
   "execution_count": 16,
   "metadata": {},
   "outputs": [
    {
     "name": "stdout",
     "output_type": "stream",
     "text": [
      "X Training Shape:  (22854, 2, 128, 128)\n",
      "Y Training Shape:  (22854,)\n",
      "X Validation Shape:  (598, 2, 128, 128)\n",
      "Y Validation Shape:  (598,)\n",
      "X Testing Shape:  (2744, 2, 128, 128)\n",
      "Y Testing Shape:  (2744,)\n"
     ]
    }
   ],
   "source": [
    "### -------------Convert to FFT Spectrograms------------- ###\n",
    "\n",
    "data_list = []\n",
    "series_list = []\n",
    "Sxx_list = []\n",
    "f_list = []\n",
    "t_list = []\n",
    "npseg=255\n",
    "nolap = npseg-30\n",
    "\n",
    "# datas = [0 ,1, 2, 3]\n",
    "datas = [x_train_dec1, x_train_dec2, x_val_dec1, x_val_dec2]\n",
    "\n",
    "for d in range(len(datas)):\n",
    "    data_list = []\n",
    "    series_list = []\n",
    "    Sxx_list = []\n",
    "    f_list = []\n",
    "    t_list = []\n",
    "    npseg=255\n",
    "    nolap = npseg-30\n",
    "\n",
    "    for i in range(len(datas[d])):\n",
    "        data = (datas[d][i,:])\n",
    "        data_list.append(data)\n",
    "        # print(datas[d].shape)\n",
    "        series = (TimeSeries(data, sample_rate = 4096, unit='s', name='test', t0=0))     #np.array --> constantQ.timeseries   \n",
    "        series_list.append(series)\n",
    "\n",
    "        f, t, Sxx = signal.spectrogram(series, fs = 4096, nperseg=npseg, noverlap = nolap) #return_onesided = True) \n",
    "        Sxx_list.append(Sxx)\n",
    "        # f_list.append(f)\n",
    "        # t_list.append(t)\n",
    "        # print(d)\n",
    "\n",
    "    if d == 0:\n",
    "        data_arr_x_train_dec1 = np.stack(data_list, axis = 0)\n",
    "        series_arr_x_train_dec1 = np.asarray(series_list)\n",
    "        Sxx_arr_x_train_dec1 = np.stack(Sxx_list, axis = 0)\n",
    "\n",
    "        # f_arr_x_train_dec1 = np.asarray(f_list)\n",
    "        # t_arr_x_train_dec1 = np.asarray(t_list)\n",
    "    elif d == 1:\n",
    "        data_arr_x_train_dec2 = np.stack(data_list, axis = 0)\n",
    "        series_arr_x_train_dec2 = np.asarray(series_list)\n",
    "        Sxx_arr_x_train_dec2 = np.stack(Sxx_list, axis = 0)\n",
    "\n",
    "        # f_arr_x_train_dec2 = np.asarray(f_list)\n",
    "        # t_arr_x_train_dec2 = np.asarray(t_list)\n",
    "    elif d == 2:\n",
    "        data_arr_x_test_dec1 = np.stack(data_list, axis = 0)\n",
    "        series_arr_x_test_dec1 = np.asarray(series_list)\n",
    "        Sxx_arr_x_test_dec1 = np.stack(Sxx_list, axis = 0)\n",
    "\n",
    "        # f_arr_x_test_dec1 = np.asarray(f_list)\n",
    "        # t_arr_x_test_dec1 = np.asarray(t_list)\n",
    "    else:\n",
    "        data_arr_x_test_dec2 = np.stack(data_list, axis = 0)\n",
    "        series_arr_x_test_dec2 = np.asarray(series_list)\n",
    "        Sxx_arr_x_test_dec2 = np.stack(Sxx_list, axis = 0)\n",
    "\n",
    "        # f_arr_x_test_dec2 = np.asarray(f_list)\n",
    "        # t_arr_x_test_dec2 = np.asarray(t_list)\n",
    "\n",
    "\n",
    "\n",
    "\n",
    "img_x_train_dec1 = Sxx_arr_x_train_dec1\n",
    "img_x_train_dec2 = Sxx_arr_x_train_dec2\n",
    "img_x_val_dec1 = Sxx_arr_x_test_dec1\n",
    "img_x_val_dec2 = Sxx_arr_x_test_dec2\n",
    "\n",
    "\n",
    "\n",
    "\n",
    "# Stack Detector 1 and Detector 2 image data together to unify our training and testing datasets before training.\n",
    "x_train = np.stack((img_x_train_dec1, img_x_train_dec2), axis=1)\n",
    "x_val = np.stack((img_x_val_dec1, img_x_val_dec2), axis=1)\n",
    "\n",
    "\n",
    "\n",
    "### -------------Split into training and validation datasets------------- ###\n",
    "\n",
    "# Take the first 17.65% of our training features and targets as validation set\n",
    "x_test= x_train[:round((len(x_train)*0.1072))]\n",
    "y_test = y_train[:round((len(y_train)*0.1072))]\n",
    "\n",
    "# Take the remaining 82.35% of training features and targets as training set\n",
    "x_train = x_train[round((len(x_train)*0.1072)):]\n",
    "y_train = y_train[round((len(y_train)*0.1072)):]\n",
    "\n",
    "# Check the shapes of the training/validation datasets. Turns out we get about a 80%, 13%, 2% split.\n",
    "print(\"X Training Shape: \", x_train.shape)\n",
    "print(\"Y Training Shape: \", y_train.shape)\n",
    "print(\"X Validation Shape: \", x_val.shape)\n",
    "print(\"Y Validation Shape: \", y_val.shape)\n",
    "print(\"X Testing Shape: \", x_test.shape)\n",
    "print(\"Y Testing Shape: \", y_test.shape)"
   ]
  },
  {
   "cell_type": "markdown",
   "metadata": {},
   "source": [
    "## CNN Model"
   ]
  },
  {
   "cell_type": "code",
   "execution_count": 17,
   "metadata": {},
   "outputs": [],
   "source": [
    "### -------------Model Definition------------- ###\n",
    "\n",
    "class CNNModel(torch.nn.Module):\n",
    "    \n",
    "    def __init__(self):\n",
    "        \n",
    "        super(CNNModel, self).__init__()\n",
    "\n",
    "        # First convolution layer (2 channel -> 16 channels, preserve original dimension by adding padding = 2) \n",
    "        self.layer1 = torch.nn.Sequential(\n",
    "            torch.nn.Conv2d(in_channels=2, out_channels=16, kernel_size=4, stride=2, padding=1),\n",
    "            torch.nn.BatchNorm2d(16),\n",
    "            torch.nn.ReLU(),\n",
    "            torch.nn.MaxPool2d(kernel_size=4, stride=2, padding=1)\n",
    "            )\n",
    "        \n",
    "        # Second convolution layer (16 channel -> 32 channels, preserve dimension by adding padding = 2)\n",
    "        self.layer2 = torch.nn.Sequential(\n",
    "            torch.nn.Conv2d(in_channels=16, out_channels=32, kernel_size=4, stride=2, padding=1),\n",
    "            torch.nn.BatchNorm2d(32),\n",
    "            torch.nn.ReLU(),\n",
    "            torch.nn.MaxPool2d(kernel_size=2, stride=2, padding=0)\n",
    "            )\n",
    "\n",
    "        # Fully connected layer that takes the flattened output of layer 2 (32, 7 ,7) -> (1568) and output 2 classes\n",
    "        self.fc1 = torch.nn.Linear(in_features=32*8*8, out_features=128)\n",
    "        self.fc2 = torch.nn.Linear(in_features=128, out_features=64)\n",
    "        self.fc3 = torch.nn.Linear(in_features=64, out_features=2)\n",
    "    \n",
    "    def forward(self, x):\n",
    "\n",
    "        # input image -> conv -> batchnorm -> relu -> maxpool\n",
    "        out = self.layer1(x)\n",
    "        # 1st maxpool output -> conv -> batchnorm -> relu -> maxpool\n",
    "        out = self.layer2(out)\n",
    "        # flatten the second maxpool output to be used as input into FCN layer\n",
    "        out = out.view(out.size(0), -1)\n",
    "\n",
    "        # Pass flattened output into FCN layers\n",
    "        out = self.fc1(out)\n",
    "        out = self.fc2(out)\n",
    "        out = self.fc3(out)\n",
    "        \n",
    "        return out"
   ]
  },
  {
   "cell_type": "markdown",
   "metadata": {},
   "source": [
    "## Hyperparameters"
   ]
  },
  {
   "cell_type": "code",
   "execution_count": 18,
   "metadata": {},
   "outputs": [],
   "source": [
    "### -------------Hyperparameters------------- ###\n",
    "\n",
    "# Initialize the CNN model\n",
    "model = CNNModel()\n",
    "\n",
    "# Define learning rate, epoch and batchsize for mini-batch gradient, and L2 regularization\n",
    "learning_rate = 0.00005      #0.00005\n",
    "epochs = 40                 # 75\n",
    "batchsize = 768\n",
    "L2_reg = 0.00005\n",
    "\n",
    "# Define loss function and optimizer\n",
    "loss_func = torch.nn.CrossEntropyLoss()\n",
    "optimizer = torch.optim.Adam(model.parameters(), lr = learning_rate, weight_decay=L2_reg)\n",
    "\n",
    "if torch.cuda.is_available():                                  # Checks if the GPU is available for processing\n",
    "    model.cuda()                                               # Sends the model to the GPU for processing\n",
    "model        \n",
    "\n",
    "\n",
    "\n",
    "### -------------Identify tracked values------------- ###\n",
    "\n",
    "train_loss_list_spec = []\n",
    "validation_accuracy_list_spec = np.zeros((epochs,))\n",
    "\n",
    "\n",
    "### -------------Training Model------------- ###\n",
    "\n",
    "if torch.cuda.is_available():                   # If using CUDA version of PyTorch, dataset will be processed on GPU\n",
    "\n",
    "    # Convert train/validation/test sets into torch tensors from numpy\n",
    "    train_inputs = torch.from_numpy(x_train).float().cuda()\n",
    "    train_targets = torch.from_numpy(y_train).long().cuda()\n",
    "\n",
    "    validation_inputs = torch.from_numpy(x_val).float().cuda()\n",
    "    validation_targets = torch.from_numpy(y_val).long().cuda()\n",
    "\n",
    "    testing_inputs = torch.from_numpy(x_test).float().cuda()\n",
    "    testing_targets = torch.from_numpy(y_test).long().cuda()\n",
    "\n",
    "    # Split the training inputs/targets into mini-batches\n",
    "    train_batches_features = torch.split(train_inputs, batchsize)\n",
    "    train_batches_targets = torch.split(train_targets, batchsize)\n",
    "\n",
    "else:                                           # If not using CUDA version of PyTorch, dataset will be processed on CPU\n",
    "\n",
    "    # Convert train/validation/test sets into torch tensors from numpy\n",
    "    train_inputs = torch.from_numpy(x_train).float()\n",
    "    train_targets = torch.from_numpy(y_train).long()\n",
    "\n",
    "    validation_inputs = torch.from_numpy(x_val).float()\n",
    "    validation_targets = torch.from_numpy(y_val).long()\n",
    "\n",
    "    testing_inputs = torch.from_numpy(x_test).float()\n",
    "    testing_targets = torch.from_numpy(y_test).long()\n",
    "\n",
    "    # Split the training inputs/targets into mini-batches\n",
    "    train_batches_features = torch.split(train_inputs, batchsize)\n",
    "    train_batches_targets = torch.split(train_targets, batchsize)\n",
    "\n",
    "# length of train_batches_features = total number of mini-batches in the training set\n",
    "batch_split_num = len(train_batches_features)"
   ]
  },
  {
   "cell_type": "markdown",
   "metadata": {},
   "source": [
    "## Training loop"
   ]
  },
  {
   "cell_type": "code",
   "execution_count": 19,
   "metadata": {},
   "outputs": [
    {
     "name": "stderr",
     "output_type": "stream",
     "text": [
      "Epoch 0: 100%|██████████| 30/30 [00:53<00:00,  1.78s/it]0<?, ?it/s]\n"
     ]
    },
    {
     "name": "stdout",
     "output_type": "stream",
     "text": [
      "Epoch: 0 Epoch time: 53.49s Validation Accuracy: 50.0% Training loss: 0.7\n"
     ]
    },
    {
     "name": "stderr",
     "output_type": "stream",
     "text": [
      "Epoch 1: 100%|██████████| 30/30 [00:51<00:00,  1.71s/it]4<35:37, 54.82s/it]\n"
     ]
    },
    {
     "name": "stdout",
     "output_type": "stream",
     "text": [
      "Epoch: 1 Epoch time: 51.35s Validation Accuracy: 50.0% Training loss: 0.69\n"
     ]
    },
    {
     "name": "stderr",
     "output_type": "stream",
     "text": [
      "Epoch 2: 100%|██████████| 30/30 [00:51<00:00,  1.73s/it]7<33:54, 53.53s/it]\n"
     ]
    },
    {
     "name": "stdout",
     "output_type": "stream",
     "text": [
      "Epoch: 2 Epoch time: 51.87s Validation Accuracy: 50.17% Training loss: 0.69\n"
     ]
    },
    {
     "name": "stderr",
     "output_type": "stream",
     "text": [
      "Epoch 3: 100%|██████████| 30/30 [00:52<00:00,  1.77s/it]0<32:54, 53.37s/it]\n"
     ]
    },
    {
     "name": "stdout",
     "output_type": "stream",
     "text": [
      "Epoch: 3 Epoch time: 52.98s Validation Accuracy: 50.17% Training loss: 0.69\n"
     ]
    },
    {
     "name": "stderr",
     "output_type": "stream",
     "text": [
      "Epoch 4: 100%|██████████| 30/30 [00:52<00:00,  1.75s/it]4<32:13, 53.72s/it]\n"
     ]
    },
    {
     "name": "stdout",
     "output_type": "stream",
     "text": [
      "Epoch: 4 Epoch time: 52.43s Validation Accuracy: 50.17% Training loss: 0.68\n"
     ]
    },
    {
     "name": "stderr",
     "output_type": "stream",
     "text": [
      "Epoch 5: 100%|██████████| 30/30 [00:53<00:00,  1.78s/it]8<31:20, 53.71s/it]\n"
     ]
    },
    {
     "name": "stdout",
     "output_type": "stream",
     "text": [
      "Epoch: 5 Epoch time: 53.27s Validation Accuracy: 50.17% Training loss: 0.68\n"
     ]
    },
    {
     "name": "stderr",
     "output_type": "stream",
     "text": [
      "Epoch 6: 100%|██████████| 30/30 [00:53<00:00,  1.78s/it]3<30:35, 54.00s/it]\n"
     ]
    },
    {
     "name": "stdout",
     "output_type": "stream",
     "text": [
      "Epoch: 6 Epoch time: 53.4s Validation Accuracy: 50.17% Training loss: 0.68\n"
     ]
    },
    {
     "name": "stderr",
     "output_type": "stream",
     "text": [
      "Epoch 7: 100%|██████████| 30/30 [00:53<00:00,  1.77s/it]7<29:49, 54.22s/it]\n"
     ]
    },
    {
     "name": "stdout",
     "output_type": "stream",
     "text": [
      "Epoch: 7 Epoch time: 53.1s Validation Accuracy: 50.17% Training loss: 0.68\n"
     ]
    },
    {
     "name": "stderr",
     "output_type": "stream",
     "text": [
      "Epoch 8: 100%|██████████| 30/30 [00:53<00:00,  1.77s/it]2<28:56, 54.27s/it]\n"
     ]
    },
    {
     "name": "stdout",
     "output_type": "stream",
     "text": [
      "Epoch: 8 Epoch time: 53.07s Validation Accuracy: 50.17% Training loss: 0.67\n"
     ]
    },
    {
     "name": "stderr",
     "output_type": "stream",
     "text": [
      "Epoch 9: 100%|██████████| 30/30 [00:53<00:00,  1.77s/it]6<28:03, 54.29s/it]\n"
     ]
    },
    {
     "name": "stdout",
     "output_type": "stream",
     "text": [
      "Epoch: 9 Epoch time: 53.11s Validation Accuracy: 50.17% Training loss: 0.67\n"
     ]
    },
    {
     "name": "stderr",
     "output_type": "stream",
     "text": [
      "Epoch 10: 100%|██████████| 30/30 [00:53<00:00,  1.78s/it]0<27:09, 54.32s/it]\n"
     ]
    },
    {
     "name": "stdout",
     "output_type": "stream",
     "text": [
      "Epoch: 10 Epoch time: 53.3s Validation Accuracy: 50.17% Training loss: 0.66\n"
     ]
    },
    {
     "name": "stderr",
     "output_type": "stream",
     "text": [
      "Epoch 11: 100%|██████████| 30/30 [00:53<00:00,  1.77s/it]5<26:17, 54.40s/it]\n"
     ]
    },
    {
     "name": "stdout",
     "output_type": "stream",
     "text": [
      "Epoch: 11 Epoch time: 53.23s Validation Accuracy: 50.17% Training loss: 0.66\n"
     ]
    },
    {
     "name": "stderr",
     "output_type": "stream",
     "text": [
      "Epoch 12: 100%|██████████| 30/30 [00:53<00:00,  1.77s/it]9<25:24, 54.43s/it]\n"
     ]
    },
    {
     "name": "stdout",
     "output_type": "stream",
     "text": [
      "Epoch: 12 Epoch time: 53.11s Validation Accuracy: 50.17% Training loss: 0.66\n"
     ]
    },
    {
     "name": "stderr",
     "output_type": "stream",
     "text": [
      "Epoch 13: 100%|██████████| 30/30 [00:53<00:00,  1.78s/it]4<24:29, 54.42s/it]\n"
     ]
    },
    {
     "name": "stdout",
     "output_type": "stream",
     "text": [
      "Epoch: 13 Epoch time: 53.55s Validation Accuracy: 50.17% Training loss: 0.65\n"
     ]
    },
    {
     "name": "stderr",
     "output_type": "stream",
     "text": [
      "Epoch 14: 100%|██████████| 30/30 [00:53<00:00,  1.77s/it]9<23:37, 54.54s/it]\n"
     ]
    },
    {
     "name": "stdout",
     "output_type": "stream",
     "text": [
      "Epoch: 14 Epoch time: 53.06s Validation Accuracy: 50.33% Training loss: 0.64\n"
     ]
    },
    {
     "name": "stderr",
     "output_type": "stream",
     "text": [
      "Epoch 15: 100%|██████████| 30/30 [00:53<00:00,  1.77s/it]3<22:41, 54.48s/it]\n"
     ]
    },
    {
     "name": "stdout",
     "output_type": "stream",
     "text": [
      "Epoch: 15 Epoch time: 53.16s Validation Accuracy: 50.33% Training loss: 0.64\n"
     ]
    },
    {
     "name": "stderr",
     "output_type": "stream",
     "text": [
      "Epoch 16: 100%|██████████| 30/30 [00:53<00:00,  1.78s/it]7<21:47, 54.47s/it]\n"
     ]
    },
    {
     "name": "stdout",
     "output_type": "stream",
     "text": [
      "Epoch: 16 Epoch time: 53.37s Validation Accuracy: 50.33% Training loss: 0.65\n"
     ]
    },
    {
     "name": "stderr",
     "output_type": "stream",
     "text": [
      "Epoch 17: 100%|██████████| 30/30 [00:53<00:00,  1.77s/it]2<20:53, 54.52s/it]\n"
     ]
    },
    {
     "name": "stdout",
     "output_type": "stream",
     "text": [
      "Epoch: 17 Epoch time: 53.14s Validation Accuracy: 50.33% Training loss: 0.64\n"
     ]
    },
    {
     "name": "stderr",
     "output_type": "stream",
     "text": [
      "Epoch 18: 100%|██████████| 30/30 [00:53<00:00,  1.77s/it]7<19:58, 54.49s/it]\n"
     ]
    },
    {
     "name": "stdout",
     "output_type": "stream",
     "text": [
      "Epoch: 18 Epoch time: 53.09s Validation Accuracy: 50.5% Training loss: 0.62\n"
     ]
    },
    {
     "name": "stderr",
     "output_type": "stream",
     "text": [
      "Epoch 19: 100%|██████████| 30/30 [00:53<00:00,  1.78s/it]1<19:03, 54.45s/it]\n"
     ]
    },
    {
     "name": "stdout",
     "output_type": "stream",
     "text": [
      "Epoch: 19 Epoch time: 53.3s Validation Accuracy: 50.5% Training loss: 0.61\n"
     ]
    },
    {
     "name": "stderr",
     "output_type": "stream",
     "text": [
      "Epoch 20: 100%|██████████| 30/30 [00:53<00:00,  1.78s/it]5<18:09, 54.49s/it]\n"
     ]
    },
    {
     "name": "stdout",
     "output_type": "stream",
     "text": [
      "Epoch: 20 Epoch time: 53.27s Validation Accuracy: 50.5% Training loss: 0.61\n"
     ]
    },
    {
     "name": "stderr",
     "output_type": "stream",
     "text": [
      "Epoch 21: 100%|██████████| 30/30 [00:53<00:00,  1.77s/it]0<17:15, 54.51s/it]\n"
     ]
    },
    {
     "name": "stdout",
     "output_type": "stream",
     "text": [
      "Epoch: 21 Epoch time: 53.23s Validation Accuracy: 50.5% Training loss: 0.6\n"
     ]
    },
    {
     "name": "stderr",
     "output_type": "stream",
     "text": [
      "Epoch 22: 100%|██████████| 30/30 [00:53<00:00,  1.77s/it]5<16:21, 54.51s/it]\n"
     ]
    },
    {
     "name": "stdout",
     "output_type": "stream",
     "text": [
      "Epoch: 22 Epoch time: 53.1s Validation Accuracy: 50.5% Training loss: 0.59\n"
     ]
    },
    {
     "name": "stderr",
     "output_type": "stream",
     "text": [
      "Epoch 23: 100%|██████████| 30/30 [00:56<00:00,  1.87s/it]9<15:25, 54.47s/it]\n"
     ]
    },
    {
     "name": "stdout",
     "output_type": "stream",
     "text": [
      "Epoch: 23 Epoch time: 56.11s Validation Accuracy: 50.5% Training loss: 0.58\n"
     ]
    },
    {
     "name": "stderr",
     "output_type": "stream",
     "text": [
      "Epoch 24: 100%|██████████| 30/30 [00:51<00:00,  1.70s/it]6<14:45, 55.32s/it]\n"
     ]
    },
    {
     "name": "stdout",
     "output_type": "stream",
     "text": [
      "Epoch: 24 Epoch time: 51.11s Validation Accuracy: 50.5% Training loss: 0.57\n"
     ]
    },
    {
     "name": "stderr",
     "output_type": "stream",
     "text": [
      "Epoch 25: 100%|██████████| 30/30 [00:49<00:00,  1.63s/it]9<13:36, 54.43s/it]\n"
     ]
    },
    {
     "name": "stdout",
     "output_type": "stream",
     "text": [
      "Epoch: 25 Epoch time: 49.04s Validation Accuracy: 50.5% Training loss: 0.56\n"
     ]
    },
    {
     "name": "stderr",
     "output_type": "stream",
     "text": [
      "Epoch 26: 100%|██████████| 30/30 [00:48<00:00,  1.61s/it]9<12:24, 53.15s/it]\n"
     ]
    },
    {
     "name": "stdout",
     "output_type": "stream",
     "text": [
      "Epoch: 26 Epoch time: 48.22s Validation Accuracy: 50.5% Training loss: 0.54\n"
     ]
    },
    {
     "name": "stderr",
     "output_type": "stream",
     "text": [
      "Epoch 27: 100%|██████████| 30/30 [00:48<00:00,  1.62s/it]8<11:16, 52.01s/it]\n"
     ]
    },
    {
     "name": "stdout",
     "output_type": "stream",
     "text": [
      "Epoch: 27 Epoch time: 48.65s Validation Accuracy: 50.5% Training loss: 0.53\n"
     ]
    },
    {
     "name": "stderr",
     "output_type": "stream",
     "text": [
      "Epoch 28: 100%|██████████| 30/30 [00:48<00:00,  1.61s/it]8<10:16, 51.34s/it]\n"
     ]
    },
    {
     "name": "stdout",
     "output_type": "stream",
     "text": [
      "Epoch: 28 Epoch time: 48.21s Validation Accuracy: 50.67% Training loss: 0.53\n"
     ]
    },
    {
     "name": "stderr",
     "output_type": "stream",
     "text": [
      "Epoch 29: 100%|██████████| 30/30 [00:50<00:00,  1.68s/it]7<09:18, 50.75s/it]\n"
     ]
    },
    {
     "name": "stdout",
     "output_type": "stream",
     "text": [
      "Epoch: 29 Epoch time: 50.4s Validation Accuracy: 50.5% Training loss: 0.52\n"
     ]
    },
    {
     "name": "stderr",
     "output_type": "stream",
     "text": [
      "Epoch 30: 100%|██████████| 30/30 [00:47<00:00,  1.58s/it]9<08:29, 50.98s/it]\n"
     ]
    },
    {
     "name": "stdout",
     "output_type": "stream",
     "text": [
      "Epoch: 30 Epoch time: 47.37s Validation Accuracy: 50.67% Training loss: 0.53\n"
     ]
    },
    {
     "name": "stderr",
     "output_type": "stream",
     "text": [
      "Epoch 31: 100%|██████████| 30/30 [00:47<00:00,  1.58s/it]7<07:32, 50.24s/it]\n"
     ]
    },
    {
     "name": "stdout",
     "output_type": "stream",
     "text": [
      "Epoch: 31 Epoch time: 47.5s Validation Accuracy: 50.84% Training loss: 0.52\n"
     ]
    },
    {
     "name": "stderr",
     "output_type": "stream",
     "text": [
      "Epoch 32: 100%|██████████| 30/30 [00:48<00:00,  1.60s/it]6<06:38, 49.75s/it]\n"
     ]
    },
    {
     "name": "stdout",
     "output_type": "stream",
     "text": [
      "Epoch: 32 Epoch time: 48.15s Validation Accuracy: 50.67% Training loss: 0.51\n"
     ]
    },
    {
     "name": "stderr",
     "output_type": "stream",
     "text": [
      "Epoch 33: 100%|██████████| 30/30 [00:46<00:00,  1.54s/it]5<05:47, 49.58s/it]\n"
     ]
    },
    {
     "name": "stdout",
     "output_type": "stream",
     "text": [
      "Epoch: 33 Epoch time: 46.15s Validation Accuracy: 50.84% Training loss: 0.5\n"
     ]
    },
    {
     "name": "stderr",
     "output_type": "stream",
     "text": [
      "Epoch 34: 100%|██████████| 30/30 [00:47<00:00,  1.58s/it]2<04:53, 48.86s/it]\n"
     ]
    },
    {
     "name": "stdout",
     "output_type": "stream",
     "text": [
      "Epoch: 34 Epoch time: 47.37s Validation Accuracy: 51.17% Training loss: 0.49\n"
     ]
    },
    {
     "name": "stderr",
     "output_type": "stream",
     "text": [
      "Epoch 35: 100%|██████████| 30/30 [00:44<00:00,  1.48s/it]1<04:03, 48.71s/it]\n"
     ]
    },
    {
     "name": "stdout",
     "output_type": "stream",
     "text": [
      "Epoch: 35 Epoch time: 44.46s Validation Accuracy: 51.0% Training loss: 0.47\n"
     ]
    },
    {
     "name": "stderr",
     "output_type": "stream",
     "text": [
      "Epoch 36: 100%|██████████| 30/30 [00:44<00:00,  1.48s/it]6<03:10, 47.74s/it]\n"
     ]
    },
    {
     "name": "stdout",
     "output_type": "stream",
     "text": [
      "Epoch: 36 Epoch time: 44.52s Validation Accuracy: 51.0% Training loss: 0.45\n"
     ]
    },
    {
     "name": "stderr",
     "output_type": "stream",
     "text": [
      "Epoch 37: 100%|██████████| 30/30 [00:44<00:00,  1.49s/it]2<02:21, 47.07s/it]\n"
     ]
    },
    {
     "name": "stdout",
     "output_type": "stream",
     "text": [
      "Epoch: 37 Epoch time: 44.67s Validation Accuracy: 51.17% Training loss: 0.45\n"
     ]
    },
    {
     "name": "stderr",
     "output_type": "stream",
     "text": [
      "Epoch 38: 100%|██████████| 30/30 [00:44<00:00,  1.49s/it]7<01:33, 46.68s/it]\n"
     ]
    },
    {
     "name": "stdout",
     "output_type": "stream",
     "text": [
      "Epoch: 38 Epoch time: 44.82s Validation Accuracy: 50.84% Training loss: 0.46\n"
     ]
    },
    {
     "name": "stderr",
     "output_type": "stream",
     "text": [
      "Epoch 39: 100%|██████████| 30/30 [00:44<00:00,  1.48s/it]3<00:46, 46.42s/it]\n"
     ]
    },
    {
     "name": "stdout",
     "output_type": "stream",
     "text": [
      "Epoch: 39 Epoch time: 44.46s Validation Accuracy: 51.34% Training loss: 0.45\n"
     ]
    },
    {
     "name": "stderr",
     "output_type": "stream",
     "text": [
      "Training Model on 40 Epochs: 100%|██████████| 40/40 [34:39<00:00, 51.98s/it]\n"
     ]
    }
   ],
   "source": [
    "### -------------Training Loop------------- ###\n",
    "## NOTE: CHANGE DESC TO INCLUDE CHANGING EPOCHS\n",
    "\n",
    "for epoch in trange(epochs, desc='Training Model on 40 Epochs'):\n",
    "    start_time = timer() # start timer\n",
    "    # Each mini-batch number i, grab i-th training feature and target mini-batch and perform fwd/bwd pass on the network\n",
    "    \n",
    "    for i in trange(batch_split_num, desc=f'Epoch {epoch}'):\n",
    "    \n",
    "        optimizer.zero_grad()    \n",
    "        train_batch_outputs = model(train_batches_features[i])  \n",
    "        loss = loss_func(train_batch_outputs, train_batches_targets[i])\n",
    "        train_loss_list_spec.append(loss.item())       \n",
    "        loss.backward()\n",
    "        optimizer.step()\n",
    "\n",
    "    end_time = timer() # End timer\n",
    "\n",
    "    ### -------------Compute Validation Accuracy------------- ###\n",
    "\n",
    "    with torch.no_grad():\n",
    "\n",
    "        validation_outputs = model(validation_inputs)\n",
    "        val_correct = (torch.argmax(validation_outputs, dim=1) == validation_targets).type(torch.FloatTensor)\n",
    "        validation_accuracy_list_spec[epoch] = val_correct.mean()  \n",
    "                      \n",
    "        print(\"Epoch: \"+ str(epoch),\n",
    "              \"Epoch time: \" + str(np.round(end_time - start_time, 2)) + \"s\",\n",
    "              \"Validation Accuracy: \" + str(np.round(val_correct.mean().numpy() * 100, 2)) + '%',\n",
    "              \"Training loss: \" + str(np.round(loss.item(), 2)), flush=True)"
   ]
  },
  {
   "cell_type": "markdown",
   "metadata": {},
   "source": [
    "## Visualize & Evaluate Model"
   ]
  },
  {
   "cell_type": "code",
   "execution_count": 20,
   "metadata": {},
   "outputs": [
    {
     "data": {
      "image/png": "[encoded data removed]",
      "text/plain": [
       "<Figure size 1200x1000 with 2 Axes>"
      ]
     },
     "metadata": {},
     "output_type": "display_data"
    },
    {
     "data": {
      "image/png": "[encoded data removed]",
      "text/plain": [
       "<Figure size 640x480 with 2 Axes>"
      ]
     },
     "metadata": {},
     "output_type": "display_data"
    }
   ],
   "source": [
    "### -------------Plot the training loss and validation accuracy------------- ###\n",
    "\n",
    "sns.set(style = 'whitegrid', font_scale = 1)\n",
    "plt.figure(figsize = (12,10))\n",
    "plt.rcParams[\"font.family\"] = \"serif\"\n",
    "plt.rcParams[\"font.sans-serif\"] = \"Open Sans\"\n",
    "\n",
    "plt.subplot(2, 1, 1)\n",
    "plt.plot(train_loss_list_spec, linewidth = 3, color=\"#4b2e83\")\n",
    "plt.ylabel(\"Training loss\")\n",
    "plt.xlabel(\"Iterations\")\n",
    "\n",
    "\n",
    "plt.subplot(2, 1, 2)\n",
    "plt.plot(validation_accuracy_list_spec, linewidth = 3, color = \"#85754d\")\n",
    "plt.ylabel(\"Validation Accuracy\")\n",
    "plt.xlabel(\"Epochs\")\n",
    "plt.suptitle(\"FFT TRAINING LOSS AND VALIDATION ACCURACY\")\n",
    "sns.despine()\n",
    "\n",
    "plt.savefig(\"FFT_TrainLoss_ValAcc.png\")\n",
    "\n",
    "\n",
    "# torch.cuda.empty_cache()\n",
    "\n",
    "### -------------Computing the Training accuracy------------- ###\n",
    "\n",
    "with torch.no_grad():\n",
    "\n",
    "    target_pred_test = model(train_inputs)\n",
    "    train_correct = (torch.argmax(target_pred_test, dim=1) == train_targets).type(torch.FloatTensor)\n",
    "    train_testing_acc = (train_correct.mean().numpy()*100)\n",
    "\n",
    "### -------------Computing the testing accuracy------------- ###\n",
    "\n",
    "with torch.no_grad():\n",
    "\n",
    "    target_pred_test = model(testing_inputs)\n",
    "    test_correct = (torch.argmax(target_pred_test, dim=1) == testing_targets).type(torch.FloatTensor)\n",
    "    test_testing_acc = (test_correct.mean().numpy()*100) \n",
    "\n",
    "### -------------Computing the validation accuracy------------- ###\n",
    "\n",
    "with torch.no_grad():\n",
    "\n",
    "    target_pred_test = model(validation_inputs)\n",
    "    val_correct = (torch.argmax(target_pred_test, dim=1) == validation_targets).type(torch.FloatTensor)\n",
    "    val_testing_acc = (val_correct.mean().numpy()*100)\n",
    "\n",
    "\n",
    "### -------------Confusion Matrix------------- ###\n",
    "\n",
    "actual = validation_targets.cpu().numpy()\n",
    "predicted = (torch.argmax(model(validation_inputs), dim=1)).cpu().numpy()\n",
    "\n",
    "cm = confusion_matrix(actual, predicted)\n",
    "\n",
    "cm_display = metrics.ConfusionMatrixDisplay(cm, \n",
    "                                            display_labels = ('Background', 'Signal'))\n",
    "cm_display.plot(cmap=plt.cm.Blues, values_format = '')\n",
    "plt.title('FFT Confusion Matrix for validation targets')\n",
    "plt.grid(False)\n",
    "plt.savefig(\"FFT_ConfMatrix.png\")\n",
    "plt.show()\n",
    "\n",
    "\n",
    "Accuracy = metrics.accuracy_score(actual, predicted)*100\n",
    "Precision = metrics.precision_score(actual, predicted)*100\n",
    "Sensitivity_recall = metrics.recall_score(actual, predicted)*100\n",
    "Specificity = metrics.recall_score(actual, predicted, pos_label=0)*100\n",
    "F1_score = metrics.f1_score(actual, predicted)*100\n",
    "\n",
    "\n",
    "acc = {'Training Accuracy': [train_testing_acc],\n",
    "           'Testing Accuracy': [test_testing_acc],\n",
    "           'Validation Accuracy': [val_testing_acc]}\n",
    "\n",
    "results = pd.DataFrame(acc)\n",
    "results.style.set_caption(\"FFT Accuracy Results\")\n",
    "results.to_csv('FFT Accuracy Results.csv', encoding='utf-8', index=False)\n",
    "\n",
    "\n",
    "val = {'Accuracy': [Accuracy],\n",
    "       'Precision': [Precision],\n",
    "       'Sensitivity_recall': [Sensitivity_recall],\n",
    "       'Specificity': [Specificity],\n",
    "       'F1_score': [F1_score]}\n",
    "\n",
    "val_results = pd.DataFrame(val)\n",
    "val_results.style.set_caption(\"FFT Validation Results\")\n",
    "val_results.to_csv('FFT Validation Results.csv', encoding='utf-8', index=False)"
   ]
  },
  {
   "cell_type": "markdown",
   "metadata": {},
   "source": [
    "-----"
   ]
  }
 ],
 "metadata": {
  "kernelspec": {
   "display_name": "newenv",
   "language": "python",
   "name": "python3"
  },
  "language_info": {
   "codemirror_mode": {
    "name": "ipython",
    "version": 3
   },
   "file_extension": ".py",
   "mimetype": "text/x-python",
   "name": "python",
   "nbconvert_exporter": "python",
   "pygments_lexer": "ipython3",
   "version": "3.9.16"
  },
  "orig_nbformat": 4
 },
 "nbformat": 4,
 "nbformat_minor": 2
}
