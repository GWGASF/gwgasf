{
 "cells": [
  {
   "attachments": {},
   "cell_type": "markdown",
   "metadata": {},
   "source": [
    "# <center> <font color = 'red'> **LAB 9**"
   ]
  },
  {
   "attachments": {},
   "cell_type": "markdown",
   "metadata": {},
   "source": [
    "## Lab 9 Report:\n",
    "\n",
    "### FINAL PROJECT "
   ]
  },
  {
   "attachments": {},
   "cell_type": "markdown",
   "metadata": {},
   "source": [
    "##### Team Members: Daniel Fredin & Cole Welsh\n",
    "\n",
    "##### Dataset for your project: Glitch"
   ]
  },
  {
   "cell_type": "code",
   "execution_count": 1,
   "metadata": {},
   "outputs": [],
   "source": [
    "%matplotlib inline\n",
    "\n",
    "import numpy as np\n",
    "import h5py \n",
    "import math\n",
    "import matplotlib.pyplot as plt\n",
    "import pandas as pd \n",
    "import seaborn as sns\n",
    "from typing import Iterable, List\n",
    "from timeit import default_timer as timer\n",
    "\n",
    "import torch\n",
    "import torch.nn as nn\n",
    "from torch.nn import Transformer\n",
    "from torch import Tensor\n",
    "\n",
    "from torchtext.data.utils import get_tokenizer\n",
    "from torchtext.vocab import build_vocab_from_iterator\n",
    "from torch.utils.data import DataLoader\n",
    "from torch.nn.utils.rnn import pad_sequence\n"
   ]
  },
  {
   "cell_type": "code",
   "execution_count": 2,
   "metadata": {},
   "outputs": [],
   "source": [
    "# Define the file name\n",
    "filename = 'GW3_Transformer.h5'\n",
    "\n",
    "# Open the file\n",
    "with h5py.File(filename, 'r') as file:\n",
    "    # Load the datasets\n",
    "    bkg_train = np.array(file['bkg_train'])\n",
    "    bkg_test = np.array(file['bkg_test'])\n",
    "    signal_train = np.array(file['signal_train'])\n",
    "    signal_test = np.array(file['signal_test'])"
   ]
  },
  {
   "cell_type": "code",
   "execution_count": 3,
   "metadata": {},
   "outputs": [],
   "source": [
    "anomaly_class = {\n",
    "    'bkg': 0,\n",
    "    'signal': 1\n",
    "}\n",
    "\n",
    "bkg_train_ids = np.full(bkg_train.shape[0], anomaly_class['bkg'], dtype=int)\n",
    "bkg_test_ids = np.full(bkg_test.shape[0], anomaly_class['bkg'], dtype=int)\n",
    "\n",
    "signal_train_ids = np.full(signal_train.shape[0], anomaly_class['signal'], dtype=int)\n",
    "signal_test_ids = np.full(signal_test.shape[0], anomaly_class['signal'], dtype=int)"
   ]
  },
  {
   "cell_type": "code",
   "execution_count": 4,
   "metadata": {},
   "outputs": [],
   "source": [
    "x_train = np.concatenate((bkg_train, signal_train), axis=0).transpose((0,2,1))\n",
    "y_train = np.concatenate((bkg_train_ids, signal_train_ids), axis=0)\n",
    "\n",
    "x_test = np.concatenate((bkg_test, signal_test), axis=0).transpose((0,2,1))\n",
    "y_test = np.concatenate((bkg_test_ids, signal_test_ids), axis=0)"
   ]
  },
  {
   "cell_type": "code",
   "execution_count": 5,
   "metadata": {},
   "outputs": [],
   "source": [
    "idx = np.random.permutation(len(x_train))\n",
    "x_train = x_train[idx]\n",
    "y_train = y_train[idx]"
   ]
  },
  {
   "cell_type": "code",
   "execution_count": null,
   "metadata": {},
   "outputs": [],
   "source": []
  }
 ],
 "metadata": {
  "kernelspec": {
   "display_name": "newenv",
   "language": "python",
   "name": "python3"
  },
  "language_info": {
   "codemirror_mode": {
    "name": "ipython",
    "version": 3
   },
   "file_extension": ".py",
   "mimetype": "text/x-python",
   "name": "python",
   "nbconvert_exporter": "python",
   "pygments_lexer": "ipython3",
   "version": "3.9.16"
  },
  "orig_nbformat": 4
 },
 "nbformat": 4,
 "nbformat_minor": 2
}
