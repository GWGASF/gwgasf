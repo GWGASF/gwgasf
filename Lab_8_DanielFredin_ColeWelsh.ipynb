{
 "cells": [
  {
   "attachments": {},
   "cell_type": "markdown",
   "id": "c76bd7e6",
   "metadata": {},
   "source": [
    "# Lab 8 Report: \n",
    "## FINAL PROJECT STRATEGIC PLANNING"
   ]
  },
  {
   "attachments": {},
   "cell_type": "markdown",
   "id": "3f5ed902",
   "metadata": {},
   "source": [
    "### Lab 8 Instruction: \n",
    "https://canvas.uw.edu/files/106242897/download?download_frd=1"
   ]
  },
  {
   "attachments": {},
   "cell_type": "markdown",
   "id": "0098c149",
   "metadata": {},
   "source": [
    "### Team Members: Daniel Fredin & Cole Welsh"
   ]
  },
  {
   "attachments": {},
   "cell_type": "markdown",
   "id": "36869478",
   "metadata": {},
   "source": [
    "### Dataset for your project: Gravitational Waves - Glitch"
   ]
  },
  {
   "attachments": {},
   "cell_type": "markdown",
   "id": "7b08ff02",
   "metadata": {},
   "source": [
    "#### Feel free to delete or modify pre-written markdown cells below the line"
   ]
  },
  {
   "attachments": {},
   "cell_type": "markdown",
   "id": "3fe993be",
   "metadata": {},
   "source": [
    "---"
   ]
  },
  {
   "attachments": {},
   "cell_type": "markdown",
   "id": "596ea344",
   "metadata": {},
   "source": [
    "## Understanding the Data"
   ]
  },
  {
   "attachments": {},
   "cell_type": "markdown",
   "id": "9cedb9de",
   "metadata": {},
   "source": [
    "a. Data size and structure:\n",
    "* How big is the data? How is it structured? Are there any\n",
    "obvious patterns? If so, are they expected? Any unused features? Etc. "
   ]
  },
  {
   "attachments": {},
   "cell_type": "markdown",
   "id": "da2408f0",
   "metadata": {},
   "source": [
    "**The data is structured with 4 dataframes: background training, background testing, signal training, and signal testing. The overall data size is 124137 rows of training data and 21908 rows of testing data.**"
   ]
  },
  {
   "attachments": {},
   "cell_type": "markdown",
   "id": "5a93c3d6",
   "metadata": {},
   "source": [
    "b. Data cleanness:\n",
    "* Is some of the data corrupted? Is some data mislabeled? If it's\n",
    "simulated, does the simulator have any limitations  "
   ]
  },
  {
   "attachments": {},
   "cell_type": "markdown",
   "id": "6f6decaf",
   "metadata": {},
   "source": [
    "**The data does not appear to be corrupted or mislabeled and it is not simulated.**"
   ]
  },
  {
   "attachments": {},
   "cell_type": "markdown",
   "id": "a9f0ff1a",
   "metadata": {},
   "source": [
    "c. Diversity of features:\n",
    "* How many features (e.g., # of pixels, # of columns) are\n",
    "there per data sample? Does your dataset have approximately equal number of\n",
    "datapoints per label?"
   ]
  },
  {
   "attachments": {},
   "cell_type": "markdown",
   "id": "fc211cab",
   "metadata": {},
   "source": [
    "**The following are the sizes of the data's dataframes:**  \n",
    "**Size of background training: (57198, 2, 100)**  \n",
    "**Size of background testing: (10094, 2, 100)**  \n",
    "**Size of signal training: (66939, 2, 100)**  \n",
    "**Size of signal testing: (11814, 2, 100)**  \n",
    "**It appears that there are approximately equal number of datapoints per dataframe.**  "
   ]
  },
  {
   "attachments": {},
   "cell_type": "markdown",
   "id": "526dd6ab",
   "metadata": {},
   "source": [
    "## Understanding the Task"
   ]
  },
  {
   "attachments": {},
   "cell_type": "markdown",
   "metadata": {},
   "source": [
    "a. What problem are you trying to solve with your neural network model? (e.g.,\n",
    "classification or regression?)  \n",
    "b. What is the significance of solving the problem?  \n",
    "c. What will be the evaluation metric for your neural network model?  \n",
    "d. What would constitute a good performance?  \n",
    "e. Is there a baseline method to compare against after meeting the performance?  \n",
    "(e.g., classical machine learning method, other neural network models)"
   ]
  },
  {
   "attachments": {},
   "cell_type": "markdown",
   "id": "6a639da8",
   "metadata": {},
   "source": [
    "\n",
    "**a. We are trying to solve a binary classification problem by distinguishing between noise/background and gravitational wave signals.**   \n",
    "**b. The significance of solving this problems will allow the astronomers the ability to correctly identify whether an input signal is noise and can be rejected or if the input signal is indeed a gravitational wave.**  \n",
    "**c. We will compare the classification accuracy of whether our model can distinguish signals over noise.**  \n",
    "**d. We constitute a good performace of an accuracy of greater than 85%.**  \n",
    "**e. The baseline method we plan to compare our model on is the use of different networks from a variety of sources. Such sources are:**  \n",
    "**Classification of Gravitational waves: https://inspirehep.net/literature/2101841**  \n",
    "**RNN classification: https://aizardar.github.io/blogs/pytorch/classification/rnn/2021/01/07/seq-classification.html**  \n",
    "**LSTM classification: https://machinelearningmastery.com/sequence-classification-lstm-recurrent-neural-networks-python-keras/**\n"
   ]
  },
  {
   "attachments": {},
   "cell_type": "markdown",
   "id": "f275694a",
   "metadata": {},
   "source": [
    "## Developing an initial plan for your project"
   ]
  },
  {
   "attachments": {},
   "cell_type": "markdown",
   "id": "ee1cd3bf",
   "metadata": {},
   "source": [
    "a. What will be the inputs and outputs (including their dimensions) of your neural\n",
    "network model? • What data preparation methods do you plan to use?  \n",
    "b. What neural network model do you plan to use? (FCN, CNN, RNN, etc)  \n",
    "c. What loss function do you plan to use?  \n",
    "d. How do you plan to evaluate your model?  "
   ]
  },
  {
   "attachments": {},
   "cell_type": "markdown",
   "id": "1ee05954",
   "metadata": {},
   "source": [
    "**a. The input will be a sequence of data and the output will be a single integer chosen between either 0 or 1.**   \n",
    "**b. We plan to use an LSTM-based RNN.**  \n",
    "**c. We'll start off with MSE loss.**  \n",
    "**d. We will evaluate our test accuracy on the x_test and y_test data.** "
   ]
  }
 ],
 "metadata": {
  "kernelspec": {
   "display_name": "Python 3 (ipykernel)",
   "language": "python",
   "name": "python3"
  },
  "language_info": {
   "codemirror_mode": {
    "name": "ipython",
    "version": 3
   },
   "file_extension": ".py",
   "mimetype": "text/x-python",
   "name": "python",
   "nbconvert_exporter": "python",
   "pygments_lexer": "ipython3",
   "version": "3.10.7"
  }
 },
 "nbformat": 4,
 "nbformat_minor": 5
}
