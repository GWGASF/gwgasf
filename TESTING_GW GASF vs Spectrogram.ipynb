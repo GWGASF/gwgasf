{
 "cells": [
  {
   "attachments": {},
   "cell_type": "markdown",
   "metadata": {},
   "source": [
    "# Lab 9 Report: \n",
    "## Final Project Codebase"
   ]
  },
  {
   "attachments": {},
   "cell_type": "markdown",
   "metadata": {},
   "source": [
    "## Project Title: Unraveling Gravitational Ripples: Neural Network Classification"
   ]
  },
  {
   "attachments": {},
   "cell_type": "markdown",
   "metadata": {},
   "source": [
    "### Group Members: Daniel Fredin & Cole Welch"
   ]
  },
  {
   "attachments": {},
   "cell_type": "markdown",
   "metadata": {},
   "source": [
    "--------------------"
   ]
  },
  {
   "cell_type": "code",
   "execution_count": 1,
   "metadata": {},
   "outputs": [],
   "source": [
    "# %matplotlib inline\n",
    "\n",
    "import numpy as np\n",
    "import h5py \n",
    "import matplotlib.pyplot as plt\n",
    "import seaborn as sns\n",
    "import torch\n",
    "from sklearn.preprocessing import StandardScaler, MinMaxScaler\n",
    "\n",
    "from pyts.image import GramianAngularField\n",
    "from pyts.image import MarkovTransitionField\n",
    "\n",
    "from scipy import signal\n",
    "from scipy.fft import fftshift\n",
    "\n",
    "# Initializes numpy and pytorch random seeds for reproducibility \n",
    "seed = 55\n",
    "np.random.seed(seed)\n",
    "torch.manual_seed(seed)\n",
    "torch.cuda.manual_seed(seed)"
   ]
  },
  {
   "attachments": {},
   "cell_type": "markdown",
   "metadata": {},
   "source": [
    "## Prepare Data"
   ]
  },
  {
   "attachments": {},
   "cell_type": "markdown",
   "metadata": {},
   "source": [
    "#### Retreive Dataset"
   ]
  },
  {
   "cell_type": "code",
   "execution_count": 2,
   "metadata": {},
   "outputs": [],
   "source": [
    "### -------------Load dataset------------- ###\n",
    "\n",
    "# Define the file name\n",
    "filename = 'GW3_Transformer.h5'\n",
    "\n",
    "# Open the file\n",
    "with h5py.File(filename, 'r') as file:\n",
    "    # Load the datasets\n",
    "    bkg_train = np.array(file['bkg_train'])\n",
    "    bkg_test = np.array(file['bkg_test'])\n",
    "    signal_train = np.array(file['signal_train'])\n",
    "    signal_test = np.array(file['signal_test'])"
   ]
  },
  {
   "cell_type": "code",
   "execution_count": 3,
   "metadata": {},
   "outputs": [],
   "source": [
    "### -------------Label our data as background or signal------------- ###\n",
    "\n",
    "# Allows us to easily apply labels to our data to denote it as signal or background for classification.\n",
    "anomaly_class = {\n",
    "    'Background': 0,\n",
    "    'Signal': 1\n",
    "}\n",
    "\n",
    "# ID our data as background or signal.\n",
    "bkg_train_ids = np.full(bkg_train.shape[0], anomaly_class['Background'], dtype=int)\n",
    "bkg_test_ids = np.full(bkg_test.shape[0], anomaly_class['Background'], dtype=int)\n",
    "\n",
    "signal_train_ids = np.full(signal_train.shape[0], anomaly_class['Signal'], dtype=int)\n",
    "signal_test_ids = np.full(signal_test.shape[0], anomaly_class['Signal'], dtype=int)"
   ]
  },
  {
   "cell_type": "code",
   "execution_count": 4,
   "metadata": {},
   "outputs": [],
   "source": [
    "### -------------Merge dataset------------- ###\n",
    "\n",
    "# Stick our background and signal data together for training and testing.\n",
    "x_train = np.concatenate((bkg_train, signal_train), axis=0).transpose((0,2,1))\n",
    "y_train = np.concatenate((bkg_train_ids, signal_train_ids), axis=0)\n",
    "\n",
    "x_test_data = np.concatenate((bkg_test, signal_test), axis=0).transpose((0,2,1))\n",
    "y_test = np.concatenate((bkg_test_ids, signal_test_ids), axis=0)"
   ]
  },
  {
   "cell_type": "code",
   "execution_count": 5,
   "metadata": {},
   "outputs": [],
   "source": [
    "### -------------Shuffle dataset------------- ###\n",
    "\n",
    "# Shuffle the training data using a randomly chosen permutation. This ensures we don't encounter artifacts from background \n",
    "# and signal data being clumped together.\n",
    "idx = np.random.permutation(len(x_train))\n",
    "x_train = x_train[idx]\n",
    "y_train = y_train[idx]"
   ]
  },
  {
   "attachments": {},
   "cell_type": "markdown",
   "metadata": {},
   "source": [
    "#### Convert Data to Images"
   ]
  },
  {
   "cell_type": "code",
   "execution_count": 6,
   "metadata": {},
   "outputs": [],
   "source": [
    "### -------------Split detector dataset------------- ###\n",
    "\n",
    "# Each 2D dataset of gravitational wave data comes from one of two detectors: 0 (located in Hanford, WA) and 1 \n",
    "# (located in Livingston, LA). Split the data from these two detectors since we can only pass 2D images into our CNN to train.\n",
    "x_train_dec1 = x_train[:,:,0]\n",
    "x_train_dec2 = x_train[:,:,1]\n",
    "\n",
    "x_test_dec1 = x_test_data[:,:,0]\n",
    "x_test_dec2 = x_test_data[:,:,1]"
   ]
  },
  {
   "cell_type": "code",
   "execution_count": 7,
   "metadata": {},
   "outputs": [],
   "source": [
    "### -------------Convert dataset to GASF------------- ###\n",
    "\n",
    "# Utilize Gramian Angular Fields to transform our image from time series to images so that we can apply a CNN to classify\n",
    "# them (see https://medium.com/analytics-vidhya/encoding-time-series-as-images-b043becbdbf3 for an explanation of how this works).\n",
    "\n",
    "\n",
    "\n",
    "\n",
    "# # Scale data with MinMax scaler for input into GASF\n",
    "# scaler = MinMaxScaler()\n",
    "# x_train_dec1 = scaler.fit_transform(x_train_dec1)\n",
    "# x_train_dec2 = scaler.fit_transform(x_train_dec2)\n",
    "\n",
    "# x_test_dec1 = scaler.fit_transform(x_test_dec1)\n",
    "# x_test_dec2 = scaler.fit_transform(x_test_dec2)\n",
    "\n",
    "\n",
    "\n",
    "# gasf = GramianAngularField(image_size=28, method=\"summation\")\n",
    "# # Convert training data to image format\n",
    "# img_x_train_dec1 = gasf.fit_transform(x_train_dec1)\n",
    "# img_x_train_dec2 = gasf.fit_transform(x_train_dec2)\n",
    "\n",
    "# # Convert testing data to image format\n",
    "# img_x_test_dec1 = gasf.transform(x_test_dec1)\n",
    "# img_x_test_dec2 = gasf.transform(x_test_dec2)\n",
    "\n",
    "\n",
    "# Utilize FFT Spectrograms\n",
    "\n",
    "\n",
    "\n",
    "\n",
    "\n",
    "\n",
    "\n",
    "# Utilize MarkovTransitionField, which is an alternative to Gramian Angular Fields. We use this to compare with our GASF results. \n",
    "# It turns out that this method performs worse (~95% accuracy instead of ~97% with GASF).\n",
    "\n",
    "# mtf = MarkovTransitionField(image_size=28)\n",
    "# # Convert training data to image\n",
    "# img_x_train_dec1 = mtf.fit_transform(x_train_dec1)\n",
    "# img_x_train_dec2 = mtf.fit_transform(x_train_dec2)\n",
    "\n",
    "# # Convert testing data to image\n",
    "# img_x_test_dec1 = mtf.transform(x_test_dec1)\n",
    "# img_x_test_dec2 = mtf.transform(x_test_dec2)"
   ]
  },
  {
   "cell_type": "markdown",
   "metadata": {},
   "source": [
    "## TRYING TO GET THIS TO WORK"
   ]
  },
  {
   "cell_type": "code",
   "execution_count": 11,
   "metadata": {},
   "outputs": [],
   "source": [
    "from gwpy.timeseries import TimeSeries\n",
    "\n",
    "data_list = []\n",
    "series_list = []\n",
    "Sxx_list = []\n",
    "f_list = []\n",
    "t_list = []\n",
    "npseg=67\n",
    "\n",
    "# datas = [0 ,1, 2, 3]\n",
    "datas = [x_train_dec1, x_train_dec2, x_test_dec1, x_test_dec2]\n",
    "\n",
    "for d in range(len(datas)):\n",
    "    data_list = []\n",
    "    series_list = []\n",
    "    Sxx_list = []\n",
    "    f_list = []\n",
    "    t_list = []\n",
    "    npseg=67\n",
    "\n",
    "    for i in range(len(datas[d])):\n",
    "        data = (datas[d][i,:])\n",
    "        data_list.append(data)\n",
    "        # print(datas[d].shape)\n",
    "        series = (TimeSeries(data, sample_rate = 4096, unit='s', name='test', t0=0))     #np.array --> constantQ.timeseries   \n",
    "        series_list.append(series)\n",
    "\n",
    "        f, t, Sxx = signal.spectrogram(series, fs = 4096, nperseg=npseg, noverlap = npseg-1) #return_onesided = True) \n",
    "        Sxx_list.append(Sxx)\n",
    "        # f_list.append(f)\n",
    "        # t_list.append(t)\n",
    "        # print(d)\n",
    "\n",
    "    if d == 0:\n",
    "        test_1 = 'test1'\n",
    "        data_arr_x_train_dec1 = np.stack(data_list, axis = 0)\n",
    "        series_arr_x_train_dec1 = np.asarray(series_list)\n",
    "        Sxx_arr_x_train_dec1 = np.stack(Sxx_list, axis = 0)\n",
    "\n",
    "        # f_arr_x_train_dec1 = np.asarray(f_list)\n",
    "        # t_arr_x_train_dec1 = np.asarray(t_list)\n",
    "    elif d == 1:\n",
    "        test_2 = 'test2'\n",
    "        data_arr_x_train_dec2 = np.stack(data_list, axis = 0)\n",
    "        series_arr_x_train_dec2 = np.asarray(series_list)\n",
    "        Sxx_arr_x_train_dec2 = np.stack(Sxx_list, axis = 0)\n",
    "\n",
    "        # f_arr_x_train_dec2 = np.asarray(f_list)\n",
    "        # t_arr_x_train_dec2 = np.asarray(t_list)\n",
    "    elif d == 2:\n",
    "        test_3 = 'test3'\n",
    "        data_arr_x_test_dec1 = np.stack(data_list, axis = 0)\n",
    "        series_arr_x_test_dec1 = np.asarray(series_list)\n",
    "        Sxx_arr_x_test_dec1 = np.stack(Sxx_list, axis = 0)\n",
    "\n",
    "        # f_arr_x_test_dec1 = np.asarray(f_list)\n",
    "        # t_arr_x_test_dec1 = np.asarray(t_list)\n",
    "    else:\n",
    "        test_4 = 'test4'\n",
    "        data_arr_x_test_dec2 = np.stack(data_list, axis = 0)\n",
    "        series_arr_x_test_dec2 = np.asarray(series_list)\n",
    "        Sxx_arr_x_test_dec2 = np.stack(Sxx_list, axis = 0)\n",
    "\n",
    "        # f_arr_x_test_dec2 = np.asarray(f_list)\n",
    "        # t_arr_x_test_dec2 = np.asarray(t_list)"
   ]
  },
  {
   "cell_type": "code",
   "execution_count": 12,
   "metadata": {},
   "outputs": [
    {
     "data": {
      "image/png": "[encoded data removed]",
      "text/plain": [
       "<Figure size 640x480 with 1 Axes>"
      ]
     },
     "metadata": {},
     "output_type": "display_data"
    },
    {
     "data": {
      "image/png": "[encoded data removed]",
      "text/plain": [
       "<Figure size 640x480 with 1 Axes>"
      ]
     },
     "metadata": {},
     "output_type": "display_data"
    },
    {
     "data": {
      "image/png": "[encoded data removed]",
      "text/plain": [
       "<Figure size 640x480 with 1 Axes>"
      ]
     },
     "metadata": {},
     "output_type": "display_data"
    },
    {
     "data": {
      "image/png": "[encoded data removed]",
      "text/plain": [
       "<Figure size 640x480 with 1 Axes>"
      ]
     },
     "metadata": {},
     "output_type": "display_data"
    },
    {
     "name": "stdout",
     "output_type": "stream",
     "text": [
      "(34, 34)\n"
     ]
    }
   ],
   "source": [
    "plt.plot(data_arr_x_train_dec1[4000])\n",
    "plt.show()\n",
    "\n",
    "plt.pcolormesh(Sxx_arr_x_train_dec1[4000])\n",
    "plt.show()\n",
    "\n",
    "plt.pcolormesh(t, f, Sxx_arr_x_train_dec1[4000])\n",
    "plt.ylabel('Frequency [Hz]')\n",
    "plt.xlabel('Time [sec]')\n",
    "plt.show()\n",
    "\n",
    "plt.imshow(Sxx_arr_x_train_dec1[4000])\n",
    "plt.xticks([0, 5, 10, 15, 20, 25])\n",
    "plt.yticks([0, 5, 10, 15, 20, 25])\n",
    "plt.tick_params(axis='x', which='both', bottom=False, top=False, labelbottom=False, labeltop=True)\n",
    "plt.show()\n",
    "\n",
    "print(Sxx.shape)"
   ]
  },
  {
   "cell_type": "code",
   "execution_count": null,
   "metadata": {},
   "outputs": [],
   "source": [
    "plt.plot(data_arr[0])\n",
    "plt.show()\n",
    "\n",
    "plt.plot(x_train[0,:,0])\n",
    "plt.show()\n",
    "\n",
    "plt.plot(bkg_train[41878,0,:])\n",
    "plt.show()"
   ]
  },
  {
   "cell_type": "markdown",
   "metadata": {},
   "source": [
    "## THIS WORKS!"
   ]
  },
  {
   "cell_type": "code",
   "execution_count": null,
   "metadata": {},
   "outputs": [],
   "source": [
    "from gwpy.timeseries import TimeSeries\n",
    "data = x_train_dec1[0,:]\n",
    "\n",
    "series = TimeSeries(data, sample_rate = 4096, unit='s', name='test', t0=0)     #np.array --> constantQ.timeseries   \n",
    "\n",
    "npeg=67\n",
    "f, t, Sxx = signal.spectrogram(series, fs = 4096, nperseg=npeg, noverlap = npeg-1) #return_onesided = True) \n",
    "\n",
    "\n",
    "\n",
    "plt.plot(data)\n",
    "plt.show()\n",
    "\n",
    "plt.pcolormesh(Sxx)\n",
    "plt.show()\n",
    "plt.pcolormesh(t, f, Sxx)\n",
    "plt.ylabel('Frequency [Hz]')\n",
    "plt.xlabel('Time [sec]')\n",
    "plt.show()\n",
    "\n",
    "plt.imshow(Sxx)\n",
    "plt.xticks([0, 5, 10, 15, 20, 25])\n",
    "plt.yticks([0, 5, 10, 15, 20, 25])\n",
    "plt.tick_params(axis='x', which='both', bottom=False, top=False, labelbottom=False, labeltop=True)\n",
    "plt.show()\n",
    "\n",
    "print(Sxx.shape)"
   ]
  },
  {
   "cell_type": "code",
   "execution_count": null,
   "metadata": {},
   "outputs": [],
   "source": [
    "series"
   ]
  },
  {
   "cell_type": "code",
   "execution_count": null,
   "metadata": {},
   "outputs": [],
   "source": []
  },
  {
   "cell_type": "code",
   "execution_count": null,
   "metadata": {},
   "outputs": [],
   "source": [
    "# import numpy as np\n",
    "# from scipy import signal\n",
    "# from scipy.fft import fftshift\n",
    "# import matplotlib.pyplot as plt\n",
    "# rng = np.random.default_rng()\n",
    "\n",
    "# fs = 10e3\n",
    "# N = 1e4\n",
    "# amp = 2 * np.sqrt(2)\n",
    "# noise_power = 0.01 * fs / 2\n",
    "# time = np.arange(N) / float(fs)\n",
    "# mod = 500*np.cos(2*np.pi*0.25*time)\n",
    "# carrier = amp * np.sin(2*np.pi*3e3*time + mod)\n",
    "# noise = rng.normal(scale=np.sqrt(noise_power), size=time.shape)\n",
    "# noise *= np.exp(-time/5)\n",
    "# x = carrier + noise\n",
    "# plt.plot(time, x)\n",
    "# plt.show()\n",
    "\n",
    "# f, t, Sxx = signal.spectrogram(x, fs)\n",
    "# plt.pcolormesh(t, f, Sxx, shading='gouraud')\n",
    "# plt.ylabel('Frequency [Hz]')\n",
    "# plt.xlabel('Time [sec]')\n",
    "# plt.show()"
   ]
  },
  {
   "cell_type": "code",
   "execution_count": null,
   "metadata": {},
   "outputs": [],
   "source": [
    "plt.plot(x_train_dec1[48000,:])\n",
    "plt.show()\n",
    "\n",
    "fs = 100/4096\n",
    "NFFT=1000\n",
    "\n",
    "f, t, Sxx = signal.spectrogram(x_train_dec1[48000,:], fs=fs,nperseg=99,scaling='density',mode='psd',nfft=NFFT)\n",
    "plt.pcolormesh(t, f, Sxx, shading='auto', vmin=Sxx.min(), vmax=Sxx.max())\n",
    "plt.ylabel('Frequency [Hz]')\n",
    "plt.xlabel('Time [sec]')\n",
    "plt.colorbar()\t\n",
    "plt.show()\n",
    "\n",
    "# Pxx, freqs, bins, im = plt.specgram(x_train_dec1[0,:], NFFT=NFFT, Fs=fs, noverlap=8)\n",
    "# plt.axis((None, None, 0, 0.5))\n",
    "# plt.show()\n",
    "\n",
    "f, t, Sxx = signal.spectrogram(x_train_dec1[48000,:], fs=fs, nfft=NFFT, nperseg=25)\n",
    "plt.pcolormesh(t, f, Sxx, shading='auto', vmin=Sxx.min(), vmax=Sxx.max())\n",
    "plt.ylabel('Frequency [Hz]')\n",
    "plt.xlabel('Time [sec]')\n",
    "plt.colorbar()\t\n",
    "plt.show()\n",
    "\n",
    "plt.imshow(Sxx, aspect='auto', cmap='hot_r', origin='lower')"
   ]
  },
  {
   "cell_type": "code",
   "execution_count": null,
   "metadata": {},
   "outputs": [],
   "source": []
  },
  {
   "attachments": {},
   "cell_type": "markdown",
   "metadata": {},
   "source": [
    "## GWpy testing"
   ]
  },
  {
   "cell_type": "code",
   "execution_count": null,
   "metadata": {},
   "outputs": [],
   "source": [
    "import numpy as np\n",
    "\n",
    "# Generate np.array chirp signal\n",
    "dt = 0.001\n",
    "t = np.arange(0,3,dt)\n",
    "f0 = 50\n",
    "f1 = 250\n",
    "t1 = 2\n",
    "x = np.cos(2*np.pi*t*(f0 + (f1 - f0)*np.power(t, 2)/(3*t1**2)))\n",
    "fs = 1/dt\n",
    "\n",
    "plt.plot(x)\t\t\t\t# plot the chirp signal\n",
    "plt.show()\t\t\t\t# display"
   ]
  },
  {
   "cell_type": "code",
   "execution_count": null,
   "metadata": {},
   "outputs": [],
   "source": [
    "from gwpy.timeseries import TimeSeries\n",
    "series = TimeSeries(x, dt = 0.001, unit='m', name='test', t0=0)     #np.array --> constantQ.timeseries    "
   ]
  },
  {
   "cell_type": "code",
   "execution_count": null,
   "metadata": {},
   "outputs": [],
   "source": [
    "hdata = series\n",
    "sq = hdata.q_transform()\t\t\t\t# q transform\n",
    "print(len(sq[0]))       # freq array length\n",
    "print(len(sq))          # time array length\n",
    "\n",
    "plt.imshow(sq.T, origin='lower')\t\t\t\t# plot the spectrogram\n",
    "plt.colorbar()\t\t\t\t\t\t\t\t\t# colorbar\n",
    "plt.show()\t\t\t\t\t\t\t\t\t\t# display"
   ]
  },
  {
   "cell_type": "code",
   "execution_count": null,
   "metadata": {},
   "outputs": [],
   "source": [
    "from scipy import signal as scisignal\n",
    "\n",
    "freq, ts, Sxx = scisignal.spectrogram(x)\t\t# scipy spectrogram\n",
    "\n",
    "plt.pcolor(ts, freq, Sxx, shading='auto')\t\t# plot the spectrogram\n",
    "plt.colorbar()\t\t\t\t\t\t\t\t\t# colorbar\n",
    "plt.show()\t\t\t\t\t\t\t\t\t\t# display"
   ]
  },
  {
   "cell_type": "code",
   "execution_count": null,
   "metadata": {},
   "outputs": [],
   "source": []
  },
  {
   "attachments": {},
   "cell_type": "markdown",
   "metadata": {},
   "source": [
    "## experimenting with our data"
   ]
  },
  {
   "cell_type": "code",
   "execution_count": null,
   "metadata": {},
   "outputs": [],
   "source": [
    "len(x_train_dec1[0,:])\n"
   ]
  },
  {
   "cell_type": "code",
   "execution_count": null,
   "metadata": {},
   "outputs": [],
   "source": [
    "len(x_train_dec1)"
   ]
  },
  {
   "cell_type": "code",
   "execution_count": null,
   "metadata": {},
   "outputs": [],
   "source": [
    "from gwpy.timeseries import TimeSeries\n",
    "data = x_train_dec1[0,:]\n",
    "\n",
    "series = TimeSeries(data, sample_rate = 4096, unit='s', name='test', t0=0)     #np.array --> constantQ.timeseries   \n",
    "\n",
    "npeg=67\n",
    "f, t, Sxx = signal.spectrogram(series, fs = 4096, nperseg=npeg, noverlap = npeg-1) #return_onesided = True) \n",
    "\n",
    "\n",
    "\n",
    "plt.plot(data)\n",
    "plt.show()\n",
    "\n",
    "plt.pcolormesh(Sxx)\n",
    "plt.show()\n",
    "plt.pcolormesh(t, f, Sxx)\n",
    "plt.ylabel('Frequency [Hz]')\n",
    "plt.xlabel('Time [sec]')\n",
    "plt.show()\n",
    "\n",
    "plt.imshow(Sxx)\n",
    "plt.xticks([0, 5, 10, 15, 20, 25])\n",
    "plt.yticks([0, 5, 10, 15, 20, 25])\n",
    "plt.tick_params(axis='x', which='both', bottom=False, top=False, labelbottom=False, labeltop=True)\n",
    "plt.show()\n",
    "\n",
    "print(Sxx.shape)\n"
   ]
  },
  {
   "cell_type": "code",
   "execution_count": null,
   "metadata": {},
   "outputs": [],
   "source": [
    "plt.plot(series)\n",
    "q = series.q_transform()\n",
    "plot = q.plot()\n",
    "ax = plot.gca()\n",
    "ax.set_xscale('seconds')\n",
    "\n",
    "ax.set_ylabel('Frequency [Hz]')\n",
    "ax.grid(True, axis='y', which='both')\n",
    "ax.colorbar(cmap='viridis', label='Normalized energy')\n",
    "plot.show()  \n"
   ]
  },
  {
   "cell_type": "code",
   "execution_count": null,
   "metadata": {},
   "outputs": [],
   "source": [
    "from gwpy.timeseries import TimeSeries\n",
    "data = x\n",
    "series = TimeSeries(data, sample_rate = 1, name='test', t0=0)     #np.array --> constantQ.timeseries    \n",
    "\n",
    "hdata = series\n",
    "sq = hdata.q_transform(whiten = False, outseg = None)\t\t\t\t# q transform\n",
    "print(len(sq[0]))       # freq array length\n",
    "print(len(sq))          # time array length\n",
    "\n",
    "plt.imshow(sq.T, origin='lower')\t\t\t\t# plot the spectrogram\n",
    "plt.colorbar()\t\t\t\t\t\t\t\t\t# colorbar\n",
    "plt.show()\t\t\t\t\t\t\t\t\t\t# display\n",
    "\n",
    "\n",
    "from scipy import signal as scisignal\n",
    "\n",
    "freq, ts, Sxx = scisignal.spectrogram(data)\t\t# scipy spectrogram\n",
    "\n",
    "plt.pcolor(ts, freq, Sxx, shading='auto')\t\t# plot the spectrogram\n",
    "plt.colorbar()\t\t\t\t\t\t\t\t\t# colorbar\n",
    "plt.show()\t"
   ]
  },
  {
   "cell_type": "code",
   "execution_count": null,
   "metadata": {},
   "outputs": [],
   "source": []
  },
  {
   "attachments": {},
   "cell_type": "markdown",
   "metadata": {},
   "source": [
    "## Real gw data"
   ]
  },
  {
   "cell_type": "code",
   "execution_count": null,
   "metadata": {},
   "outputs": [],
   "source": [
    "from gwpy.timeseries import TimeSeries\n",
    "\n",
    "data = TimeSeries.fetch_open_data('H1', 1126259446, 1126259478)\n",
    "\n",
    "qspecgram = data.q_transform(outseg=(1126259462.2, 1126259462.5))\n",
    "\n",
    "plot = qspecgram.plot(figsize=[8, 4])\n",
    "ax = plot.gca()\n",
    "ax.set_xscale('seconds')\n",
    "ax.set_yscale('log')\n",
    "ax.set_ylim(20, 500)\n",
    "ax.set_ylabel('Frequency [Hz]')\n",
    "ax.grid(True, axis='y', which='both')\n",
    "ax.colorbar(cmap='viridis', label='Normalized energy')\n",
    "plot.show()\n"
   ]
  },
  {
   "attachments": {},
   "cell_type": "markdown",
   "metadata": {},
   "source": [
    "## Testing"
   ]
  },
  {
   "cell_type": "code",
   "execution_count": null,
   "metadata": {},
   "outputs": [],
   "source": [
    "# Generate np.array chirp signal\n",
    "dt = 0.001\n",
    "t = np.arange(0,3,dt)\n",
    "f0 = 50\n",
    "f1 = 250\n",
    "t1 = 2\n",
    "x = np.cos(2*np.pi*t*(f0 + (f1 - f0)*np.power(t, 2)/(3*t1**2)))\n",
    "fs = 1/dt\n",
    "\n",
    "plt.plot(x)\t\t\t\t# plot the chirp signal\n",
    "plt.show()\t\t\t\t# display"
   ]
  },
  {
   "cell_type": "code",
   "execution_count": null,
   "metadata": {},
   "outputs": [],
   "source": [
    "from gwpy.timeseries import TimeSeries\n",
    "\n",
    "\n",
    "\n",
    "series = TimeSeries(x, dt = 0.001, unit='m', name='test', t0=0)     #np.array --> constantQ.timeseries   \n",
    "\n",
    "\n",
    "\n",
    "q = series.q_transform()\n",
    "plot = q.plot()\n",
    "ax = plot.gca()\n",
    "ax.set_xscale('seconds')\n",
    "\n",
    "ax.set_ylabel('Frequency [Hz]')\n",
    "ax.grid(True, axis='y', which='both')\n",
    "ax.colorbar(cmap='viridis', label='Normalized energy')\n",
    "plot.show()"
   ]
  },
  {
   "cell_type": "code",
   "execution_count": null,
   "metadata": {},
   "outputs": [],
   "source": []
  }
 ],
 "metadata": {
  "kernelspec": {
   "display_name": "newenv",
   "language": "python",
   "name": "python3"
  },
  "language_info": {
   "codemirror_mode": {
    "name": "ipython",
    "version": 3
   },
   "file_extension": ".py",
   "mimetype": "text/x-python",
   "name": "python",
   "nbconvert_exporter": "python",
   "pygments_lexer": "ipython3",
   "version": "3.9.16"
  },
  "orig_nbformat": 4
 },
 "nbformat": 4,
 "nbformat_minor": 2
}
