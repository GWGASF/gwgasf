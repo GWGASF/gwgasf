{
 "cells": [
  {
   "cell_type": "markdown",
   "metadata": {},
   "source": [
    "# Unraveling Gravitational Ripples: Neural Network Classification\n",
    "### GASF vs FFT vs QTransform with New Data\n",
    "### **GWGASF Members:** $Daniel\\;Fredin^{1}$, $Cole\\;Welch^{1}$, $Arif\\;Chu^{1}$, $Chia-Jui\\;Chou^{2}$, $Andy\\;Chen^{2}$, & $Shih-Chieh\\;Hsu^{1}$\n",
    "#### $^{1}University\\;of\\;Washington,\\;Seattle,\\;USA$; $^{2}National\\;Yang\\;Ming\\;Chiao\\;Tung\\;University,\\;Hsinchu\\;City,\\;TW$"
   ]
  },
  {
   "cell_type": "markdown",
   "metadata": {},
   "source": [
    "--------------------"
   ]
  },
  {
   "cell_type": "code",
   "execution_count": 1,
   "metadata": {},
   "outputs": [],
   "source": [
    "%matplotlib inline\n",
    "\n",
    "\n",
    "import numpy as np\n",
    "import pandas as pd\n",
    "import h5py \n",
    "import matplotlib.pyplot as plt\n",
    "import seaborn as sns\n",
    "import torch\n",
    "from sklearn.preprocessing import StandardScaler\n",
    "\n",
    "import torch.nn.functional as F\n",
    "\n",
    "from pyts.image import GramianAngularField\n",
    "\n",
    "from scipy import signal\n",
    "from gwpy.timeseries import TimeSeries\n",
    "from gwpy.signal import filter_design\n",
    "\n",
    "from sklearn.metrics import confusion_matrix\n",
    "from sklearn import metrics\n",
    "from timeit import default_timer as timer\n",
    "from tqdm import tqdm, tnrange, tqdm_notebook, trange\n",
    "\n",
    "from torchsummary import summary\n",
    "from torch.utils.data import Dataset, DataLoader\n",
    "\n",
    "from torch import nn\n",
    "\n",
    "\n",
    "\n",
    "# from tqdm.notebook import trange\n",
    "\n",
    "# Initializes numpy and pytorch random seeds for reproducibility \n",
    "seed = 55\n",
    "np.random.seed(seed)\n",
    "torch.manual_seed(seed)\n",
    "torch.cuda.manual_seed(seed)"
   ]
  },
  {
   "cell_type": "code",
   "execution_count": 2,
   "metadata": {},
   "outputs": [
    {
     "name": "stdout",
     "output_type": "stream",
     "text": [
      "Using device: cuda\n",
      "\n",
      "NVIDIA GeForce GTX 1650\n",
      "Memory Usage:\n",
      "Allocated: 0.0 GB\n",
      "Cached:    0.0 GB\n"
     ]
    }
   ],
   "source": [
    "# setting device on GPU if available, else CPU\n",
    "device = torch.device('cuda' if torch.cuda.is_available() else 'cpu')\n",
    "print('Using device:', device)\n",
    "print()\n",
    "\n",
    "#Additional Info when using cuda\n",
    "if device.type == 'cuda':\n",
    "    print(torch.cuda.get_device_name(0))\n",
    "    print('Memory Usage:')\n",
    "    print('Allocated:', round(torch.cuda.memory_allocated(0)/1024**3,1), 'GB')\n",
    "    print('Cached:   ', round(torch.cuda.memory_reserved(0)/1024**3,1), 'GB')"
   ]
  },
  {
   "cell_type": "code",
   "execution_count": 3,
   "metadata": {},
   "outputs": [],
   "source": [
    "device = torch.device(\"cuda\" if torch.cuda.is_available() else \"cpu\")"
   ]
  },
  {
   "cell_type": "markdown",
   "metadata": {},
   "source": [
    "# Preparing the data"
   ]
  },
  {
   "cell_type": "code",
   "execution_count": 4,
   "metadata": {},
   "outputs": [],
   "source": [
    "### -------------Load dataset------------- ###\n",
    "\n",
    "# Define the file name\n",
    "filename = 'classify_data.h5'\n",
    "\n",
    "# Open the file\n",
    "with h5py.File(filename, 'r') as file:\n",
    "    # Load the datasets\n",
    "    bbh_train = np.array(file['Training']['bbh'])\n",
    "    bbh_val = np.array(file['Validation']['bbh'])\n",
    "    glitch_train = np.array(file['Training']['glitch'])\n",
    "    glitch_val = np.array(file['Validation']['glitch'])\n",
    "\n",
    "\n",
    "# Define the file name\n",
    "filename = 'overlap.h5'\n",
    "\n",
    "# Open the file\n",
    "with h5py.File(filename, 'r') as file:\n",
    "    # Load the datasets\n",
    "    overlap = np.array(file['overlap'])\n",
    "    overlap_train = overlap[:-299]\n",
    "    overlap_val = overlap[-299:]\n",
    "\n",
    "\n",
    "## ---------------- ONE-HOT ENCODING ----------------------------##\n",
    "\n",
    "# NOTE: \n",
    "# Multiclassifier\n",
    "anomaly_class = {\n",
    "    'Glitch': [1, 0, 0],\n",
    "    'Signal': [0, 1, 0],\n",
    "    'Overlap': [0, 0, 1]\n",
    "}\n",
    "\n"
   ]
  },
  {
   "cell_type": "code",
   "execution_count": 5,
   "metadata": {},
   "outputs": [],
   "source": [
    "\n",
    "x_train = np.concatenate((glitch_train, bbh_train, overlap_train), axis=0).transpose((0,2,1))\n",
    "\n",
    "x_val = np.concatenate((glitch_val, bbh_val, overlap_val), axis=0).transpose((0,2,1))\n",
    "\n",
    "\n",
    "# ID our data as background, signal or overlap\n",
    "\n",
    "glitch_train_ids = np.full((glitch_train.shape[0], 3), anomaly_class['Glitch'])\n",
    "bbh_train_ids = np.full((bbh_train.shape[0], 3), anomaly_class['Signal'])\n",
    "overlap_train_ids = np.full((overlap_train.shape[0], 3), anomaly_class['Overlap'])\n",
    "\n",
    "y_train = np.concatenate((glitch_train_ids, bbh_train_ids, overlap_train_ids), axis=0)\n",
    "\n",
    "glitch_val_ids = np.full((glitch_val.shape[0], 3), anomaly_class['Glitch'])\n",
    "bbh_val_ids = np.full((bbh_val.shape[0], 3), anomaly_class['Signal'])\n",
    "overlap_val_ids = np.full((overlap_val.shape[0], 3), anomaly_class['Overlap'])\n",
    "\n",
    "y_val = np.concatenate((glitch_val_ids, bbh_val_ids, overlap_val_ids), axis=0)\n",
    "\n",
    "\n",
    "del glitch_train, bbh_train, overlap_train, glitch_val, bbh_val, overlap_val\n",
    "del glitch_train_ids, bbh_train_ids, overlap_train_ids, glitch_val_ids, bbh_val_ids, overlap_val_ids\n",
    "\n",
    "\n"
   ]
  },
  {
   "cell_type": "code",
   "execution_count": 6,
   "metadata": {},
   "outputs": [],
   "source": [
    "### -------------Split detector dataset------------- ###\n",
    "\n",
    "# x_train_dec1 = x_train[:,:,0]\n",
    "# x_train_dec2 = x_train[:,:,1]\n",
    "\n",
    "# x_val_dec1 = x_val[:,:,0]\n",
    "# x_val_dec2 = x_val[:,:,1]\n",
    "\n",
    "\n",
    "# print(f'validation:{len(y_val)}')\n",
    "n_train = 1000\n",
    "n_val = 200\n",
    "\n",
    "x_train_dec1 = x_train[:n_train,:,0]\n",
    "x_train_dec2 = x_train[:n_train,:,1]\n",
    "\n",
    "y_train = y_train[:n_train]\n",
    "\n",
    "x_val_dec1 = x_val[:n_val,:,0]\n",
    "x_val_dec2 = x_val[:n_val,:,1]\n",
    "\n",
    "y_val = y_val[:n_val]\n",
    "\n",
    "### -------------GASF CONVERSION------------- ###\n",
    "\n",
    "gasf = GramianAngularField(image_size=194, sample_range = (-1,1), method=\"summation\")\n",
    "# Convert training data to image format\n",
    "img_x_train_dec1 = gasf.transform(x_train_dec1)\n",
    "img_x_train_dec2 = gasf.transform(x_train_dec2)\n",
    "del x_train_dec1, x_train_dec2\n",
    "\n",
    "# Convert testing data to image format\n",
    "img_x_val_dec1 = gasf.transform(x_val_dec1)\n",
    "img_x_val_dec2 = gasf.transform(x_val_dec2)\n",
    "del x_val_dec1, x_val_dec2\n",
    "\n"
   ]
  },
  {
   "cell_type": "code",
   "execution_count": 7,
   "metadata": {},
   "outputs": [
    {
     "name": "stdout",
     "output_type": "stream",
     "text": [
      "X Training Shape:  (880, 2, 194, 194)\n",
      "Y Training Shape:  (880, 3)\n",
      "X Testing Shape:  (120, 2, 194, 194)\n",
      "Y Testing Shape:  (120, 3)\n",
      "X Validation Shape:  (200, 2, 194, 194)\n",
      "Y Validation Shape:  (200, 3)\n"
     ]
    }
   ],
   "source": [
    "# Stack Detector 1 and Detector 2 image data together to unify our training and testing datasets before training.\n",
    "img_x_train = np.stack((img_x_train_dec1, img_x_train_dec2), axis=1)\n",
    "del img_x_train_dec1, img_x_train_dec2\n",
    "img_x_val = np.stack((img_x_val_dec1, img_x_val_dec2), axis=1)\n",
    "del img_x_val_dec1, img_x_val_dec2\n",
    "\n",
    "img_y_val = y_val\n",
    "\n",
    "### -------------Split into training and validation datasets------------- ###\n",
    "\n",
    "## NOTE: MAYBE USER INPUT FOR SPLIT %???\n",
    "\n",
    "# Take the first 17.65% of our training features and targets as validation set\n",
    "img_x_test= img_x_train[:round((len(img_x_train)*0.12))]\n",
    "img_y_test = y_train[:round((len(y_train)*0.12))]\n",
    "\n",
    "# Take the remaining 82.35% of training features and targets as training set\n",
    "img_x_train = img_x_train[round((len(img_x_train)*0.12)):]\n",
    "img_y_train = y_train[round((len(y_train)*0.12)):]\n",
    "\n",
    "# Check the shapes of the training/validation datasets. Turns out we get about a 85%, 12%, 3% split.\n",
    "print(\"X Training Shape: \", img_x_train.shape)\n",
    "print(\"Y Training Shape: \", img_y_train.shape)\n",
    "print(\"X Testing Shape: \", img_x_test.shape)\n",
    "print(\"Y Testing Shape: \", img_y_test.shape)\n",
    "print(\"X Validation Shape: \", img_x_val.shape)\n",
    "print(\"Y Validation Shape: \", img_y_val.shape)"
   ]
  },
  {
   "cell_type": "code",
   "execution_count": 8,
   "metadata": {},
   "outputs": [],
   "source": [
    "\n",
    "strains = [img_x_train, img_x_val, img_x_test]\n",
    "\n",
    "# strains = [training_strain, validation_strain, testing_strain]\n",
    "\n",
    "targets = [img_y_train, img_y_val, img_y_test]\n",
    "\n",
    "# targets = [training_targets, validation_targets, testing_targets]"
   ]
  },
  {
   "cell_type": "markdown",
   "metadata": {},
   "source": [
    "## DataLoader"
   ]
  },
  {
   "cell_type": "code",
   "execution_count": 9,
   "metadata": {},
   "outputs": [],
   "source": [
    "class MyDataset(Dataset):\n",
    "\n",
    "    def __init__(self, data, target, ifos=3, kernel_size=4096):\n",
    "\n",
    "        # Get data type from https://pytorch.org/docs/stable/tensors.html\n",
    "        # self.data = torch.FloatTensor(\n",
    "        #     data.reshape([-1, ifos, kernel_size])\n",
    "        # )\n",
    "        # \n",
    "        self.data = torch.FloatTensor(data)\n",
    "        self.targets = torch.FloatTensor(target)\n",
    "    \n",
    "    def __len__(self):\n",
    "        \n",
    "        return len(self.data)\n",
    "        \n",
    "    def __getitem__(self, index):\n",
    "        x = self.data[index]\n",
    "        y = self.targets[index]\n",
    "\n",
    "        return x, y"
   ]
  },
  {
   "cell_type": "code",
   "execution_count": 10,
   "metadata": {},
   "outputs": [],
   "source": [
    "# Load Training data into pytorch tensor\n",
    "dataset = MyDataset(strains[0], targets[0])\n",
    "\n",
    "training_data = DataLoader(\n",
    "    dataset, \n",
    "    batch_size=32, \n",
    "    shuffle=True\n",
    ")\n",
    "\n",
    "# Load Validation data into pytorch tensor\n",
    "dataset_v = MyDataset(strains[1], targets[1])\n",
    "validation_data = DataLoader(\n",
    "    dataset_v, \n",
    "    batch_size=32, \n",
    "    shuffle=True\n",
    ")\n",
    "\n",
    "# Load Validation data into pytorch tensor\n",
    "dataset_t = MyDataset(strains[2], targets[2])\n",
    "testing_data = DataLoader(\n",
    "    dataset_t, \n",
    "    batch_size=32, \n",
    "    shuffle=True\n",
    ")"
   ]
  },
  {
   "cell_type": "markdown",
   "metadata": {},
   "source": [
    "## CNN Model"
   ]
  },
  {
   "cell_type": "code",
   "execution_count": 11,
   "metadata": {},
   "outputs": [],
   "source": [
    "\n",
    "               ## # | 64 x 64 | 127 x 127 | 194 x 194 |\n",
    "cnn1In = 2     ## # |    2    |     2     |     2     |\n",
    "cnn1Out = 64   ## # |    16   |     16    |     16    |    \n",
    "cnn1K = 6      ## # |    4    |     5     |     6     |\n",
    "cnn1S = 2      ## # |    2    |     2     |     2     |\n",
    "cnn1P = 1      ## # |    1    |     2     |     1     |\n",
    "batch1 = 64    ## # |    16   |     16    |     16    |\n",
    "max1K = 5      ## # |    4    |     2     |     5     |\n",
    "max1S = 3      ## # |    2    |     2     |     3     |\n",
    "max1P = 1      ## # |    1    |     0     |     1     |\n",
    "\n",
    "cnn2In = 64    ## # |    16   |     16    |     16    |\n",
    "cnn2Out = 128   ## # |    32   |     32    |     32    |\n",
    "cnn2K = 4      ## # |    3    |     4     |     4     |\n",
    "cnn2S = 2      ## # |    1    |     2     |     2     |\n",
    "cnn2P = 1      ## # |    1    |     1     |     1     |\n",
    "batch2 = 128    ## # |    32   |     32    |     32    |\n",
    "max2K = 2      ## # |    2    |     2     |     2     |\n",
    "max2S = 2      ## # |    2    |     2     |     2     |\n",
    "max2P = 0      ## # |    0    |     0     |     0     |\n",
    "\n",
    "### -------------194 x 194 Model Definition------------- ###\n",
    "\n",
    "class CNNModel(nn.Module):\n",
    "    \n",
    "    def __init__(self):\n",
    "        \n",
    "        super(CNNModel, self).__init__()\n",
    "\n",
    "                # First convolution layer (2 channel -> 16 channels, preserve original dimension by adding padding = 2) \n",
    "        self.layer1 = nn.Sequential(\n",
    "            nn.Conv2d(in_channels=2, out_channels=cnn1Out, kernel_size=cnn1K, stride=cnn1S, padding=cnn1P),\n",
    "            nn.ReLU(),\n",
    "            nn.BatchNorm2d(batch1),\n",
    "            nn.MaxPool2d(kernel_size=max1K, stride=max1S, padding=max1P)\n",
    "            )\n",
    "        \n",
    "        # Second convolution layer (16 channel -> 32 channels, preserve dimension by adding padding = 2)\n",
    "        self.layer2 = nn.Sequential(\n",
    "            nn.Conv2d(in_channels=cnn2In, out_channels=cnn2Out, kernel_size=cnn2K, stride=cnn2S, padding=cnn2P),\n",
    "            nn.ReLU(),\n",
    "            nn.BatchNorm2d(batch2),\n",
    "            nn.MaxPool2d(kernel_size=max2K, stride=max2S, padding=max2P)\n",
    "            )\n",
    "\n",
    "        # Fully connected layer that takes the flattened output of layer 2 (32, 8 ,8) -> (2048) and output 2 classes\n",
    "        self.fc1 = nn.Linear(in_features=128*8*8, out_features=1024)\n",
    "        self.fc2 = nn.Linear(in_features=1024, out_features=512)\n",
    "        self.fc3 = nn.Linear(in_features=512, out_features=3)\n",
    "        self.dropcnn = nn.Dropout(0.25)\n",
    "        self.dropfc = nn.Dropout(0.6)\n",
    "\n",
    "    \n",
    "    def forward(self, x):\n",
    "\n",
    "        # input image -> conv -> batchnorm -> relu -> maxpool\n",
    "        out = self.layer1(x)\n",
    "        out = self.dropcnn(out)\n",
    "        # 1st maxpool output -> conv -> batchnorm -> relu -> maxpool\n",
    "        out = self.layer2(out)\n",
    "        out = self.dropcnn(out)\n",
    "        # flatten the second maxpool output to be used as input into FCN layer\n",
    "        out = out.view(out.size(0), -1)\n",
    "\n",
    "        # Pass flattened output into FCN layers\n",
    "        out = self.fc1(out)\n",
    "        out = self.dropfc(out)\n",
    "        out = self.fc2(out)\n",
    "        out = self.dropfc(out)\n",
    "        out = self.fc3(out)\n",
    "        \n",
    "        return out\n",
    "\n",
    "\n",
    "\n",
    "\n"
   ]
  },
  {
   "cell_type": "code",
   "execution_count": 12,
   "metadata": {},
   "outputs": [
    {
     "name": "stdout",
     "output_type": "stream",
     "text": [
      "----------------------------------------------------------------\n",
      "        Layer (type)               Output Shape         Param #\n",
      "================================================================\n",
      "            Conv2d-1          [880, 64, 96, 96]           4,672\n",
      "              ReLU-2          [880, 64, 96, 96]               0\n",
      "       BatchNorm2d-3          [880, 64, 96, 96]             128\n",
      "         MaxPool2d-4          [880, 64, 32, 32]               0\n",
      "           Dropout-5          [880, 64, 32, 32]               0\n",
      "            Conv2d-6         [880, 128, 16, 16]         131,200\n",
      "              ReLU-7         [880, 128, 16, 16]               0\n",
      "       BatchNorm2d-8         [880, 128, 16, 16]             256\n",
      "         MaxPool2d-9           [880, 128, 8, 8]               0\n",
      "          Dropout-10           [880, 128, 8, 8]               0\n",
      "           Linear-11                [880, 1024]       8,389,632\n",
      "          Dropout-12                [880, 1024]               0\n",
      "           Linear-13                 [880, 512]         524,800\n",
      "          Dropout-14                 [880, 512]               0\n",
      "           Linear-15                   [880, 3]           1,539\n",
      "================================================================\n",
      "Total params: 9,052,227\n",
      "Trainable params: 9,052,227\n",
      "Non-trainable params: 0\n",
      "----------------------------------------------------------------\n",
      "Input size (MB): 252.68\n",
      "Forward/backward pass size (MB): 13550.65\n",
      "Params size (MB): 34.53\n",
      "Estimated Total Size (MB): 13837.86\n",
      "----------------------------------------------------------------\n"
     ]
    }
   ],
   "source": [
    "# An eazy way to give you the outline of your model\n",
    "GASF_Model = CNNModel().cuda()\n",
    "summary(GASF_Model,  (2, 194, 194), len(strains[0]), 'cuda')"
   ]
  },
  {
   "cell_type": "markdown",
   "metadata": {},
   "source": [
    "## Hyperparameters"
   ]
  },
  {
   "cell_type": "code",
   "execution_count": 13,
   "metadata": {},
   "outputs": [],
   "source": [
    "  ### -------------Hyperparameters------------- ###\n",
    "\n",
    "# Initialize the CNN model\n",
    "model = CNNModel().to(device)\n",
    "learning_rate = 0.0005     # 0.00005\n",
    "epochs = 25                 # 40\n",
    "# batchsize = 225             # 768\n",
    "L2_reg = 0.001            # 0.00005\n",
    "\n",
    "# Define loss function and optimizer\n",
    "loss_func = nn.CrossEntropyLoss()\n",
    "optimizer = torch.optim.Adam(\n",
    "    model.parameters(), \n",
    "    lr = learning_rate, \n",
    "    weight_decay=L2_reg)\n"
   ]
  },
  {
   "cell_type": "markdown",
   "metadata": {},
   "source": [
    "## Training"
   ]
  },
  {
   "cell_type": "code",
   "execution_count": 14,
   "metadata": {},
   "outputs": [
    {
     "name": "stderr",
     "output_type": "stream",
     "text": [
      "Epoch 1: 100%|██████████| 28/28 [00:01<00:00, 21.13it/s]\n"
     ]
    },
    {
     "name": "stdout",
     "output_type": "stream",
     "text": [
      "========\n",
      "Cost16.94\n",
      "======== \n",
      "\n",
      "===================\n",
      "Validation Cost14.2\n",
      "=================== \n",
      "\n"
     ]
    },
    {
     "name": "stderr",
     "output_type": "stream",
     "text": [
      "Epoch 2: 100%|██████████| 28/28 [00:01<00:00, 21.48it/s]\n"
     ]
    },
    {
     "name": "stdout",
     "output_type": "stream",
     "text": [
      "========\n",
      "Cost14.81\n",
      "======== \n",
      "\n",
      "===================\n",
      "Validation Cost11.54\n",
      "=================== \n",
      "\n"
     ]
    },
    {
     "name": "stderr",
     "output_type": "stream",
     "text": [
      "Epoch 3: 100%|██████████| 28/28 [00:01<00:00, 20.55it/s]\n"
     ]
    },
    {
     "name": "stdout",
     "output_type": "stream",
     "text": [
      "========\n",
      "Cost10.84\n",
      "======== \n",
      "\n",
      "===================\n",
      "Validation Cost8.47\n",
      "=================== \n",
      "\n"
     ]
    },
    {
     "name": "stderr",
     "output_type": "stream",
     "text": [
      "Epoch 4: 100%|██████████| 28/28 [00:01<00:00, 19.88it/s]\n"
     ]
    },
    {
     "name": "stdout",
     "output_type": "stream",
     "text": [
      "========\n",
      "Cost12.97\n",
      "======== \n",
      "\n",
      "===================\n",
      "Validation Cost9.03\n",
      "=================== \n",
      "\n"
     ]
    },
    {
     "name": "stderr",
     "output_type": "stream",
     "text": [
      "Epoch 5: 100%|██████████| 28/28 [00:01<00:00, 19.00it/s]\n"
     ]
    },
    {
     "name": "stdout",
     "output_type": "stream",
     "text": [
      "========\n",
      "Cost9.72\n",
      "======== \n",
      "\n",
      "===================\n",
      "Validation Cost7.7\n",
      "=================== \n",
      "\n"
     ]
    },
    {
     "name": "stderr",
     "output_type": "stream",
     "text": [
      "Epoch 6: 100%|██████████| 28/28 [00:01<00:00, 19.56it/s]\n"
     ]
    },
    {
     "name": "stdout",
     "output_type": "stream",
     "text": [
      "========\n",
      "Cost8.21\n",
      "======== \n",
      "\n",
      "===================\n",
      "Validation Cost7.87\n",
      "=================== \n",
      "\n"
     ]
    },
    {
     "name": "stderr",
     "output_type": "stream",
     "text": [
      "Epoch 7: 100%|██████████| 28/28 [00:01<00:00, 20.98it/s]\n"
     ]
    },
    {
     "name": "stdout",
     "output_type": "stream",
     "text": [
      "========\n",
      "Cost6.71\n",
      "======== \n",
      "\n",
      "===================\n",
      "Validation Cost7.53\n",
      "=================== \n",
      "\n"
     ]
    },
    {
     "name": "stderr",
     "output_type": "stream",
     "text": [
      "Epoch 8: 100%|██████████| 28/28 [00:01<00:00, 20.57it/s]\n"
     ]
    },
    {
     "name": "stdout",
     "output_type": "stream",
     "text": [
      "========\n",
      "Cost7.62\n",
      "======== \n",
      "\n",
      "===================\n",
      "Validation Cost6.08\n",
      "=================== \n",
      "\n"
     ]
    },
    {
     "name": "stderr",
     "output_type": "stream",
     "text": [
      "Epoch 9: 100%|██████████| 28/28 [00:01<00:00, 20.84it/s]\n"
     ]
    },
    {
     "name": "stdout",
     "output_type": "stream",
     "text": [
      "========\n",
      "Cost6.36\n",
      "======== \n",
      "\n",
      "===================\n",
      "Validation Cost5.15\n",
      "=================== \n",
      "\n"
     ]
    },
    {
     "name": "stderr",
     "output_type": "stream",
     "text": [
      "Epoch 10: 100%|██████████| 28/28 [00:01<00:00, 20.85it/s]\n"
     ]
    },
    {
     "name": "stdout",
     "output_type": "stream",
     "text": [
      "========\n",
      "Cost6.31\n",
      "======== \n",
      "\n",
      "===================\n",
      "Validation Cost5.48\n",
      "=================== \n",
      "\n"
     ]
    },
    {
     "name": "stderr",
     "output_type": "stream",
     "text": [
      "Epoch 11: 100%|██████████| 28/28 [00:01<00:00, 19.24it/s]\n"
     ]
    },
    {
     "name": "stdout",
     "output_type": "stream",
     "text": [
      "========\n",
      "Cost6.1\n",
      "======== \n",
      "\n",
      "===================\n",
      "Validation Cost4.4\n",
      "=================== \n",
      "\n"
     ]
    },
    {
     "name": "stderr",
     "output_type": "stream",
     "text": [
      "Epoch 12: 100%|██████████| 28/28 [00:01<00:00, 17.99it/s]\n"
     ]
    },
    {
     "name": "stdout",
     "output_type": "stream",
     "text": [
      "========\n",
      "Cost6.39\n",
      "======== \n",
      "\n",
      "===================\n",
      "Validation Cost4.82\n",
      "=================== \n",
      "\n"
     ]
    },
    {
     "name": "stderr",
     "output_type": "stream",
     "text": [
      "Epoch 13: 100%|██████████| 28/28 [00:01<00:00, 20.15it/s]\n"
     ]
    },
    {
     "name": "stdout",
     "output_type": "stream",
     "text": [
      "========\n",
      "Cost5.8\n",
      "======== \n",
      "\n",
      "===================\n",
      "Validation Cost4.93\n",
      "=================== \n",
      "\n"
     ]
    },
    {
     "name": "stderr",
     "output_type": "stream",
     "text": [
      "Epoch 14: 100%|██████████| 28/28 [00:01<00:00, 20.28it/s]\n"
     ]
    },
    {
     "name": "stdout",
     "output_type": "stream",
     "text": [
      "========\n",
      "Cost5.12\n",
      "======== \n",
      "\n",
      "===================\n",
      "Validation Cost7.08\n",
      "=================== \n",
      "\n"
     ]
    },
    {
     "name": "stderr",
     "output_type": "stream",
     "text": [
      "Epoch 15: 100%|██████████| 28/28 [00:01<00:00, 20.35it/s]\n"
     ]
    },
    {
     "name": "stdout",
     "output_type": "stream",
     "text": [
      "========\n",
      "Cost5.45\n",
      "======== \n",
      "\n",
      "===================\n",
      "Validation Cost3.97\n",
      "=================== \n",
      "\n"
     ]
    },
    {
     "name": "stderr",
     "output_type": "stream",
     "text": [
      "Epoch 16: 100%|██████████| 28/28 [00:01<00:00, 19.78it/s]\n"
     ]
    },
    {
     "name": "stdout",
     "output_type": "stream",
     "text": [
      "========\n",
      "Cost5.53\n",
      "======== \n",
      "\n",
      "===================\n",
      "Validation Cost4.78\n",
      "=================== \n",
      "\n"
     ]
    },
    {
     "name": "stderr",
     "output_type": "stream",
     "text": [
      "Epoch 17: 100%|██████████| 28/28 [00:01<00:00, 20.34it/s]\n"
     ]
    },
    {
     "name": "stdout",
     "output_type": "stream",
     "text": [
      "========\n",
      "Cost5.56\n",
      "======== \n",
      "\n",
      "===================\n",
      "Validation Cost3.78\n",
      "=================== \n",
      "\n"
     ]
    },
    {
     "name": "stderr",
     "output_type": "stream",
     "text": [
      "Epoch 18: 100%|██████████| 28/28 [00:01<00:00, 21.07it/s]\n"
     ]
    },
    {
     "name": "stdout",
     "output_type": "stream",
     "text": [
      "========\n",
      "Cost4.58\n",
      "======== \n",
      "\n",
      "===================\n",
      "Validation Cost5.15\n",
      "=================== \n",
      "\n"
     ]
    },
    {
     "name": "stderr",
     "output_type": "stream",
     "text": [
      "Epoch 19: 100%|██████████| 28/28 [00:01<00:00, 21.02it/s]\n"
     ]
    },
    {
     "name": "stdout",
     "output_type": "stream",
     "text": [
      "========\n",
      "Cost4.39\n",
      "======== \n",
      "\n",
      "===================\n",
      "Validation Cost4.74\n",
      "=================== \n",
      "\n"
     ]
    },
    {
     "name": "stderr",
     "output_type": "stream",
     "text": [
      "Epoch 20: 100%|██████████| 28/28 [00:01<00:00, 21.39it/s]\n"
     ]
    },
    {
     "name": "stdout",
     "output_type": "stream",
     "text": [
      "========\n",
      "Cost4.14\n",
      "======== \n",
      "\n",
      "===================\n",
      "Validation Cost3.79\n",
      "=================== \n",
      "\n"
     ]
    },
    {
     "name": "stderr",
     "output_type": "stream",
     "text": [
      "Epoch 21: 100%|██████████| 28/28 [00:01<00:00, 21.98it/s]\n"
     ]
    },
    {
     "name": "stdout",
     "output_type": "stream",
     "text": [
      "========\n",
      "Cost3.87\n",
      "======== \n",
      "\n",
      "===================\n",
      "Validation Cost3.72\n",
      "=================== \n",
      "\n"
     ]
    },
    {
     "name": "stderr",
     "output_type": "stream",
     "text": [
      "Epoch 22: 100%|██████████| 28/28 [00:01<00:00, 21.56it/s]\n"
     ]
    },
    {
     "name": "stdout",
     "output_type": "stream",
     "text": [
      "========\n",
      "Cost4.56\n",
      "======== \n",
      "\n",
      "===================\n",
      "Validation Cost3.57\n",
      "=================== \n",
      "\n"
     ]
    },
    {
     "name": "stderr",
     "output_type": "stream",
     "text": [
      "Epoch 23: 100%|██████████| 28/28 [00:01<00:00, 21.81it/s]\n"
     ]
    },
    {
     "name": "stdout",
     "output_type": "stream",
     "text": [
      "========\n",
      "Cost4.14\n",
      "======== \n",
      "\n",
      "===================\n",
      "Validation Cost5.37\n",
      "=================== \n",
      "\n"
     ]
    },
    {
     "name": "stderr",
     "output_type": "stream",
     "text": [
      "Epoch 24: 100%|██████████| 28/28 [00:01<00:00, 21.61it/s]\n"
     ]
    },
    {
     "name": "stdout",
     "output_type": "stream",
     "text": [
      "========\n",
      "Cost3.86\n",
      "======== \n",
      "\n",
      "===================\n",
      "Validation Cost4.09\n",
      "=================== \n",
      "\n"
     ]
    },
    {
     "name": "stderr",
     "output_type": "stream",
     "text": [
      "Epoch 25: 100%|██████████| 28/28 [00:01<00:00, 21.07it/s]\n"
     ]
    },
    {
     "name": "stdout",
     "output_type": "stream",
     "text": [
      "========\n",
      "Cost4.31\n",
      "======== \n",
      "\n",
      "===================\n",
      "Validation Cost4.3\n",
      "=================== \n",
      "\n"
     ]
    }
   ],
   "source": [
    "cost_value = np.empty(epochs)\n",
    "cost_valid_value = np.empty(epochs)\n",
    "\n",
    "for i in range(epochs):\n",
    "    t_cost = 0\n",
    "    for j, (x, y) in enumerate(tqdm(training_data, desc=f'Epoch {i+1}')):\n",
    "        x = x.to(device)\n",
    "        y = y.to(device)\n",
    "        # print(y)\n",
    "\n",
    "        p_value = model(x)\n",
    "\n",
    "        p_value = torch.transpose(p_value,0,1)\n",
    "        y = torch.transpose(y,0,1)\n",
    "        # print(p_value)\n",
    "        y = torch.argmax(y, dim = 1)\n",
    "        cost = loss_func(p_value, y)\n",
    "        \n",
    "        optimizer.zero_grad()\n",
    "        cost.backward()\n",
    "        optimizer.step()\n",
    "    \n",
    "        t_cost += cost.item()\n",
    "\n",
    "    cost_value[i] = t_cost/(j+1)\n",
    "        \n",
    "    print('========')\n",
    "    print(f'Cost{round(cost_value[i], 2)}')\n",
    "    print('========', '\\n')\n",
    "\n",
    "    with torch.no_grad():\n",
    "        v_cost = 0\n",
    "        for run, (a, b) in enumerate(validation_data):\n",
    "            a = a.to(device)\n",
    "            b = b.to(device)\n",
    "            \n",
    "            p_value = model(a)\n",
    "\n",
    "            p_value = torch.transpose(p_value,0,1)\n",
    "            b = torch.transpose(b,0,1)\n",
    "\n",
    "            b = torch.argmax(b, dim = 1)\n",
    "            cost_valid = loss_func(p_value, b)\n",
    "            \n",
    "            v_cost += cost_valid.item()\n",
    "            \n",
    "        cost_valid_value[i] = v_cost/(run+1)\n",
    "        \n",
    "        print('===================')\n",
    "        print(f'Validation Cost{round(cost_valid_value[i], 2)}')\n",
    "        print('===================', '\\n')"
   ]
  },
  {
   "cell_type": "code",
   "execution_count": 15,
   "metadata": {},
   "outputs": [
    {
     "data": {
      "image/png": "[encoded data removed]",
      "text/plain": [
       "<Figure size 640x480 with 1 Axes>"
      ]
     },
     "metadata": {},
     "output_type": "display_data"
    }
   ],
   "source": [
    "total_epoch = np.linspace(1, epochs, epochs)\n",
    "plt.title('Loss value to epoch')\n",
    "plt.plot(total_epoch, cost_value, label = 'Training Set')\n",
    "plt.plot(total_epoch, cost_valid_value, label = 'Validation Set')\n",
    "plt.xlabel('Epoch')\n",
    "plt.ylabel('Loss Value')\n",
    "plt.legend()\n",
    "# plt.savefig(OUT_BASE / 'Loss.png', bbox_inches = 'tight')\n",
    "plt.show()\n",
    "plt.close()"
   ]
  },
  {
   "cell_type": "markdown",
   "metadata": {},
   "source": [
    "-------"
   ]
  },
  {
   "cell_type": "markdown",
   "metadata": {},
   "source": []
  },
  {
   "cell_type": "code",
   "execution_count": 16,
   "metadata": {},
   "outputs": [
    {
     "name": "stderr",
     "output_type": "stream",
     "text": [
      "  0%|          | 0/7 [00:00<?, ?it/s]\n"
     ]
    },
    {
     "ename": "RuntimeError",
     "evalue": "The size of tensor a (2) must match the size of tensor b (3) at non-singleton dimension 1",
     "output_type": "error",
     "traceback": [
      "\u001b[1;31m---------------------------------------------------------------------------\u001b[0m",
      "\u001b[1;31mRuntimeError\u001b[0m                              Traceback (most recent call last)",
      "Cell \u001b[1;32mIn[16], line 15\u001b[0m\n\u001b[0;32m     12\u001b[0m     pred \u001b[38;5;241m=\u001b[39m F\u001b[38;5;241m.\u001b[39mone_hot(max_class)\n\u001b[0;32m     14\u001b[0m     \u001b[38;5;66;03m# Accumlating statical value\u001b[39;00m\n\u001b[1;32m---> 15\u001b[0m     metrix \u001b[38;5;241m+\u001b[39m\u001b[38;5;241m=\u001b[39m torch\u001b[38;5;241m.\u001b[39mmatmul(pred\u001b[38;5;241m.\u001b[39mT\u001b[38;5;241m.\u001b[39mtype(dtype), Real_label\u001b[38;5;241m.\u001b[39mtype(dtype))\n\u001b[0;32m     16\u001b[0m     num_count \u001b[38;5;241m+\u001b[39m\u001b[38;5;241m=\u001b[39m Real_label\u001b[38;5;241m.\u001b[39msum(axis\u001b[38;5;241m=\u001b[39m\u001b[38;5;241m0\u001b[39m)\n\u001b[0;32m     18\u001b[0m num_count \u001b[38;5;241m=\u001b[39m num_count\u001b[38;5;241m.\u001b[39mdetach()\u001b[38;5;241m.\u001b[39mcpu()\u001b[38;5;241m.\u001b[39mnumpy()\u001b[38;5;241m.\u001b[39mastype(\u001b[38;5;124m'\u001b[39m\u001b[38;5;124mfloat64\u001b[39m\u001b[38;5;124m'\u001b[39m)\n",
      "\u001b[1;31mRuntimeError\u001b[0m: The size of tensor a (2) must match the size of tensor b (3) at non-singleton dimension 1"
     ]
    }
   ],
   "source": [
    "metrix = torch.zeros([2,2]).to(device)\n",
    "num_count = torch.zeros([2]).to(device)\n",
    "dtype = torch.cuda.FloatTensor\n",
    "\n",
    "with torch.no_grad():\n",
    "    for num, (x, y) in enumerate(tqdm(validation_data)):\n",
    "        \n",
    "        Real_label = y.to(device)\n",
    "\n",
    "        # Convert sofmax output to onehot\n",
    "        max_class = torch.Tensor.argmax(model(x.to(device)), axis=1)\n",
    "        pred = F.one_hot(max_class)\n",
    "\n",
    "        # Accumlating statical value\n",
    "        metrix += torch.matmul(pred.T.type(dtype), Real_label.type(dtype))\n",
    "        num_count += Real_label.sum(axis=0)\n",
    "\n",
    "    num_count = num_count.detach().cpu().numpy().astype('float64')\n",
    "    metrix = metrix.detach().cpu().numpy().astype('float64')\n",
    "\n",
    "    \n",
    "# Normalizing confusion matrix\n",
    "metrix /= num_count\n",
    "\n",
    "# Plotting Scheme\n",
    "TPR = metrix[0,0]\n",
    "FAR = metrix[0,1]/(metrix[0,0] + metrix[0,1])\n",
    "\n",
    "    \n",
    "print(f'TPR: {TPR}')\n",
    "print(f'FAR: {FAR}')\n",
    "\n",
    "lab = np.array([['True P', 'False P'], ['False N', 'True N']])\n",
    "plt.figure()\n",
    "color = plt.pcolormesh([metrix[1], metrix[0]], cmap = 'Wistia', vmin=0, vmax=1)\n",
    "for i in range(2):\n",
    "    for j in range(2):\n",
    "        \n",
    "        plt.text(i+.5, j+.5, \n",
    "                 f'{lab[1-j,i]}\\n{round(metrix[1-j,i],3)}', \n",
    "                 ha = 'center', \n",
    "                 va = 'center')\n",
    "        \n",
    "plt.xticks([.5, 1.5], ['Injection', 'Noise'])\n",
    "plt.yticks([.5, 1.5], ['Noise', 'Injection'], rotation=45)\n",
    "plt.xlabel('Real Value')\n",
    "plt.ylabel('Predict', rotation=0)\n",
    "plt.title(\n",
    "    f'Validation set with:   TPR: {round(metrix[0, 0], 3)} FAR: {round(FAR, 3)}'\n",
    ")\n",
    "plt.colorbar(color)\n",
    "# plt.savefig(OUT_BASE / 'Validation set performance.png', bbox_inches = 'tight')\n",
    "plt.show()\n",
    "plt.close()"
   ]
  },
  {
   "cell_type": "code",
   "execution_count": null,
   "metadata": {},
   "outputs": [],
   "source": []
  }
 ],
 "metadata": {
  "kernelspec": {
   "display_name": "newenv",
   "language": "python",
   "name": "python3"
  },
  "language_info": {
   "codemirror_mode": {
    "name": "ipython",
    "version": 3
   },
   "file_extension": ".py",
   "mimetype": "text/x-python",
   "name": "python",
   "nbconvert_exporter": "python",
   "pygments_lexer": "ipython3",
   "version": "3.9.16"
  },
  "orig_nbformat": 4
 },
 "nbformat": 4,
 "nbformat_minor": 2
}
